{
 "cells": [
  {
   "cell_type": "markdown",
   "metadata": {},
   "source": [
    "# Modeling and Simulation in Python\n",
    "\n",
    "Chapter 8: Pharmacokinetics\n",
    "\n",
    "Copyright 2017 Allen Downey\n",
    "\n",
    "License: [Creative Commons Attribution 4.0 International](https://creativecommons.org/licenses/by/4.0)\n"
   ]
  },
  {
   "cell_type": "code",
   "execution_count": 1,
   "metadata": {
    "collapsed": true
   },
   "outputs": [],
   "source": [
    "# If you want the figures to appear in the notebook, \n",
    "# and you want to interact with them, use\n",
    "# %matplotlib notebook\n",
    "\n",
    "# If you want the figures to appear in the notebook, \n",
    "# and you don't want to interact with them, use\n",
    "# %matplotlib inline\n",
    "\n",
    "# If you want the figures to appear in separate windows, use\n",
    "# %matplotlib qt5\n",
    "\n",
    "# tempo switch from one to another, you have to select Kernel->Restart\n",
    "\n",
    "%matplotlib inline\n",
    "\n",
    "from modsim import *"
   ]
  },
  {
   "cell_type": "markdown",
   "metadata": {},
   "source": [
    "### Data\n",
    "\n",
    "We have data from Pacini and Bergman (1986), \"MINMOD: a computer program to calculate insulin sensitivity and pancreatic responsivity from the frequently sampled intravenous glucose tolerance test\", *Computer Methods and Programs in Biomedicine*, 23: 113-122.."
   ]
  },
  {
   "cell_type": "code",
   "execution_count": 2,
   "metadata": {},
   "outputs": [
    {
     "data": {
      "text/html": [
       "<div>\n",
       "<style>\n",
       "    .dataframe thead tr:only-child th {\n",
       "        text-align: right;\n",
       "    }\n",
       "\n",
       "    .dataframe thead th {\n",
       "        text-align: left;\n",
       "    }\n",
       "\n",
       "    .dataframe tbody tr th {\n",
       "        vertical-align: top;\n",
       "    }\n",
       "</style>\n",
       "<table border=\"1\" class=\"dataframe\">\n",
       "  <thead>\n",
       "    <tr style=\"text-align: right;\">\n",
       "      <th></th>\n",
       "      <th>glucose</th>\n",
       "      <th>insulin</th>\n",
       "    </tr>\n",
       "    <tr>\n",
       "      <th>time</th>\n",
       "      <th></th>\n",
       "      <th></th>\n",
       "    </tr>\n",
       "  </thead>\n",
       "  <tbody>\n",
       "    <tr>\n",
       "      <th>0</th>\n",
       "      <td>92</td>\n",
       "      <td>11</td>\n",
       "    </tr>\n",
       "    <tr>\n",
       "      <th>2</th>\n",
       "      <td>350</td>\n",
       "      <td>26</td>\n",
       "    </tr>\n",
       "    <tr>\n",
       "      <th>4</th>\n",
       "      <td>287</td>\n",
       "      <td>130</td>\n",
       "    </tr>\n",
       "    <tr>\n",
       "      <th>6</th>\n",
       "      <td>251</td>\n",
       "      <td>85</td>\n",
       "    </tr>\n",
       "    <tr>\n",
       "      <th>8</th>\n",
       "      <td>240</td>\n",
       "      <td>51</td>\n",
       "    </tr>\n",
       "    <tr>\n",
       "      <th>10</th>\n",
       "      <td>216</td>\n",
       "      <td>49</td>\n",
       "    </tr>\n",
       "    <tr>\n",
       "      <th>12</th>\n",
       "      <td>211</td>\n",
       "      <td>45</td>\n",
       "    </tr>\n",
       "    <tr>\n",
       "      <th>14</th>\n",
       "      <td>205</td>\n",
       "      <td>41</td>\n",
       "    </tr>\n",
       "    <tr>\n",
       "      <th>16</th>\n",
       "      <td>196</td>\n",
       "      <td>35</td>\n",
       "    </tr>\n",
       "    <tr>\n",
       "      <th>19</th>\n",
       "      <td>192</td>\n",
       "      <td>30</td>\n",
       "    </tr>\n",
       "    <tr>\n",
       "      <th>22</th>\n",
       "      <td>172</td>\n",
       "      <td>30</td>\n",
       "    </tr>\n",
       "    <tr>\n",
       "      <th>27</th>\n",
       "      <td>163</td>\n",
       "      <td>27</td>\n",
       "    </tr>\n",
       "    <tr>\n",
       "      <th>32</th>\n",
       "      <td>142</td>\n",
       "      <td>30</td>\n",
       "    </tr>\n",
       "    <tr>\n",
       "      <th>42</th>\n",
       "      <td>124</td>\n",
       "      <td>22</td>\n",
       "    </tr>\n",
       "    <tr>\n",
       "      <th>52</th>\n",
       "      <td>105</td>\n",
       "      <td>15</td>\n",
       "    </tr>\n",
       "    <tr>\n",
       "      <th>62</th>\n",
       "      <td>92</td>\n",
       "      <td>15</td>\n",
       "    </tr>\n",
       "    <tr>\n",
       "      <th>72</th>\n",
       "      <td>84</td>\n",
       "      <td>11</td>\n",
       "    </tr>\n",
       "    <tr>\n",
       "      <th>82</th>\n",
       "      <td>77</td>\n",
       "      <td>10</td>\n",
       "    </tr>\n",
       "    <tr>\n",
       "      <th>92</th>\n",
       "      <td>82</td>\n",
       "      <td>8</td>\n",
       "    </tr>\n",
       "    <tr>\n",
       "      <th>102</th>\n",
       "      <td>81</td>\n",
       "      <td>11</td>\n",
       "    </tr>\n",
       "    <tr>\n",
       "      <th>122</th>\n",
       "      <td>82</td>\n",
       "      <td>7</td>\n",
       "    </tr>\n",
       "    <tr>\n",
       "      <th>142</th>\n",
       "      <td>82</td>\n",
       "      <td>8</td>\n",
       "    </tr>\n",
       "    <tr>\n",
       "      <th>162</th>\n",
       "      <td>85</td>\n",
       "      <td>8</td>\n",
       "    </tr>\n",
       "    <tr>\n",
       "      <th>182</th>\n",
       "      <td>90</td>\n",
       "      <td>7</td>\n",
       "    </tr>\n",
       "  </tbody>\n",
       "</table>\n",
       "</div>"
      ],
      "text/plain": [
       "      glucose  insulin\n",
       "time                  \n",
       "0          92       11\n",
       "2         350       26\n",
       "4         287      130\n",
       "6         251       85\n",
       "8         240       51\n",
       "10        216       49\n",
       "12        211       45\n",
       "14        205       41\n",
       "16        196       35\n",
       "19        192       30\n",
       "22        172       30\n",
       "27        163       27\n",
       "32        142       30\n",
       "42        124       22\n",
       "52        105       15\n",
       "62         92       15\n",
       "72         84       11\n",
       "82         77       10\n",
       "92         82        8\n",
       "102        81       11\n",
       "122        82        7\n",
       "142        82        8\n",
       "162        85        8\n",
       "182        90        7"
      ]
     },
     "execution_count": 2,
     "metadata": {},
     "output_type": "execute_result"
    }
   ],
   "source": [
    "data = pd.read_csv('glucose_insulin.csv', index_col='time')\n",
    "data"
   ]
  },
  {
   "cell_type": "markdown",
   "metadata": {},
   "source": [
    "Here's what the glucose time series looks like."
   ]
  },
  {
   "cell_type": "code",
   "execution_count": 3,
   "metadata": {},
   "outputs": [
    {
     "data": {
      "image/png": "[encoded data removed]",
      "text/plain": [
       "<matplotlib.figure.Figure at 0x1fd8a859390>"
      ]
     },
     "metadata": {},
     "output_type": "display_data"
    }
   ],
   "source": [
    "plot(data.glucose, 'bo', label='glucose')\n",
    "decorate(xlabel='Time (min)',\n",
    "         ylabel='Concentration (mg/dL)')"
   ]
  },
  {
   "cell_type": "markdown",
   "metadata": {},
   "source": [
    "And the insulin time series."
   ]
  },
  {
   "cell_type": "code",
   "execution_count": 4,
   "metadata": {},
   "outputs": [
    {
     "data": {
      "image/png": "[encoded data removed]",
      "text/plain": [
       "<matplotlib.figure.Figure at 0x1fd8ad7d588>"
      ]
     },
     "metadata": {},
     "output_type": "display_data"
    }
   ],
   "source": [
    "plot(data.insulin, 'go', label='insulin')\n",
    "decorate(xlabel='Time (min)',\n",
    "         ylabel='Concentration ($\\mu$U/mL)')"
   ]
  },
  {
   "cell_type": "markdown",
   "metadata": {},
   "source": [
    "For the book, I put them in a single figure, using `subplot`"
   ]
  },
  {
   "cell_type": "code",
   "execution_count": 5,
   "metadata": {},
   "outputs": [
    {
     "name": "stdout",
     "output_type": "stream",
     "text": [
      "Saving figure to file chap08-fig01.pdf\n"
     ]
    },
    {
     "data": {
      "image/png": "[encoded data removed]",
      "text/plain": [
       "<matplotlib.figure.Figure at 0x1fd8ae395c0>"
      ]
     },
     "metadata": {},
     "output_type": "display_data"
    }
   ],
   "source": [
    "subplot(2, 1, 1)\n",
    "plot(data.glucose, 'bo', label='glucose')\n",
    "decorate(ylabel='mg/dL')\n",
    "\n",
    "subplot(2, 1, 2)\n",
    "plot(data.insulin, 'go', label='insulin')\n",
    "decorate(xlabel='Time (min)',\n",
    "         ylabel='$\\mu$U/mL')\n",
    "\n",
    "savefig('chap08-fig01.pdf')"
   ]
  },
  {
   "cell_type": "markdown",
   "metadata": {},
   "source": [
    "### Interpolation\n",
    "\n",
    "We have measurements of insulin concentration at discrete points in time, but we need to estimate it at intervening points.  We'll use `interpolate`, which is a wrapper for `scipy.interpolate.interp1d`"
   ]
  },
  {
   "cell_type": "code",
   "execution_count": 6,
   "metadata": {
    "collapsed": true
   },
   "outputs": [],
   "source": [
    "%psource interpolate"
   ]
  },
  {
   "cell_type": "markdown",
   "metadata": {},
   "source": [
    "The return value from `interpolate` is a function."
   ]
  },
  {
   "cell_type": "code",
   "execution_count": 7,
   "metadata": {
    "collapsed": true
   },
   "outputs": [],
   "source": [
    "I = interpolate(data.insulin)"
   ]
  },
  {
   "cell_type": "markdown",
   "metadata": {},
   "source": [
    "We can use the result, `I`, to estimate the insulin level at any point in time."
   ]
  },
  {
   "cell_type": "code",
   "execution_count": 8,
   "metadata": {
    "scrolled": true
   },
   "outputs": [
    {
     "data": {
      "text/plain": [
       "array(68.0)"
      ]
     },
     "execution_count": 8,
     "metadata": {},
     "output_type": "execute_result"
    }
   ],
   "source": [
    "I(7)"
   ]
  },
  {
   "cell_type": "markdown",
   "metadata": {},
   "source": [
    "`I` can also take an array of time and return an array of estimates, which we can plot."
   ]
  },
  {
   "cell_type": "code",
   "execution_count": 9,
   "metadata": {},
   "outputs": [
    {
     "name": "stdout",
     "output_type": "stream",
     "text": [
      "Saving figure to file chap08-fig02.pdf\n"
     ]
    },
    {
     "data": {
      "image/png": "[encoded data removed]",
      "text/plain": [
       "<matplotlib.figure.Figure at 0x1fd8b2f3320>"
      ]
     },
     "metadata": {},
     "output_type": "display_data"
    }
   ],
   "source": [
    "ts = linrange(0, 182, 2)\n",
    "\n",
    "plot(data.insulin, 'go', label='insulin data')\n",
    "plot(ts, I(ts), color='green', label='interpolated')\n",
    "\n",
    "decorate(xlabel='Time (min)',\n",
    "         ylabel='Concentration ($\\mu$U/mL)')\n",
    "\n",
    "savefig('chap08-fig02.pdf')"
   ]
  },
  {
   "cell_type": "markdown",
   "metadata": {},
   "source": [
    "**Exercise:** [Read the documentation](https://docs.scipy.org/doc/scipy/reference/generated/scipy.interpolate.interp1d.html) of `scipy.interpolate.interp1d`.  Pass a keyword argument to `interpolate` to specify one of the other kinds of interpolation, and run the code again to see what it looks like. "
   ]
  },
  {
   "cell_type": "code",
   "execution_count": 10,
   "metadata": {},
   "outputs": [
    {
     "data": {
      "image/png": "[encoded data removed]",
      "text/plain": [
       "<matplotlib.figure.Figure at 0x1fd8b111ba8>"
      ]
     },
     "metadata": {},
     "output_type": "display_data"
    }
   ],
   "source": [
    "I2 = interpolate(data.insulin, kind = 'quadratic')\n",
    "ts = linrange(0, 182, 2)\n",
    "\n",
    "plot(data.insulin, 'go', label='insulin data')\n",
    "plot(ts, I2(ts), color='green', label='interpolated')\n",
    "\n",
    "decorate(xlabel='Time (min)',\n",
    "         ylabel='Concentration ($\\mu$U/mL)')"
   ]
  },
  {
   "cell_type": "markdown",
   "metadata": {},
   "source": [
    "### The glucose minimal model\n",
    "\n",
    "I'll cheat by starting with parameters that fit the data roughly; then we'll see how to improve them."
   ]
  },
  {
   "cell_type": "code",
   "execution_count": 11,
   "metadata": {
    "collapsed": true
   },
   "outputs": [],
   "source": [
    "k1 = 0.03\n",
    "k2 = 0.02\n",
    "k3 = 1e-05\n",
    "G0 = 290"
   ]
  },
  {
   "cell_type": "markdown",
   "metadata": {},
   "source": [
    "To estimate basal levels, we'll use the concentrations at `t=0`."
   ]
  },
  {
   "cell_type": "code",
   "execution_count": 12,
   "metadata": {
    "collapsed": true
   },
   "outputs": [],
   "source": [
    "Gb = data.glucose[0]\n",
    "Ib = data.insulin[0]"
   ]
  },
  {
   "cell_type": "markdown",
   "metadata": {},
   "source": [
    "In the initial conditions, `X(0)=0` and `G(0)=G0`, where `G0` is one of the parameters we'll choose."
   ]
  },
  {
   "cell_type": "code",
   "execution_count": 13,
   "metadata": {
    "collapsed": true
   },
   "outputs": [],
   "source": [
    "init = State(G=G0, X=0)"
   ]
  },
  {
   "cell_type": "markdown",
   "metadata": {},
   "source": [
    "Here's the system object with all parameters and the interpolation object `I`."
   ]
  },
  {
   "cell_type": "code",
   "execution_count": 14,
   "metadata": {
    "collapsed": true
   },
   "outputs": [],
   "source": [
    "system = System(init=init, \n",
    "                k1=k1, k2=k2, k3=k3,\n",
    "                I=I, Gb=Gb, Ib=Ib,\n",
    "                t0=0, t_end=182, dt=2)"
   ]
  },
  {
   "cell_type": "markdown",
   "metadata": {},
   "source": [
    "And here's the update function.  Using `unpack` to make the system variables accessible without using dot notation, which makes the translation of the differential equations more readable and checkable."
   ]
  },
  {
   "cell_type": "code",
   "execution_count": 15,
   "metadata": {
    "collapsed": true
   },
   "outputs": [],
   "source": [
    "def update_func(state, t, system):\n",
    "    \"\"\"Updates the glucose minimal model.\n",
    "    \n",
    "    state: State object\n",
    "    t: time in min\n",
    "    system: System object\n",
    "    \n",
    "    returns: State object\n",
    "    \"\"\"\n",
    "    G, X = state\n",
    "    unpack(system)\n",
    "        \n",
    "    dGdt = -k1 * (G - Gb) - X*G\n",
    "    dXdt = k3 * (I(t) - Ib) - k2 * X\n",
    "    \n",
    "    G += dGdt * dt\n",
    "    X += dXdt * dt\n",
    "\n",
    "    return State(G=G, X=X)"
   ]
  },
  {
   "cell_type": "markdown",
   "metadata": {},
   "source": [
    "Before running the simulation, it is always a good idea to test the update function using the initial conditions.  In this case we can veryify that the results are at least qualitatively correct."
   ]
  },
  {
   "cell_type": "code",
   "execution_count": 16,
   "metadata": {},
   "outputs": [
    {
     "data": {
      "text/html": [
       "<div>\n",
       "<style>\n",
       "    .dataframe thead tr:only-child th {\n",
       "        text-align: right;\n",
       "    }\n",
       "\n",
       "    .dataframe thead th {\n",
       "        text-align: left;\n",
       "    }\n",
       "\n",
       "    .dataframe tbody tr th {\n",
       "        vertical-align: top;\n",
       "    }\n",
       "</style>\n",
       "<table border=\"1\" class=\"dataframe\">\n",
       "  <thead>\n",
       "    <tr style=\"text-align: right;\">\n",
       "      <th></th>\n",
       "      <th>value</th>\n",
       "    </tr>\n",
       "  </thead>\n",
       "  <tbody>\n",
       "    <tr>\n",
       "      <th>G</th>\n",
       "      <td>278.12</td>\n",
       "    </tr>\n",
       "    <tr>\n",
       "      <th>X</th>\n",
       "      <td>0.00</td>\n",
       "    </tr>\n",
       "  </tbody>\n",
       "</table>\n",
       "</div>"
      ],
      "text/plain": [
       "G    278.12\n",
       "X      0.00\n",
       "dtype: float64"
      ]
     },
     "execution_count": 16,
     "metadata": {},
     "output_type": "execute_result"
    }
   ],
   "source": [
    "update_func(init, 0, system)"
   ]
  },
  {
   "cell_type": "markdown",
   "metadata": {},
   "source": [
    "Now run simulation is pretty much the same as it always is."
   ]
  },
  {
   "cell_type": "code",
   "execution_count": 17,
   "metadata": {
    "collapsed": true
   },
   "outputs": [],
   "source": [
    "def run_simulation(system, update_func):\n",
    "    \"\"\"Runs a simulation of the system.\n",
    "    \n",
    "    Adds a TimeFrame to `system` as `results`\n",
    "    \n",
    "    system: System object\n",
    "    update_func: function that updates state\n",
    "    \"\"\"\n",
    "    unpack(system)\n",
    "    \n",
    "    frame = TimeFrame(columns=init.index)\n",
    "    frame.loc[t0] = init\n",
    "    ts = linrange(t0, t_end-dt, dt)\n",
    "    \n",
    "    for t in ts:\n",
    "        frame.loc[t+dt] = update_func(frame.loc[t], t, system)\n",
    "    \n",
    "    system.results = frame"
   ]
  },
  {
   "cell_type": "markdown",
   "metadata": {},
   "source": [
    "And here's how we run it.  `%time` is a Jupyter magic command that runs the function and reports its run time."
   ]
  },
  {
   "cell_type": "code",
   "execution_count": 18,
   "metadata": {},
   "outputs": [
    {
     "name": "stdout",
     "output_type": "stream",
     "text": [
      "Wall time: 160 ms\n"
     ]
    }
   ],
   "source": [
    "%time run_simulation(system, update_func)"
   ]
  },
  {
   "cell_type": "markdown",
   "metadata": {},
   "source": [
    "The results are in a `TimeFrame object` with one column per state variable."
   ]
  },
  {
   "cell_type": "code",
   "execution_count": 19,
   "metadata": {},
   "outputs": [
    {
     "data": {
      "text/html": [
       "<div>\n",
       "<style>\n",
       "    .dataframe thead tr:only-child th {\n",
       "        text-align: right;\n",
       "    }\n",
       "\n",
       "    .dataframe thead th {\n",
       "        text-align: left;\n",
       "    }\n",
       "\n",
       "    .dataframe tbody tr th {\n",
       "        vertical-align: top;\n",
       "    }\n",
       "</style>\n",
       "<table border=\"1\" class=\"dataframe\">\n",
       "  <thead>\n",
       "    <tr style=\"text-align: right;\">\n",
       "      <th></th>\n",
       "      <th>G</th>\n",
       "      <th>X</th>\n",
       "    </tr>\n",
       "  </thead>\n",
       "  <tbody>\n",
       "    <tr>\n",
       "      <th>0</th>\n",
       "      <td>290.000000</td>\n",
       "      <td>0.000000</td>\n",
       "    </tr>\n",
       "    <tr>\n",
       "      <th>2</th>\n",
       "      <td>278.120000</td>\n",
       "      <td>0.000000</td>\n",
       "    </tr>\n",
       "    <tr>\n",
       "      <th>4</th>\n",
       "      <td>266.952800</td>\n",
       "      <td>0.000300</td>\n",
       "    </tr>\n",
       "    <tr>\n",
       "      <th>6</th>\n",
       "      <td>256.295460</td>\n",
       "      <td>0.002668</td>\n",
       "    </tr>\n",
       "    <tr>\n",
       "      <th>8</th>\n",
       "      <td>245.070140</td>\n",
       "      <td>0.004041</td>\n",
       "    </tr>\n",
       "    <tr>\n",
       "      <th>10</th>\n",
       "      <td>233.905138</td>\n",
       "      <td>0.004680</td>\n",
       "    </tr>\n",
       "    <tr>\n",
       "      <th>12</th>\n",
       "      <td>223.201651</td>\n",
       "      <td>0.005252</td>\n",
       "    </tr>\n",
       "    <tr>\n",
       "      <th>14</th>\n",
       "      <td>212.984844</td>\n",
       "      <td>0.005722</td>\n",
       "    </tr>\n",
       "    <tr>\n",
       "      <th>16</th>\n",
       "      <td>203.288207</td>\n",
       "      <td>0.006093</td>\n",
       "    </tr>\n",
       "    <tr>\n",
       "      <th>18</th>\n",
       "      <td>194.133461</td>\n",
       "      <td>0.006330</td>\n",
       "    </tr>\n",
       "    <tr>\n",
       "      <th>20</th>\n",
       "      <td>185.547835</td>\n",
       "      <td>0.006490</td>\n",
       "    </tr>\n",
       "    <tr>\n",
       "      <th>22</th>\n",
       "      <td>177.526606</td>\n",
       "      <td>0.006610</td>\n",
       "    </tr>\n",
       "    <tr>\n",
       "      <th>24</th>\n",
       "      <td>170.048014</td>\n",
       "      <td>0.006726</td>\n",
       "    </tr>\n",
       "    <tr>\n",
       "      <th>26</th>\n",
       "      <td>163.077697</td>\n",
       "      <td>0.006813</td>\n",
       "    </tr>\n",
       "    <tr>\n",
       "      <th>28</th>\n",
       "      <td>156.590997</td>\n",
       "      <td>0.006872</td>\n",
       "    </tr>\n",
       "    <tr>\n",
       "      <th>30</th>\n",
       "      <td>150.563255</td>\n",
       "      <td>0.006929</td>\n",
       "    </tr>\n",
       "    <tr>\n",
       "      <th>32</th>\n",
       "      <td>144.962829</td>\n",
       "      <td>0.007008</td>\n",
       "    </tr>\n",
       "    <tr>\n",
       "      <th>34</th>\n",
       "      <td>139.753191</td>\n",
       "      <td>0.007108</td>\n",
       "    </tr>\n",
       "    <tr>\n",
       "      <th>36</th>\n",
       "      <td>134.901294</td>\n",
       "      <td>0.007172</td>\n",
       "    </tr>\n",
       "    <tr>\n",
       "      <th>38</th>\n",
       "      <td>130.392302</td>\n",
       "      <td>0.007201</td>\n",
       "    </tr>\n",
       "    <tr>\n",
       "      <th>40</th>\n",
       "      <td>126.210925</td>\n",
       "      <td>0.007197</td>\n",
       "    </tr>\n",
       "    <tr>\n",
       "      <th>42</th>\n",
       "      <td>122.341665</td>\n",
       "      <td>0.007161</td>\n",
       "    </tr>\n",
       "    <tr>\n",
       "      <th>44</th>\n",
       "      <td>118.769029</td>\n",
       "      <td>0.007094</td>\n",
       "    </tr>\n",
       "    <tr>\n",
       "      <th>46</th>\n",
       "      <td>115.477698</td>\n",
       "      <td>0.007003</td>\n",
       "    </tr>\n",
       "    <tr>\n",
       "      <th>48</th>\n",
       "      <td>112.451743</td>\n",
       "      <td>0.006887</td>\n",
       "    </tr>\n",
       "    <tr>\n",
       "      <th>50</th>\n",
       "      <td>109.675836</td>\n",
       "      <td>0.006747</td>\n",
       "    </tr>\n",
       "    <tr>\n",
       "      <th>52</th>\n",
       "      <td>107.135308</td>\n",
       "      <td>0.006585</td>\n",
       "    </tr>\n",
       "    <tr>\n",
       "      <th>54</th>\n",
       "      <td>104.816180</td>\n",
       "      <td>0.006402</td>\n",
       "    </tr>\n",
       "    <tr>\n",
       "      <th>56</th>\n",
       "      <td>102.705192</td>\n",
       "      <td>0.006226</td>\n",
       "    </tr>\n",
       "    <tr>\n",
       "      <th>58</th>\n",
       "      <td>100.784058</td>\n",
       "      <td>0.006057</td>\n",
       "    </tr>\n",
       "    <tr>\n",
       "      <th>...</th>\n",
       "      <td>...</td>\n",
       "      <td>...</td>\n",
       "    </tr>\n",
       "    <tr>\n",
       "      <th>124</th>\n",
       "      <td>86.390694</td>\n",
       "      <td>0.001095</td>\n",
       "    </tr>\n",
       "    <tr>\n",
       "      <th>126</th>\n",
       "      <td>86.538102</td>\n",
       "      <td>0.000973</td>\n",
       "    </tr>\n",
       "    <tr>\n",
       "      <th>128</th>\n",
       "      <td>86.697421</td>\n",
       "      <td>0.000858</td>\n",
       "    </tr>\n",
       "    <tr>\n",
       "      <th>130</th>\n",
       "      <td>86.866797</td>\n",
       "      <td>0.000750</td>\n",
       "    </tr>\n",
       "    <tr>\n",
       "      <th>132</th>\n",
       "      <td>87.044539</td>\n",
       "      <td>0.000648</td>\n",
       "    </tr>\n",
       "    <tr>\n",
       "      <th>134</th>\n",
       "      <td>87.229105</td>\n",
       "      <td>0.000552</td>\n",
       "    </tr>\n",
       "    <tr>\n",
       "      <th>136</th>\n",
       "      <td>87.419090</td>\n",
       "      <td>0.000462</td>\n",
       "    </tr>\n",
       "    <tr>\n",
       "      <th>138</th>\n",
       "      <td>87.613215</td>\n",
       "      <td>0.000377</td>\n",
       "    </tr>\n",
       "    <tr>\n",
       "      <th>140</th>\n",
       "      <td>87.810314</td>\n",
       "      <td>0.000298</td>\n",
       "    </tr>\n",
       "    <tr>\n",
       "      <th>142</th>\n",
       "      <td>88.009328</td>\n",
       "      <td>0.000224</td>\n",
       "    </tr>\n",
       "    <tr>\n",
       "      <th>144</th>\n",
       "      <td>88.209296</td>\n",
       "      <td>0.000155</td>\n",
       "    </tr>\n",
       "    <tr>\n",
       "      <th>146</th>\n",
       "      <td>88.409343</td>\n",
       "      <td>0.000089</td>\n",
       "    </tr>\n",
       "    <tr>\n",
       "      <th>148</th>\n",
       "      <td>88.609033</td>\n",
       "      <td>0.000026</td>\n",
       "    </tr>\n",
       "    <tr>\n",
       "      <th>150</th>\n",
       "      <td>88.807970</td>\n",
       "      <td>-0.000036</td>\n",
       "    </tr>\n",
       "    <tr>\n",
       "      <th>152</th>\n",
       "      <td>89.005799</td>\n",
       "      <td>-0.000094</td>\n",
       "    </tr>\n",
       "    <tr>\n",
       "      <th>154</th>\n",
       "      <td>89.202200</td>\n",
       "      <td>-0.000150</td>\n",
       "    </tr>\n",
       "    <tr>\n",
       "      <th>156</th>\n",
       "      <td>89.396887</td>\n",
       "      <td>-0.000204</td>\n",
       "    </tr>\n",
       "    <tr>\n",
       "      <th>158</th>\n",
       "      <td>89.589604</td>\n",
       "      <td>-0.000256</td>\n",
       "    </tr>\n",
       "    <tr>\n",
       "      <th>160</th>\n",
       "      <td>89.780123</td>\n",
       "      <td>-0.000306</td>\n",
       "    </tr>\n",
       "    <tr>\n",
       "      <th>162</th>\n",
       "      <td>89.968242</td>\n",
       "      <td>-0.000354</td>\n",
       "    </tr>\n",
       "    <tr>\n",
       "      <th>164</th>\n",
       "      <td>90.153784</td>\n",
       "      <td>-0.000400</td>\n",
       "    </tr>\n",
       "    <tr>\n",
       "      <th>166</th>\n",
       "      <td>90.336592</td>\n",
       "      <td>-0.000446</td>\n",
       "    </tr>\n",
       "    <tr>\n",
       "      <th>168</th>\n",
       "      <td>90.516892</td>\n",
       "      <td>-0.000492</td>\n",
       "    </tr>\n",
       "    <tr>\n",
       "      <th>170</th>\n",
       "      <td>90.694895</td>\n",
       "      <td>-0.000538</td>\n",
       "    </tr>\n",
       "    <tr>\n",
       "      <th>172</th>\n",
       "      <td>90.870797</td>\n",
       "      <td>-0.000585</td>\n",
       "    </tr>\n",
       "    <tr>\n",
       "      <th>174</th>\n",
       "      <td>91.044781</td>\n",
       "      <td>-0.000631</td>\n",
       "    </tr>\n",
       "    <tr>\n",
       "      <th>176</th>\n",
       "      <td>91.217018</td>\n",
       "      <td>-0.000678</td>\n",
       "    </tr>\n",
       "    <tr>\n",
       "      <th>178</th>\n",
       "      <td>91.387668</td>\n",
       "      <td>-0.000725</td>\n",
       "    </tr>\n",
       "    <tr>\n",
       "      <th>180</th>\n",
       "      <td>91.556880</td>\n",
       "      <td>-0.000772</td>\n",
       "    </tr>\n",
       "    <tr>\n",
       "      <th>182</th>\n",
       "      <td>91.724792</td>\n",
       "      <td>-0.000819</td>\n",
       "    </tr>\n",
       "  </tbody>\n",
       "</table>\n",
       "<p>92 rows × 2 columns</p>\n",
       "</div>"
      ],
      "text/plain": [
       "              G         X\n",
       "0    290.000000  0.000000\n",
       "2    278.120000  0.000000\n",
       "4    266.952800  0.000300\n",
       "6    256.295460  0.002668\n",
       "8    245.070140  0.004041\n",
       "10   233.905138  0.004680\n",
       "12   223.201651  0.005252\n",
       "14   212.984844  0.005722\n",
       "16   203.288207  0.006093\n",
       "18   194.133461  0.006330\n",
       "20   185.547835  0.006490\n",
       "22   177.526606  0.006610\n",
       "24   170.048014  0.006726\n",
       "26   163.077697  0.006813\n",
       "28   156.590997  0.006872\n",
       "30   150.563255  0.006929\n",
       "32   144.962829  0.007008\n",
       "34   139.753191  0.007108\n",
       "36   134.901294  0.007172\n",
       "38   130.392302  0.007201\n",
       "40   126.210925  0.007197\n",
       "42   122.341665  0.007161\n",
       "44   118.769029  0.007094\n",
       "46   115.477698  0.007003\n",
       "48   112.451743  0.006887\n",
       "50   109.675836  0.006747\n",
       "52   107.135308  0.006585\n",
       "54   104.816180  0.006402\n",
       "56   102.705192  0.006226\n",
       "58   100.784058  0.006057\n",
       "..          ...       ...\n",
       "124   86.390694  0.001095\n",
       "126   86.538102  0.000973\n",
       "128   86.697421  0.000858\n",
       "130   86.866797  0.000750\n",
       "132   87.044539  0.000648\n",
       "134   87.229105  0.000552\n",
       "136   87.419090  0.000462\n",
       "138   87.613215  0.000377\n",
       "140   87.810314  0.000298\n",
       "142   88.009328  0.000224\n",
       "144   88.209296  0.000155\n",
       "146   88.409343  0.000089\n",
       "148   88.609033  0.000026\n",
       "150   88.807970 -0.000036\n",
       "152   89.005799 -0.000094\n",
       "154   89.202200 -0.000150\n",
       "156   89.396887 -0.000204\n",
       "158   89.589604 -0.000256\n",
       "160   89.780123 -0.000306\n",
       "162   89.968242 -0.000354\n",
       "164   90.153784 -0.000400\n",
       "166   90.336592 -0.000446\n",
       "168   90.516892 -0.000492\n",
       "170   90.694895 -0.000538\n",
       "172   90.870797 -0.000585\n",
       "174   91.044781 -0.000631\n",
       "176   91.217018 -0.000678\n",
       "178   91.387668 -0.000725\n",
       "180   91.556880 -0.000772\n",
       "182   91.724792 -0.000819\n",
       "\n",
       "[92 rows x 2 columns]"
      ]
     },
     "execution_count": 19,
     "metadata": {},
     "output_type": "execute_result"
    }
   ],
   "source": [
    "system.results"
   ]
  },
  {
   "cell_type": "markdown",
   "metadata": {},
   "source": [
    "The following plot shows the results of the simulation along with the actual glucose data."
   ]
  },
  {
   "cell_type": "code",
   "execution_count": 20,
   "metadata": {},
   "outputs": [
    {
     "name": "stdout",
     "output_type": "stream",
     "text": [
      "Saving figure to file chap08-fig03.pdf\n"
     ]
    },
    {
     "data": {
      "image/png": "[encoded data removed]",
      "text/plain": [
       "<matplotlib.figure.Figure at 0x1fd8b2319b0>"
      ]
     },
     "metadata": {},
     "output_type": "display_data"
    }
   ],
   "source": [
    "subplot(2, 1, 1)\n",
    "\n",
    "plot(system.results.G, 'b-', label='simulation')\n",
    "plot(data.glucose, style='bo', label='glucose data')\n",
    "decorate(ylabel='mg/dL')\n",
    "\n",
    "subplot(2, 1, 2)\n",
    "\n",
    "plot(system.results.X, style='g-', label='remote insulin')\n",
    "\n",
    "decorate(xlabel='Time (min)', \n",
    "         ylabel='Arbitrary units')\n",
    "\n",
    "savefig('chap08-fig03.pdf')"
   ]
  },
  {
   "cell_type": "markdown",
   "metadata": {},
   "source": [
    "### Numerical solution\n",
    "\n",
    "We can do the same thing using `odeint`.  Instead of an update function, we provide a slope function that just evaluates the right-hand side of the differential equations.  We don't have to do the update part; `odeint` does it for us."
   ]
  },
  {
   "cell_type": "code",
   "execution_count": 21,
   "metadata": {
    "collapsed": true
   },
   "outputs": [],
   "source": [
    "def slope_func(state, t, system):\n",
    "    \"\"\"Computes derivatives of the glucose minimal model.\n",
    "    \n",
    "    state: State object\n",
    "    t: time in min\n",
    "    system: System object\n",
    "    \n",
    "    returns: derivatives of G and X\n",
    "    \"\"\"\n",
    "    G, X = state\n",
    "    unpack(system)\n",
    "    \n",
    "    dGdt = -k1 * (G - Gb) - X*G\n",
    "    dXdt = k3 * (I(t) - Ib) - k2 * X\n",
    "    \n",
    "    return dGdt, dXdt"
   ]
  },
  {
   "cell_type": "markdown",
   "metadata": {},
   "source": [
    "We can test the slope function with the initial conditions."
   ]
  },
  {
   "cell_type": "code",
   "execution_count": 22,
   "metadata": {},
   "outputs": [
    {
     "data": {
      "text/plain": [
       "(-5.9399999999999995, 0.0)"
      ]
     },
     "execution_count": 22,
     "metadata": {},
     "output_type": "execute_result"
    }
   ],
   "source": [
    "slope_func(init, 0, system)"
   ]
  },
  {
   "cell_type": "markdown",
   "metadata": {},
   "source": [
    "The `System` object we use with `run_odeint` is almost the same as the one we used with `run_simulation`, but instead of providing `t0`, `t_end`, and `dt`, we provide an array of times where we want to evaluate the solution.  In this case, we use `data.index`, so the results are evaluated at the same times as the measurements."
   ]
  },
  {
   "cell_type": "code",
   "execution_count": 23,
   "metadata": {
    "collapsed": true
   },
   "outputs": [],
   "source": [
    "system2 = System(init=init, \n",
    "                k1=k1, k2=k2, k3=k3,\n",
    "                I=I, Gb=Gb, Ib=Ib,\n",
    "                ts=data.index)"
   ]
  },
  {
   "cell_type": "markdown",
   "metadata": {},
   "source": [
    "`run_odeint` is a wrapper for `scipy.integrate.odeint`"
   ]
  },
  {
   "cell_type": "code",
   "execution_count": 24,
   "metadata": {
    "collapsed": true
   },
   "outputs": [],
   "source": [
    "%psource run_odeint"
   ]
  },
  {
   "cell_type": "markdown",
   "metadata": {},
   "source": [
    "Here's how we run it."
   ]
  },
  {
   "cell_type": "code",
   "execution_count": 25,
   "metadata": {},
   "outputs": [
    {
     "name": "stdout",
     "output_type": "stream",
     "text": [
      "Wall time: 115 ms\n"
     ]
    }
   ],
   "source": [
    "%time run_odeint(system2, slope_func)"
   ]
  },
  {
   "cell_type": "markdown",
   "metadata": {},
   "source": [
    "And here are the results."
   ]
  },
  {
   "cell_type": "code",
   "execution_count": 26,
   "metadata": {},
   "outputs": [
    {
     "data": {
      "text/html": [
       "<div>\n",
       "<style>\n",
       "    .dataframe thead tr:only-child th {\n",
       "        text-align: right;\n",
       "    }\n",
       "\n",
       "    .dataframe thead th {\n",
       "        text-align: left;\n",
       "    }\n",
       "\n",
       "    .dataframe tbody tr th {\n",
       "        vertical-align: top;\n",
       "    }\n",
       "</style>\n",
       "<table border=\"1\" class=\"dataframe\">\n",
       "  <thead>\n",
       "    <tr style=\"text-align: right;\">\n",
       "      <th></th>\n",
       "      <th>G</th>\n",
       "      <th>X</th>\n",
       "    </tr>\n",
       "    <tr>\n",
       "      <th>time</th>\n",
       "      <th></th>\n",
       "      <th></th>\n",
       "    </tr>\n",
       "  </thead>\n",
       "  <tbody>\n",
       "    <tr>\n",
       "      <th>0</th>\n",
       "      <td>290.000000</td>\n",
       "      <td>0.000000</td>\n",
       "    </tr>\n",
       "    <tr>\n",
       "      <th>2</th>\n",
       "      <td>278.441946</td>\n",
       "      <td>0.000148</td>\n",
       "    </tr>\n",
       "    <tr>\n",
       "      <th>4</th>\n",
       "      <td>267.246339</td>\n",
       "      <td>0.001463</td>\n",
       "    </tr>\n",
       "    <tr>\n",
       "      <th>6</th>\n",
       "      <td>255.791154</td>\n",
       "      <td>0.003294</td>\n",
       "    </tr>\n",
       "    <tr>\n",
       "      <th>8</th>\n",
       "      <td>244.385049</td>\n",
       "      <td>0.004280</td>\n",
       "    </tr>\n",
       "    <tr>\n",
       "      <th>10</th>\n",
       "      <td>233.385689</td>\n",
       "      <td>0.004877</td>\n",
       "    </tr>\n",
       "    <tr>\n",
       "      <th>12</th>\n",
       "      <td>222.875391</td>\n",
       "      <td>0.005391</td>\n",
       "    </tr>\n",
       "    <tr>\n",
       "      <th>14</th>\n",
       "      <td>212.883104</td>\n",
       "      <td>0.005807</td>\n",
       "    </tr>\n",
       "    <tr>\n",
       "      <th>16</th>\n",
       "      <td>203.432604</td>\n",
       "      <td>0.006108</td>\n",
       "    </tr>\n",
       "    <tr>\n",
       "      <th>19</th>\n",
       "      <td>190.311106</td>\n",
       "      <td>0.006378</td>\n",
       "    </tr>\n",
       "    <tr>\n",
       "      <th>22</th>\n",
       "      <td>178.430723</td>\n",
       "      <td>0.006560</td>\n",
       "    </tr>\n",
       "    <tr>\n",
       "      <th>27</th>\n",
       "      <td>161.141293</td>\n",
       "      <td>0.006767</td>\n",
       "    </tr>\n",
       "    <tr>\n",
       "      <th>32</th>\n",
       "      <td>146.627308</td>\n",
       "      <td>0.006957</td>\n",
       "    </tr>\n",
       "    <tr>\n",
       "      <th>42</th>\n",
       "      <td>124.272257</td>\n",
       "      <td>0.007043</td>\n",
       "    </tr>\n",
       "    <tr>\n",
       "      <th>52</th>\n",
       "      <td>109.125928</td>\n",
       "      <td>0.006436</td>\n",
       "    </tr>\n",
       "    <tr>\n",
       "      <th>62</th>\n",
       "      <td>99.310554</td>\n",
       "      <td>0.005632</td>\n",
       "    </tr>\n",
       "    <tr>\n",
       "      <th>72</th>\n",
       "      <td>93.102455</td>\n",
       "      <td>0.004786</td>\n",
       "    </tr>\n",
       "    <tr>\n",
       "      <th>82</th>\n",
       "      <td>89.434359</td>\n",
       "      <td>0.003872</td>\n",
       "    </tr>\n",
       "    <tr>\n",
       "      <th>92</th>\n",
       "      <td>87.498085</td>\n",
       "      <td>0.002986</td>\n",
       "    </tr>\n",
       "    <tr>\n",
       "      <th>102</th>\n",
       "      <td>86.712650</td>\n",
       "      <td>0.002313</td>\n",
       "    </tr>\n",
       "    <tr>\n",
       "      <th>122</th>\n",
       "      <td>86.844866</td>\n",
       "      <td>0.001199</td>\n",
       "    </tr>\n",
       "    <tr>\n",
       "      <th>142</th>\n",
       "      <td>88.356758</td>\n",
       "      <td>0.000232</td>\n",
       "    </tr>\n",
       "    <tr>\n",
       "      <th>162</th>\n",
       "      <td>90.136930</td>\n",
       "      <td>-0.000339</td>\n",
       "    </tr>\n",
       "    <tr>\n",
       "      <th>182</th>\n",
       "      <td>91.795663</td>\n",
       "      <td>-0.000810</td>\n",
       "    </tr>\n",
       "  </tbody>\n",
       "</table>\n",
       "</div>"
      ],
      "text/plain": [
       "               G         X\n",
       "time                      \n",
       "0     290.000000  0.000000\n",
       "2     278.441946  0.000148\n",
       "4     267.246339  0.001463\n",
       "6     255.791154  0.003294\n",
       "8     244.385049  0.004280\n",
       "10    233.385689  0.004877\n",
       "12    222.875391  0.005391\n",
       "14    212.883104  0.005807\n",
       "16    203.432604  0.006108\n",
       "19    190.311106  0.006378\n",
       "22    178.430723  0.006560\n",
       "27    161.141293  0.006767\n",
       "32    146.627308  0.006957\n",
       "42    124.272257  0.007043\n",
       "52    109.125928  0.006436\n",
       "62     99.310554  0.005632\n",
       "72     93.102455  0.004786\n",
       "82     89.434359  0.003872\n",
       "92     87.498085  0.002986\n",
       "102    86.712650  0.002313\n",
       "122    86.844866  0.001199\n",
       "142    88.356758  0.000232\n",
       "162    90.136930 -0.000339\n",
       "182    91.795663 -0.000810"
      ]
     },
     "execution_count": 26,
     "metadata": {},
     "output_type": "execute_result"
    }
   ],
   "source": [
    "system2.results"
   ]
  },
  {
   "cell_type": "markdown",
   "metadata": {},
   "source": [
    "Plotting the results from `run_simulation` and `run_odeint`, we can see that they are not very different."
   ]
  },
  {
   "cell_type": "code",
   "execution_count": 27,
   "metadata": {},
   "outputs": [
    {
     "data": {
      "image/png": "[encoded data removed]",
      "text/plain": [
       "<matplotlib.figure.Figure at 0x1fd8b239748>"
      ]
     },
     "metadata": {},
     "output_type": "display_data"
    }
   ],
   "source": [
    "plot(system.results.G, 'r-')\n",
    "plot(system2.results.G, 'yo')\n",
    "plot(data.glucose, 'bo')"
   ]
  },
  {
   "cell_type": "markdown",
   "metadata": {},
   "source": [
    "The differences are usually less than 1% and always less than 2%."
   ]
  },
  {
   "cell_type": "code",
   "execution_count": 28,
   "metadata": {},
   "outputs": [
    {
     "data": {
      "text/html": [
       "<div>\n",
       "<style>\n",
       "    .dataframe thead tr:only-child th {\n",
       "        text-align: right;\n",
       "    }\n",
       "\n",
       "    .dataframe thead th {\n",
       "        text-align: left;\n",
       "    }\n",
       "\n",
       "    .dataframe tbody tr th {\n",
       "        vertical-align: top;\n",
       "    }\n",
       "</style>\n",
       "<table border=\"1\" class=\"dataframe\">\n",
       "  <thead>\n",
       "    <tr style=\"text-align: right;\">\n",
       "      <th></th>\n",
       "      <th>G</th>\n",
       "      <th>X</th>\n",
       "    </tr>\n",
       "  </thead>\n",
       "  <tbody>\n",
       "    <tr>\n",
       "      <th>2</th>\n",
       "      <td>-0.115624</td>\n",
       "      <td>-100.000000</td>\n",
       "    </tr>\n",
       "    <tr>\n",
       "      <th>4</th>\n",
       "      <td>-0.109838</td>\n",
       "      <td>-79.488129</td>\n",
       "    </tr>\n",
       "    <tr>\n",
       "      <th>6</th>\n",
       "      <td>0.197156</td>\n",
       "      <td>-19.008861</td>\n",
       "    </tr>\n",
       "    <tr>\n",
       "      <th>8</th>\n",
       "      <td>0.280333</td>\n",
       "      <td>-5.584132</td>\n",
       "    </tr>\n",
       "    <tr>\n",
       "      <th>10</th>\n",
       "      <td>0.222571</td>\n",
       "      <td>-4.045820</td>\n",
       "    </tr>\n",
       "    <tr>\n",
       "      <th>12</th>\n",
       "      <td>0.146387</td>\n",
       "      <td>-2.574882</td>\n",
       "    </tr>\n",
       "    <tr>\n",
       "      <th>14</th>\n",
       "      <td>0.047791</td>\n",
       "      <td>-1.457351</td>\n",
       "    </tr>\n",
       "    <tr>\n",
       "      <th>16</th>\n",
       "      <td>-0.070980</td>\n",
       "      <td>-0.241936</td>\n",
       "    </tr>\n",
       "    <tr>\n",
       "      <th>22</th>\n",
       "      <td>-0.506705</td>\n",
       "      <td>0.770903</td>\n",
       "    </tr>\n",
       "    <tr>\n",
       "      <th>32</th>\n",
       "      <td>-1.135176</td>\n",
       "      <td>0.739019</td>\n",
       "    </tr>\n",
       "    <tr>\n",
       "      <th>42</th>\n",
       "      <td>-1.553518</td>\n",
       "      <td>1.669890</td>\n",
       "    </tr>\n",
       "    <tr>\n",
       "      <th>52</th>\n",
       "      <td>-1.824149</td>\n",
       "      <td>2.322664</td>\n",
       "    </tr>\n",
       "    <tr>\n",
       "      <th>62</th>\n",
       "      <td>-1.877001</td>\n",
       "      <td>1.900503</td>\n",
       "    </tr>\n",
       "    <tr>\n",
       "      <th>72</th>\n",
       "      <td>-1.764022</td>\n",
       "      <td>2.270604</td>\n",
       "    </tr>\n",
       "    <tr>\n",
       "      <th>82</th>\n",
       "      <td>-1.574539</td>\n",
       "      <td>2.091263</td>\n",
       "    </tr>\n",
       "    <tr>\n",
       "      <th>92</th>\n",
       "      <td>-1.346686</td>\n",
       "      <td>2.279411</td>\n",
       "    </tr>\n",
       "    <tr>\n",
       "      <th>102</th>\n",
       "      <td>-1.093100</td>\n",
       "      <td>0.658312</td>\n",
       "    </tr>\n",
       "    <tr>\n",
       "      <th>122</th>\n",
       "      <td>-0.676648</td>\n",
       "      <td>2.068862</td>\n",
       "    </tr>\n",
       "    <tr>\n",
       "      <th>142</th>\n",
       "      <td>-0.393212</td>\n",
       "      <td>-3.390112</td>\n",
       "    </tr>\n",
       "    <tr>\n",
       "      <th>162</th>\n",
       "      <td>-0.187146</td>\n",
       "      <td>4.346125</td>\n",
       "    </tr>\n",
       "    <tr>\n",
       "      <th>182</th>\n",
       "      <td>-0.077205</td>\n",
       "      <td>1.148839</td>\n",
       "    </tr>\n",
       "  </tbody>\n",
       "</table>\n",
       "</div>"
      ],
      "text/plain": [
       "            G           X\n",
       "2   -0.115624 -100.000000\n",
       "4   -0.109838  -79.488129\n",
       "6    0.197156  -19.008861\n",
       "8    0.280333   -5.584132\n",
       "10   0.222571   -4.045820\n",
       "12   0.146387   -2.574882\n",
       "14   0.047791   -1.457351\n",
       "16  -0.070980   -0.241936\n",
       "22  -0.506705    0.770903\n",
       "32  -1.135176    0.739019\n",
       "42  -1.553518    1.669890\n",
       "52  -1.824149    2.322664\n",
       "62  -1.877001    1.900503\n",
       "72  -1.764022    2.270604\n",
       "82  -1.574539    2.091263\n",
       "92  -1.346686    2.279411\n",
       "102 -1.093100    0.658312\n",
       "122 -0.676648    2.068862\n",
       "142 -0.393212   -3.390112\n",
       "162 -0.187146    4.346125\n",
       "182 -0.077205    1.148839"
      ]
     },
     "execution_count": 28,
     "metadata": {},
     "output_type": "execute_result"
    }
   ],
   "source": [
    "diff = system.results - system2.results\n",
    "percent_diff = diff / system2.results * 100\n",
    "percent_diff.dropna()"
   ]
  },
  {
   "cell_type": "markdown",
   "metadata": {},
   "source": [
    "**Exercise:** What happens to these errors if you run the simulation with a smaller value of `dt`?"
   ]
  },
  {
   "cell_type": "code",
   "execution_count": 29,
   "metadata": {},
   "outputs": [
    {
     "data": {
      "text/html": [
       "<div>\n",
       "<style>\n",
       "    .dataframe thead tr:only-child th {\n",
       "        text-align: right;\n",
       "    }\n",
       "\n",
       "    .dataframe thead th {\n",
       "        text-align: left;\n",
       "    }\n",
       "\n",
       "    .dataframe tbody tr th {\n",
       "        vertical-align: top;\n",
       "    }\n",
       "</style>\n",
       "<table border=\"1\" class=\"dataframe\">\n",
       "  <thead>\n",
       "    <tr style=\"text-align: right;\">\n",
       "      <th></th>\n",
       "      <th>G</th>\n",
       "      <th>X</th>\n",
       "    </tr>\n",
       "  </thead>\n",
       "  <tbody>\n",
       "    <tr>\n",
       "      <th>2.0</th>\n",
       "      <td>-0.024355</td>\n",
       "      <td>-24.503098</td>\n",
       "    </tr>\n",
       "    <tr>\n",
       "      <th>4.0</th>\n",
       "      <td>0.001998</td>\n",
       "      <td>-19.477825</td>\n",
       "    </tr>\n",
       "    <tr>\n",
       "      <th>6.0</th>\n",
       "      <td>0.060399</td>\n",
       "      <td>-4.663370</td>\n",
       "    </tr>\n",
       "    <tr>\n",
       "      <th>8.0</th>\n",
       "      <td>0.069468</td>\n",
       "      <td>-1.374614</td>\n",
       "    </tr>\n",
       "    <tr>\n",
       "      <th>10.0</th>\n",
       "      <td>0.054099</td>\n",
       "      <td>-0.997428</td>\n",
       "    </tr>\n",
       "    <tr>\n",
       "      <th>12.0</th>\n",
       "      <td>0.033978</td>\n",
       "      <td>-0.637032</td>\n",
       "    </tr>\n",
       "    <tr>\n",
       "      <th>14.0</th>\n",
       "      <td>0.008702</td>\n",
       "      <td>-0.362880</td>\n",
       "    </tr>\n",
       "    <tr>\n",
       "      <th>16.0</th>\n",
       "      <td>-0.021713</td>\n",
       "      <td>-0.064782</td>\n",
       "    </tr>\n",
       "    <tr>\n",
       "      <th>19.0</th>\n",
       "      <td>-0.074436</td>\n",
       "      <td>0.152854</td>\n",
       "    </tr>\n",
       "    <tr>\n",
       "      <th>22.0</th>\n",
       "      <td>-0.127640</td>\n",
       "      <td>0.153329</td>\n",
       "    </tr>\n",
       "    <tr>\n",
       "      <th>27.0</th>\n",
       "      <td>-0.209595</td>\n",
       "      <td>0.255111</td>\n",
       "    </tr>\n",
       "    <tr>\n",
       "      <th>32.0</th>\n",
       "      <td>-0.277239</td>\n",
       "      <td>0.134593</td>\n",
       "    </tr>\n",
       "    <tr>\n",
       "      <th>42.0</th>\n",
       "      <td>-0.379039</td>\n",
       "      <td>0.372308</td>\n",
       "    </tr>\n",
       "    <tr>\n",
       "      <th>52.0</th>\n",
       "      <td>-0.445636</td>\n",
       "      <td>0.537464</td>\n",
       "    </tr>\n",
       "    <tr>\n",
       "      <th>62.0</th>\n",
       "      <td>-0.458629</td>\n",
       "      <td>0.438228</td>\n",
       "    </tr>\n",
       "    <tr>\n",
       "      <th>72.0</th>\n",
       "      <td>-0.432721</td>\n",
       "      <td>0.531732</td>\n",
       "    </tr>\n",
       "    <tr>\n",
       "      <th>82.0</th>\n",
       "      <td>-0.387186</td>\n",
       "      <td>0.489863</td>\n",
       "    </tr>\n",
       "    <tr>\n",
       "      <th>92.0</th>\n",
       "      <td>-0.332265</td>\n",
       "      <td>0.534441</td>\n",
       "    </tr>\n",
       "    <tr>\n",
       "      <th>102.0</th>\n",
       "      <td>-0.269700</td>\n",
       "      <td>0.136737</td>\n",
       "    </tr>\n",
       "    <tr>\n",
       "      <th>122.0</th>\n",
       "      <td>-0.168502</td>\n",
       "      <td>0.473270</td>\n",
       "    </tr>\n",
       "    <tr>\n",
       "      <th>142.0</th>\n",
       "      <td>-0.098135</td>\n",
       "      <td>-0.925831</td>\n",
       "    </tr>\n",
       "    <tr>\n",
       "      <th>162.0</th>\n",
       "      <td>-0.047214</td>\n",
       "      <td>1.111370</td>\n",
       "    </tr>\n",
       "    <tr>\n",
       "      <th>182.0</th>\n",
       "      <td>-0.019950</td>\n",
       "      <td>0.295936</td>\n",
       "    </tr>\n",
       "  </tbody>\n",
       "</table>\n",
       "</div>"
      ],
      "text/plain": [
       "              G          X\n",
       "2.0   -0.024355 -24.503098\n",
       "4.0    0.001998 -19.477825\n",
       "6.0    0.060399  -4.663370\n",
       "8.0    0.069468  -1.374614\n",
       "10.0   0.054099  -0.997428\n",
       "12.0   0.033978  -0.637032\n",
       "14.0   0.008702  -0.362880\n",
       "16.0  -0.021713  -0.064782\n",
       "19.0  -0.074436   0.152854\n",
       "22.0  -0.127640   0.153329\n",
       "27.0  -0.209595   0.255111\n",
       "32.0  -0.277239   0.134593\n",
       "42.0  -0.379039   0.372308\n",
       "52.0  -0.445636   0.537464\n",
       "62.0  -0.458629   0.438228\n",
       "72.0  -0.432721   0.531732\n",
       "82.0  -0.387186   0.489863\n",
       "92.0  -0.332265   0.534441\n",
       "102.0 -0.269700   0.136737\n",
       "122.0 -0.168502   0.473270\n",
       "142.0 -0.098135  -0.925831\n",
       "162.0 -0.047214   1.111370\n",
       "182.0 -0.019950   0.295936"
      ]
     },
     "execution_count": 29,
     "metadata": {},
     "output_type": "execute_result"
    }
   ],
   "source": [
    "system3 = System(init=init, \n",
    "                k1=k1, k2=k2, k3=k3,\n",
    "                I=I, Gb=Gb, Ib=Ib,\n",
    "                t0=0, t_end=182, dt=.5)\n",
    "\n",
    "run_simulation(system3, update_func)\n",
    "\n",
    "diff = system3.results - system2.results\n",
    "\n",
    "percent_diff = diff / system2.results * 100\n",
    "percent_diff.dropna()"
   ]
  },
  {
   "cell_type": "markdown",
   "metadata": {},
   "source": [
    "### Optimization"
   ]
  },
  {
   "cell_type": "markdown",
   "metadata": {},
   "source": [
    "Now let's find the parameters that yield the best fit for the data."
   ]
  },
  {
   "cell_type": "code",
   "execution_count": 30,
   "metadata": {
    "collapsed": true
   },
   "outputs": [],
   "source": [
    "k1 = 0.03\n",
    "k2 = 0.02\n",
    "k3 = 1e-05\n",
    "G0 = 290"
   ]
  },
  {
   "cell_type": "markdown",
   "metadata": {},
   "source": [
    "Again, we'll get basal levels from the initial values."
   ]
  },
  {
   "cell_type": "code",
   "execution_count": 31,
   "metadata": {
    "collapsed": true
   },
   "outputs": [],
   "source": [
    "Gb = data.glucose[0]\n",
    "Ib = data.insulin[0]"
   ]
  },
  {
   "cell_type": "markdown",
   "metadata": {},
   "source": [
    "And the slope function is the same."
   ]
  },
  {
   "cell_type": "code",
   "execution_count": 32,
   "metadata": {
    "collapsed": true
   },
   "outputs": [],
   "source": [
    "def slope_func(state, t, system):\n",
    "    \"\"\"Computes derivatives of the glucose minimal model.\n",
    "    \n",
    "    state: State object\n",
    "    t: time in min\n",
    "    system: System object\n",
    "    \n",
    "    returns: derivatives of G and X\n",
    "    \"\"\"\n",
    "    G, X = state\n",
    "    unpack(system)\n",
    "    \n",
    "    dGdt = -k1 * (G - Gb) - X*G\n",
    "    dXdt = k3 * (I(t) - Ib) - k2 * X\n",
    "    \n",
    "    return dGdt, dXdt"
   ]
  },
  {
   "cell_type": "markdown",
   "metadata": {},
   "source": [
    "`make_system` takes the parameters and `DataFrame` and returns a `System` object."
   ]
  },
  {
   "cell_type": "code",
   "execution_count": 33,
   "metadata": {
    "collapsed": true
   },
   "outputs": [],
   "source": [
    "def make_system(G0, k1, k2, k3, data):\n",
    "    \"\"\"Makes a System object with the given parameters.\n",
    "    \n",
    "    G0: initial blood glucose\n",
    "    k1: rate parameter\n",
    "    k2: rate parameter\n",
    "    k3: rate parameter\n",
    "    data: DataFrame\n",
    "    \n",
    "    returns: System object\n",
    "    \"\"\"\n",
    "    init = State(G=G0, X=0)\n",
    "    system = System(init=init, \n",
    "                    k1=k1, k2=k2, k3=k3,\n",
    "                    Gb=Gb, Ib=Ib, \n",
    "                    I=interpolate(data.insulin),\n",
    "                    ts=data.index)\n",
    "    return system"
   ]
  },
  {
   "cell_type": "markdown",
   "metadata": {},
   "source": [
    "`error_func` takes the parameters and actual data, makes a `System` object and runs it, then compares the results of the simulation to the data.  It returns an array of errors."
   ]
  },
  {
   "cell_type": "code",
   "execution_count": 34,
   "metadata": {
    "collapsed": true
   },
   "outputs": [],
   "source": [
    "def error_func(params, data):\n",
    "    \"\"\"Computes an array of errors to be minimized.\n",
    "    \n",
    "    params: sequence of parameters\n",
    "    data: DataFrame of values to be matched\n",
    "    \n",
    "    returns: array of errors\n",
    "    \"\"\"\n",
    "    print(params)\n",
    "    \n",
    "    # make a System with the given parameters\n",
    "    system = make_system(*params, data)\n",
    "    \n",
    "    # solve the ODE\n",
    "    run_odeint(system, slope_func)\n",
    "    \n",
    "    # compute the difference between the model\n",
    "    # results and actual data\n",
    "    error = system.results.G - data.glucose\n",
    "    return error"
   ]
  },
  {
   "cell_type": "markdown",
   "metadata": {},
   "source": [
    "When we call `error_func`, we provide a sequence of parameters as a single object."
   ]
  },
  {
   "cell_type": "code",
   "execution_count": 35,
   "metadata": {},
   "outputs": [
    {
     "data": {
      "text/plain": [
       "(290, 0.03, 0.02, 1e-05)"
      ]
     },
     "execution_count": 35,
     "metadata": {},
     "output_type": "execute_result"
    }
   ],
   "source": [
    "params = G0, k1, k2, k3\n",
    "params"
   ]
  },
  {
   "cell_type": "markdown",
   "metadata": {},
   "source": [
    "Here's how that works:"
   ]
  },
  {
   "cell_type": "code",
   "execution_count": 36,
   "metadata": {},
   "outputs": [
    {
     "name": "stdout",
     "output_type": "stream",
     "text": [
      "(290, 0.03, 0.02, 1e-05)\n"
     ]
    },
    {
     "data": {
      "text/plain": [
       "time\n",
       "0      198.000000\n",
       "2      -71.558054\n",
       "4      -19.753661\n",
       "6        4.791154\n",
       "8        4.385049\n",
       "10      17.385689\n",
       "12      11.875391\n",
       "14       7.883104\n",
       "16       7.432604\n",
       "19      -1.688894\n",
       "22       6.430723\n",
       "27      -1.858707\n",
       "32       4.627308\n",
       "42       0.272257\n",
       "52       4.125928\n",
       "62       7.310554\n",
       "72       9.102455\n",
       "82      12.434359\n",
       "92       5.498085\n",
       "102      5.712650\n",
       "122      4.844866\n",
       "142      6.356758\n",
       "162      5.136930\n",
       "182      1.795663\n",
       "dtype: float64"
      ]
     },
     "execution_count": 36,
     "metadata": {},
     "output_type": "execute_result"
    }
   ],
   "source": [
    "error_func(params, data)"
   ]
  },
  {
   "cell_type": "markdown",
   "metadata": {},
   "source": [
    "`fit_leastsq` is a wrapper for `scipy.optimize.leastsq`"
   ]
  },
  {
   "cell_type": "code",
   "execution_count": 37,
   "metadata": {
    "collapsed": true
   },
   "outputs": [],
   "source": [
    "%psource fit_leastsq"
   ]
  },
  {
   "cell_type": "markdown",
   "metadata": {},
   "source": [
    "Here's how we call it."
   ]
  },
  {
   "cell_type": "code",
   "execution_count": 38,
   "metadata": {},
   "outputs": [
    {
     "name": "stdout",
     "output_type": "stream",
     "text": [
      "[  2.90000000e+02   3.00000000e-02   2.00000000e-02   1.00000000e-05]\n",
      "[  2.90000000e+02   3.00000000e-02   2.00000000e-02   1.00000000e-05]\n",
      "[  2.90000000e+02   3.00000000e-02   2.00000000e-02   1.00000000e-05]\n",
      "[  2.90000004e+02   3.00000000e-02   2.00000000e-02   1.00000000e-05]\n",
      "[  2.90000000e+02   3.00000004e-02   2.00000000e-02   1.00000000e-05]\n",
      "[  2.90000000e+02   3.00000000e-02   2.00000003e-02   1.00000000e-05]\n",
      "[  2.90000000e+02   3.00000000e-02   2.00000000e-02   1.00000001e-05]\n",
      "[  2.62493674e+02   2.01273810e-02   2.45144666e-03   1.92369457e-05]\n",
      "[  2.68162651e+02   2.74362052e-02   1.33003595e-02   1.34043117e-05]\n",
      "[  2.68162655e+02   2.74362052e-02   1.33003595e-02   1.34043117e-05]\n",
      "[  2.68162651e+02   2.74362056e-02   1.33003595e-02   1.34043117e-05]\n",
      "[  2.68162651e+02   2.74362052e-02   1.33003597e-02   1.34043117e-05]\n",
      "[  2.68162651e+02   2.74362052e-02   1.33003595e-02   1.34043119e-05]\n",
      "[  2.68130428e+02   2.67895726e-02   1.33400852e-02   1.32669041e-05]\n",
      "[  2.68130432e+02   2.67895726e-02   1.33400852e-02   1.32669041e-05]\n",
      "[  2.68130428e+02   2.67895730e-02   1.33400852e-02   1.32669041e-05]\n",
      "[  2.68130428e+02   2.67895726e-02   1.33400854e-02   1.32669041e-05]\n",
      "[  2.68130428e+02   2.67895726e-02   1.33400852e-02   1.32669043e-05]\n",
      "[  2.67997694e+02   2.67968711e-02   1.33402062e-02   1.32686682e-05]\n",
      "[  2.67997698e+02   2.67968711e-02   1.33402062e-02   1.32686682e-05]\n",
      "[  2.67997694e+02   2.67968715e-02   1.33402062e-02   1.32686682e-05]\n",
      "[  2.67997694e+02   2.67968711e-02   1.33402064e-02   1.32686682e-05]\n",
      "[  2.67997694e+02   2.67968711e-02   1.33402062e-02   1.32686684e-05]\n",
      "[  2.67672502e+02   2.67754695e-02   1.33462575e-02   1.30549489e-05]\n",
      "[  2.67672506e+02   2.67754695e-02   1.33462575e-02   1.30549489e-05]\n",
      "[  2.67672502e+02   2.67754699e-02   1.33462575e-02   1.30549489e-05]\n",
      "[  2.67672502e+02   2.67754695e-02   1.33462577e-02   1.30549489e-05]\n",
      "[  2.67672502e+02   2.67754695e-02   1.33462575e-02   1.30549491e-05]\n",
      "[  2.67217562e+02   2.67833180e-02   1.33475193e-02   1.30616267e-05]\n",
      "[  2.67217566e+02   2.67833180e-02   1.33475193e-02   1.30616267e-05]\n",
      "[  2.67217562e+02   2.67833184e-02   1.33475193e-02   1.30616267e-05]\n",
      "[  2.67217562e+02   2.67833180e-02   1.33475195e-02   1.30616267e-05]\n",
      "[  2.67217562e+02   2.67833180e-02   1.33475193e-02   1.30616269e-05]\n",
      "[  2.67287259e+02   2.67209458e-02   1.33503284e-02   1.30530005e-05]\n",
      "[  2.67287263e+02   2.67209458e-02   1.33503284e-02   1.30530005e-05]\n",
      "[  2.67287259e+02   2.67209462e-02   1.33503284e-02   1.30530005e-05]\n",
      "[  2.67287259e+02   2.67209458e-02   1.33503286e-02   1.30530005e-05]\n",
      "[  2.67287259e+02   2.67209458e-02   1.33503284e-02   1.30530007e-05]\n",
      "[  2.67150330e+02   2.67198062e-02   1.33530440e-02   1.30662792e-05]\n",
      "[  2.67150334e+02   2.67198062e-02   1.33530440e-02   1.30662792e-05]\n",
      "[  2.67150330e+02   2.67198066e-02   1.33530440e-02   1.30662792e-05]\n",
      "[  2.67150330e+02   2.67198062e-02   1.33530442e-02   1.30662792e-05]\n",
      "[  2.67150330e+02   2.67198062e-02   1.33530440e-02   1.30662794e-05]\n",
      "[  2.67031138e+02   2.67344531e-02   1.33552780e-02   1.30524942e-05]\n",
      "[  2.67031142e+02   2.67344531e-02   1.33552780e-02   1.30524942e-05]\n",
      "[  2.67031138e+02   2.67344535e-02   1.33552780e-02   1.30524942e-05]\n",
      "[  2.67031138e+02   2.67344531e-02   1.33552782e-02   1.30524942e-05]\n",
      "[  2.67031138e+02   2.67344531e-02   1.33552780e-02   1.30524944e-05]\n",
      "[  2.66888053e+02   2.67257875e-02   1.33549781e-02   1.30488748e-05]\n",
      "[  2.66888057e+02   2.67257875e-02   1.33549781e-02   1.30488748e-05]\n",
      "[  2.66888053e+02   2.67257879e-02   1.33549781e-02   1.30488748e-05]\n",
      "[  2.66888053e+02   2.67257875e-02   1.33549783e-02   1.30488748e-05]\n",
      "[  2.66888053e+02   2.67257875e-02   1.33549781e-02   1.30488750e-05]\n",
      "[  2.67051825e+02   2.67191080e-02   1.33461293e-02   1.30579252e-05]\n",
      "[  2.66963229e+02   2.67212042e-02   1.33508866e-02   1.30546038e-05]\n",
      "[  2.66905667e+02   2.67224599e-02   1.33542516e-02   1.30520001e-05]\n",
      "[  2.66883099e+02   2.67234411e-02   1.33554538e-02   1.30502048e-05]\n",
      "[  2.66883103e+02   2.67234411e-02   1.33554538e-02   1.30502048e-05]\n",
      "[  2.66883099e+02   2.67234415e-02   1.33554538e-02   1.30502048e-05]\n",
      "[  2.66883099e+02   2.67234411e-02   1.33554540e-02   1.30502048e-05]\n",
      "[  2.66883099e+02   2.67234411e-02   1.33554538e-02   1.30502050e-05]\n",
      "[  2.66864783e+02   2.67225047e-02   1.33553566e-02   1.30497446e-05]\n",
      "[  2.66864787e+02   2.67225047e-02   1.33553566e-02   1.30497446e-05]\n",
      "[  2.66864783e+02   2.67225051e-02   1.33553566e-02   1.30497446e-05]\n",
      "[  2.66864783e+02   2.67225047e-02   1.33553568e-02   1.30497446e-05]\n",
      "[  2.66864783e+02   2.67225047e-02   1.33553566e-02   1.30497448e-05]\n",
      "[  2.66873370e+02   2.67230918e-02   1.33554079e-02   1.30496018e-05]\n",
      "[  2.66869021e+02   2.67227906e-02   1.33553816e-02   1.30496750e-05]\n",
      "[  2.66866616e+02   2.67226275e-02   1.33553674e-02   1.30497147e-05]\n",
      "[  2.66865640e+02   2.67225620e-02   1.33553616e-02   1.30497307e-05]\n",
      "[  2.66865181e+02   2.67225313e-02   1.33553589e-02   1.30497381e-05]\n",
      "[  2.66864967e+02   2.67225170e-02   1.33553577e-02   1.30497416e-05]\n",
      "[  2.66864868e+02   2.67225104e-02   1.33553571e-02   1.30497432e-05]\n",
      "[  2.66864824e+02   2.67225075e-02   1.33553568e-02   1.30497439e-05]\n",
      "[  2.66864803e+02   2.67225061e-02   1.33553567e-02   1.30497443e-05]\n",
      "[  2.66864792e+02   2.67225053e-02   1.33553566e-02   1.30497445e-05]\n",
      "modsim.py: scipy.optimize.leastsq ran successfully\n",
      "                 and returned the following message:\n",
      "The relative error between two consecutive iterates is at most 0.000000\n",
      "Wall time: 7.79 s\n"
     ]
    }
   ],
   "source": [
    "%time best_params = fit_leastsq(error_func, params, data)"
   ]
  },
  {
   "cell_type": "markdown",
   "metadata": {},
   "source": [
    "Now that we have `best_params`, we can use it to make a `System` object and run it.\n",
    "\n",
    "We have to use the scatter operator, `*`, to make `best_params` behave like four separate parameters, rather than a single object."
   ]
  },
  {
   "cell_type": "code",
   "execution_count": 39,
   "metadata": {
    "collapsed": true
   },
   "outputs": [],
   "source": [
    "system = make_system(*best_params, data)\n",
    "run_odeint(system, slope_func)"
   ]
  },
  {
   "cell_type": "markdown",
   "metadata": {},
   "source": [
    "Here are the results, along with the data.  The first few points of the model don't fit the data, but we don't expect them to."
   ]
  },
  {
   "cell_type": "code",
   "execution_count": 40,
   "metadata": {},
   "outputs": [
    {
     "name": "stdout",
     "output_type": "stream",
     "text": [
      "Saving figure to file chap08-fig04.pdf\n"
     ]
    },
    {
     "data": {
      "image/png": "[encoded data removed]",
      "text/plain": [
       "<matplotlib.figure.Figure at 0x1fd8b50b0b8>"
      ]
     },
     "metadata": {},
     "output_type": "display_data"
    }
   ],
   "source": [
    "plot(system.results.G, label='simulation')\n",
    "plot(data.glucose, style='bo', label='glucose data')\n",
    "\n",
    "decorate(xlabel='Time (min)',\n",
    "         ylabel='Concentration (mg/dL)')\n",
    "\n",
    "savefig('chap08-fig04.pdf')"
   ]
  },
  {
   "cell_type": "markdown",
   "metadata": {},
   "source": [
    "**Exercise:** Since we don't expect the first few points to agree, it's probably better not to make them part of the optimization process.  We can ignore them by leaving them out of the `Series` returned by `error_func`.  Modify the last line of `error_func` to return `errors.loc[8:]`, which includes only the elements of the `Series` from `t=8` and up.\n",
    "\n",
    "Does that improve the quality of the fit?  Does it change the best parameters by much?\n",
    "\n",
    "Note: You can read more about this use of `loc` [in the Pandas documentation](https://pandas.pydata.org/pandas-docs/stable/indexing.html#indexing-integer)."
   ]
  },
  {
   "cell_type": "markdown",
   "metadata": {},
   "source": [
    "**It looks like it makes the fit a little better, and it changes the parameters by a small amount.**"
   ]
  },
  {
   "cell_type": "code",
   "execution_count": 41,
   "metadata": {
    "collapsed": true
   },
   "outputs": [],
   "source": [
    "def error_func(params, data):\n",
    "    \"\"\"Computes an array of errors to be minimized.\n",
    "    \n",
    "    params: sequence of parameters\n",
    "    data: DataFrame of values to be matched\n",
    "    \n",
    "    returns: array of errors\n",
    "    \"\"\"\n",
    "    print(params)\n",
    "    \n",
    "    # make a System with the given parameters\n",
    "    system = make_system(*params, data)\n",
    "    \n",
    "    # solve the ODE\n",
    "    run_odeint(system, slope_func)\n",
    "    \n",
    "    # compute the difference between the model\n",
    "    # results and actual data\n",
    "    error = system.results.G - data.glucose\n",
    "    return error.loc[8:]"
   ]
  },
  {
   "cell_type": "code",
   "execution_count": 42,
   "metadata": {},
   "outputs": [
    {
     "name": "stdout",
     "output_type": "stream",
     "text": [
      "[  2.90000000e+02   3.00000000e-02   2.00000000e-02   1.00000000e-05]\n",
      "[  2.90000000e+02   3.00000000e-02   2.00000000e-02   1.00000000e-05]\n",
      "[  2.90000000e+02   3.00000000e-02   2.00000000e-02   1.00000000e-05]\n",
      "[  2.90000004e+02   3.00000000e-02   2.00000000e-02   1.00000000e-05]\n",
      "[  2.90000000e+02   3.00000004e-02   2.00000000e-02   1.00000000e-05]\n",
      "[  2.90000000e+02   3.00000000e-02   2.00000003e-02   1.00000000e-05]\n",
      "[  2.90000000e+02   3.00000000e-02   2.00000000e-02   1.00000001e-05]\n",
      "[  2.78224727e+02   2.85801825e-02   1.61589429e-02   1.19289840e-05]\n",
      "[  2.78224731e+02   2.85801825e-02   1.61589429e-02   1.19289840e-05]\n",
      "[  2.78224727e+02   2.85801829e-02   1.61589429e-02   1.19289840e-05]\n",
      "[  2.78224727e+02   2.85801825e-02   1.61589432e-02   1.19289840e-05]\n",
      "[  2.78224727e+02   2.85801825e-02   1.61589429e-02   1.19289842e-05]\n",
      "[  2.71951893e+02   2.68943464e-02   1.28042303e-02   1.03928810e-05]\n",
      "[  2.71951897e+02   2.68943464e-02   1.28042303e-02   1.03928810e-05]\n",
      "[  2.71951893e+02   2.68943468e-02   1.28042303e-02   1.03928810e-05]\n",
      "[  2.71951893e+02   2.68943464e-02   1.28042305e-02   1.03928810e-05]\n",
      "[  2.71951893e+02   2.68943464e-02   1.28042303e-02   1.03928811e-05]\n",
      "[  2.71443394e+02   2.69030677e-02   1.26482637e-02   1.04193915e-05]\n",
      "[  2.71443398e+02   2.69030677e-02   1.26482637e-02   1.04193915e-05]\n",
      "[  2.71443394e+02   2.69030681e-02   1.26482637e-02   1.04193915e-05]\n",
      "[  2.71443394e+02   2.69030677e-02   1.26482639e-02   1.04193915e-05]\n",
      "[  2.71443394e+02   2.69030677e-02   1.26482637e-02   1.04193917e-05]\n",
      "[  2.71712741e+02   2.69019185e-02   1.24302337e-02   1.05307739e-05]\n",
      "[  2.71712745e+02   2.69019185e-02   1.24302337e-02   1.05307739e-05]\n",
      "[  2.71712741e+02   2.69019189e-02   1.24302337e-02   1.05307739e-05]\n",
      "[  2.71712741e+02   2.69019185e-02   1.24302339e-02   1.05307739e-05]\n",
      "[  2.71712741e+02   2.69019185e-02   1.24302337e-02   1.05307740e-05]\n",
      "[  2.71841622e+02   2.68015619e-02   1.21756047e-02   1.07056217e-05]\n",
      "[  2.71841626e+02   2.68015619e-02   1.21756047e-02   1.07056217e-05]\n",
      "[  2.71841622e+02   2.68015623e-02   1.21756047e-02   1.07056217e-05]\n",
      "[  2.71841622e+02   2.68015619e-02   1.21756049e-02   1.07056217e-05]\n",
      "[  2.71841622e+02   2.68015619e-02   1.21756047e-02   1.07056219e-05]\n",
      "[  2.71722563e+02   2.67317277e-02   1.18108500e-02   1.06903270e-05]\n",
      "[  2.71827386e+02   2.67803404e-02   1.19921543e-02   1.06990976e-05]\n",
      "[  2.71859602e+02   2.67976625e-02   1.20801103e-02   1.07032846e-05]\n",
      "[  2.71863092e+02   2.68026355e-02   1.21300274e-02   1.07056075e-05]\n",
      "[  2.71857182e+02   2.68027413e-02   1.21534664e-02   1.07066721e-05]\n",
      "[  2.71857186e+02   2.68027413e-02   1.21534664e-02   1.07066721e-05]\n",
      "[  2.71857182e+02   2.68027417e-02   1.21534664e-02   1.07066721e-05]\n",
      "[  2.71857182e+02   2.68027413e-02   1.21534666e-02   1.07066721e-05]\n",
      "[  2.71857182e+02   2.68027413e-02   1.21534664e-02   1.07066723e-05]\n",
      "[  2.71898905e+02   2.68013322e-02   1.21544446e-02   1.07084438e-05]\n",
      "[  2.71898909e+02   2.68013322e-02   1.21544446e-02   1.07084438e-05]\n",
      "[  2.71898905e+02   2.68013326e-02   1.21544446e-02   1.07084438e-05]\n",
      "[  2.71898905e+02   2.68013322e-02   1.21544448e-02   1.07084438e-05]\n",
      "[  2.71898905e+02   2.68013322e-02   1.21544446e-02   1.07084439e-05]\n",
      "[  2.71898433e+02   2.67985448e-02   1.21544443e-02   1.07084478e-05]\n",
      "[  2.71898437e+02   2.67985448e-02   1.21544443e-02   1.07084478e-05]\n",
      "[  2.71898433e+02   2.67985452e-02   1.21544443e-02   1.07084478e-05]\n",
      "[  2.71898433e+02   2.67985448e-02   1.21544444e-02   1.07084478e-05]\n",
      "[  2.71898433e+02   2.67985448e-02   1.21544443e-02   1.07084480e-05]\n",
      "[  2.71916930e+02   2.67987318e-02   1.21542838e-02   1.07088289e-05]\n",
      "[  2.71907097e+02   2.67986221e-02   1.21543757e-02   1.07086105e-05]\n",
      "[  2.71902239e+02   2.67985768e-02   1.21544154e-02   1.07085162e-05]\n",
      "[  2.71900248e+02   2.67985597e-02   1.21544307e-02   1.07084799e-05]\n",
      "[  2.71899292e+02   2.67985518e-02   1.21544379e-02   1.07084629e-05]\n",
      "[  2.71898837e+02   2.67985481e-02   1.21544413e-02   1.07084549e-05]\n",
      "[  2.71898624e+02   2.67985464e-02   1.21544429e-02   1.07084511e-05]\n",
      "[  2.71898523e+02   2.67985456e-02   1.21544436e-02   1.07084494e-05]\n",
      "[  2.71898476e+02   2.67985452e-02   1.21544440e-02   1.07084486e-05]\n",
      "[  2.71898453e+02   2.67985450e-02   1.21544441e-02   1.07084482e-05]\n",
      "modsim.py: scipy.optimize.leastsq ran successfully\n",
      "                 and returned the following message:\n",
      "The relative error between two consecutive iterates is at most 0.000000\n",
      "Wall time: 5.94 s\n"
     ]
    }
   ],
   "source": [
    "%time best_params = fit_leastsq(error_func, params, data)"
   ]
  },
  {
   "cell_type": "code",
   "execution_count": 43,
   "metadata": {},
   "outputs": [
    {
     "data": {
      "image/png": "[encoded data removed]",
      "text/plain": [
       "<matplotlib.figure.Figure at 0x1fd8ba90c18>"
      ]
     },
     "metadata": {},
     "output_type": "display_data"
    }
   ],
   "source": [
    "system = make_system(*best_params, data)\n",
    "run_odeint(system, slope_func)\n",
    "plot(system.results.G, label='simulation')\n",
    "plot(data.glucose, style='bo', label='glucose data')\n",
    "\n",
    "decorate(xlabel='Time (min)',\n",
    "         ylabel='Concentration (mg/dL)')"
   ]
  },
  {
   "cell_type": "markdown",
   "metadata": {},
   "source": [
    "**Exercise:** How sensitive are the results to the starting guess for the parameters.  If you try different values for the starting guess, do we get the same values for the best parameters?"
   ]
  },
  {
   "cell_type": "markdown",
   "metadata": {},
   "source": [
    "**No, you get different values for the best parameters and the results can be significantly off.**"
   ]
  },
  {
   "cell_type": "code",
   "execution_count": 44,
   "metadata": {},
   "outputs": [
    {
     "data": {
      "text/plain": [
       "(400, 0.02, 0.05, 2e-05)"
      ]
     },
     "execution_count": 44,
     "metadata": {},
     "output_type": "execute_result"
    }
   ],
   "source": [
    "k12 = 0.02\n",
    "k22 = 0.05\n",
    "k32 = 2e-05\n",
    "G02 = 400\n",
    "params2 = G02, k12, k22, k32\n",
    "params2"
   ]
  },
  {
   "cell_type": "code",
   "execution_count": 45,
   "metadata": {},
   "outputs": [
    {
     "name": "stdout",
     "output_type": "stream",
     "text": [
      "[  4.00000000e+02   2.00000000e-02   5.00000000e-02   2.00000000e-05]\n",
      "[  4.00000000e+02   2.00000000e-02   5.00000000e-02   2.00000000e-05]\n",
      "[  4.00000000e+02   2.00000000e-02   5.00000000e-02   2.00000000e-05]\n",
      "[  4.00000006e+02   2.00000000e-02   5.00000000e-02   2.00000000e-05]\n",
      "[  4.00000000e+02   2.00000003e-02   5.00000000e-02   2.00000000e-05]\n",
      "[  4.00000000e+02   2.00000000e-02   5.00000007e-02   2.00000000e-05]\n",
      "[  4.00000000e+02   2.00000000e-02   5.00000000e-02   2.00000003e-05]\n",
      "[  4.00968767e+02   2.00720485e-02   4.97903860e-02   2.00526716e-05]\n",
      "[  4.00931801e+02   2.00242938e-02   4.99329111e-02   2.00198937e-05]\n",
      "[  4.00543824e+02   2.00042228e-02   5.00067991e-02   1.99848415e-05]\n",
      "[  4.00240820e+02   2.00027428e-02   5.00056382e-02   1.99905060e-05]\n",
      "[  4.00112081e+02   2.00014779e-02   5.00031758e-02   1.99954733e-05]\n",
      "[  4.00057286e+02   2.00008044e-02   5.00017571e-02   1.99977050e-05]\n",
      "[  4.00024946e+02   2.00003638e-02   5.00008020e-02   1.99990110e-05]\n",
      "[  4.00012040e+02   2.00001783e-02   5.00003945e-02   1.99995253e-05]\n",
      "[  4.00005760e+02   2.00000859e-02   5.00001905e-02   1.99997735e-05]\n",
      "[  4.00002747e+02   2.00000411e-02   5.00000913e-02   1.99998921e-05]\n",
      "[  4.00001309e+02   2.00000196e-02   5.00000436e-02   1.99999486e-05]\n",
      "[  4.00000624e+02   2.00000094e-02   5.00000208e-02   1.99999755e-05]\n",
      "[  4.00000298e+02   2.00000045e-02   5.00000099e-02   1.99999883e-05]\n",
      "[  4.00000144e+02   2.00000022e-02   5.00000048e-02   1.99999944e-05]\n",
      "[  4.00000071e+02   2.00000011e-02   5.00000024e-02   1.99999972e-05]\n",
      "[  4.00000077e+02   2.00000011e-02   5.00000024e-02   1.99999972e-05]\n",
      "[  4.00000071e+02   2.00000014e-02   5.00000024e-02   1.99999972e-05]\n",
      "[  4.00000071e+02   2.00000011e-02   5.00000031e-02   1.99999972e-05]\n",
      "[  4.00000071e+02   2.00000011e-02   5.00000024e-02   1.99999975e-05]\n",
      "[  4.00000050e+02   2.00000001e-02   4.99999992e-02   1.99999976e-05]\n",
      "[  4.00000061e+02   2.00000006e-02   5.00000008e-02   1.99999974e-05]\n",
      "modsim.py: scipy.optimize.leastsq ran successfully\n",
      "                 and returned the following message:\n",
      "The relative error between two consecutive iterates is at most 0.000000\n",
      "Wall time: 2.82 s\n"
     ]
    }
   ],
   "source": [
    "%time best_params2 = fit_leastsq(error_func, params2, data)"
   ]
  },
  {
   "cell_type": "code",
   "execution_count": 46,
   "metadata": {},
   "outputs": [
    {
     "data": {
      "image/png": "[encoded data removed]",
      "text/plain": [
       "<matplotlib.figure.Figure at 0x1fd8cb341d0>"
      ]
     },
     "metadata": {},
     "output_type": "display_data"
    }
   ],
   "source": [
    "system = make_system(*best_params2, data)\n",
    "run_odeint(system, slope_func)\n",
    "plot(system.results.G, label='simulation')\n",
    "plot(data.glucose, style='bo', label='glucose data')\n",
    "\n",
    "decorate(xlabel='Time (min)',\n",
    "         ylabel='Concentration (mg/dL)')"
   ]
  },
  {
   "cell_type": "markdown",
   "metadata": {},
   "source": [
    "### Interpreting parameters\n",
    "\n",
    "Based on the parameters of the model, we can estimate glucose effectiveness and insulin sensitivity."
   ]
  },
  {
   "cell_type": "code",
   "execution_count": 47,
   "metadata": {
    "collapsed": true
   },
   "outputs": [],
   "source": [
    "def indices(G0, k1, k2, k3):\n",
    "    \"\"\"Compute glucose effectiveness and insulin sensitivity.\n",
    "    \n",
    "    G0: initial blood glucose\n",
    "    k1: rate parameter\n",
    "    k2: rate parameter\n",
    "    k3: rate parameter\n",
    "    data: DataFrame\n",
    "    \n",
    "    returns: State object containing S_G and S_I\n",
    "    \"\"\"\n",
    "    return State(S_G=k1, S_I=k3/k2)"
   ]
  },
  {
   "cell_type": "markdown",
   "metadata": {},
   "source": [
    "Here are the results."
   ]
  },
  {
   "cell_type": "code",
   "execution_count": 48,
   "metadata": {},
   "outputs": [
    {
     "data": {
      "text/html": [
       "<div>\n",
       "<style>\n",
       "    .dataframe thead tr:only-child th {\n",
       "        text-align: right;\n",
       "    }\n",
       "\n",
       "    .dataframe thead th {\n",
       "        text-align: left;\n",
       "    }\n",
       "\n",
       "    .dataframe tbody tr th {\n",
       "        vertical-align: top;\n",
       "    }\n",
       "</style>\n",
       "<table border=\"1\" class=\"dataframe\">\n",
       "  <thead>\n",
       "    <tr style=\"text-align: right;\">\n",
       "      <th></th>\n",
       "      <th>value</th>\n",
       "    </tr>\n",
       "  </thead>\n",
       "  <tbody>\n",
       "    <tr>\n",
       "      <th>S_G</th>\n",
       "      <td>0.026799</td>\n",
       "    </tr>\n",
       "    <tr>\n",
       "      <th>S_I</th>\n",
       "      <td>0.000881</td>\n",
       "    </tr>\n",
       "  </tbody>\n",
       "</table>\n",
       "</div>"
      ],
      "text/plain": [
       "S_G    0.026799\n",
       "S_I    0.000881\n",
       "dtype: float64"
      ]
     },
     "execution_count": 48,
     "metadata": {},
     "output_type": "execute_result"
    }
   ],
   "source": [
    "indices(*best_params)"
   ]
  },
  {
   "cell_type": "markdown",
   "metadata": {},
   "source": [
    "### The insulin minimal model\n",
    "\n",
    "In addition to the glucose minimal mode, Pacini and Bergman present an insulin minimal model, in which the concentration of insulin, $I$, is governed by this differential equation:\n",
    "\n",
    "$ \\frac{dI}{dt} = -k I(t) + \\gamma (G(t) - G_T) t $"
   ]
  },
  {
   "cell_type": "markdown",
   "metadata": {},
   "source": [
    "**Exercise:**  Write a version of `make_system` that takes the parameters of this model, `I0`, `k`, `gamma`, and `G_T` as parameters, along with a `DataFrame` containing the measurements, and returns a `System` object suitable for use with `run_simulation` or `run_odeint`.\n",
    "\n",
    "Use it to make a `System` object with the following parameters:"
   ]
  },
  {
   "cell_type": "code",
   "execution_count": 49,
   "metadata": {
    "collapsed": true
   },
   "outputs": [],
   "source": [
    "I0 = 360\n",
    "k = 0.25\n",
    "gamma = 0.004\n",
    "G_T = 80\n",
    "\n",
    "params3 = I0, k, gamma, G_T"
   ]
  },
  {
   "cell_type": "code",
   "execution_count": 50,
   "metadata": {
    "collapsed": true
   },
   "outputs": [],
   "source": [
    "def make_system(I0, k, gamma, G_T, data):\n",
    "    init = State(I=I0, G=G0)\n",
    "    system = System(init=init, \n",
    "                    k = k, gamma = gamma, G_T = G_T,\n",
    "                    Gb=Gb, Ib=Ib, \n",
    "                    G=interpolate(data.glucose),\n",
    "                    ts=data.index)\n",
    "    return system"
   ]
  },
  {
   "cell_type": "code",
   "execution_count": 51,
   "metadata": {
    "collapsed": true
   },
   "outputs": [],
   "source": [
    "system = make_system(I0, k, gamma, G_T, data)\n"
   ]
  },
  {
   "cell_type": "markdown",
   "metadata": {},
   "source": [
    "**Exercise:** Write a slope function that takes state, t, system as parameters and returns the derivative of `I` with respect to time.  Test your function with the initial condition $I(0)=360$."
   ]
  },
  {
   "cell_type": "code",
   "execution_count": 52,
   "metadata": {
    "collapsed": true
   },
   "outputs": [],
   "source": [
    "def slope_func(state, t, system):\n",
    "    I = state\n",
    "    unpack(system)\n",
    "    \n",
    "    dIdt = -k*I + gamma * (G(t)-G_T) * t\n",
    "    \n",
    "    return dIdt"
   ]
  },
  {
   "cell_type": "code",
   "execution_count": 53,
   "metadata": {},
   "outputs": [
    {
     "data": {
      "text/plain": [
       "G   -100.000018\n",
       "X      0.000000\n",
       "dtype: float64"
      ]
     },
     "execution_count": 53,
     "metadata": {},
     "output_type": "execute_result"
    }
   ],
   "source": [
    "slope_func(init, 0, system)"
   ]
  },
  {
   "cell_type": "markdown",
   "metadata": {},
   "source": [
    "**Exercise:** Run `run_odeint` with your `System` object and slope function, and plot the results, along with the measured insulin levels."
   ]
  },
  {
   "cell_type": "code",
   "execution_count": 54,
   "metadata": {},
   "outputs": [
    {
     "data": {
      "image/png": "[encoded data removed]",
      "text/plain": [
       "<matplotlib.figure.Figure at 0x1fd8cb3c3c8>"
      ]
     },
     "metadata": {},
     "output_type": "display_data"
    }
   ],
   "source": [
    "run_odeint(system, slope_func)\n",
    "plot(system.results.I, 'r-', label = 'interpolated')\n",
    "plot(data.insulin, 'bo', label = 'data')\n",
    "decorate(xlabel='Time (min)',\n",
    "         ylabel='Concentration ($\\mu$U/mL)')"
   ]
  },
  {
   "cell_type": "markdown",
   "metadata": {},
   "source": []
  },
  {
   "cell_type": "code",
   "execution_count": 55,
   "metadata": {},
   "outputs": [
    {
     "name": "stdout",
     "output_type": "stream",
     "text": [
      "Object `What` not found.\n"
     ]
    }
   ],
   "source": [
    "What?"
   ]
  },
  {
   "cell_type": "markdown",
   "metadata": {},
   "source": [
    "**Exercise:**  Write an error function that takes a sequence of parameters as an argument, along with the `DataFrame` containing the measurements.  It should make a `System` object with the given parameters, run it, and compute the difference between the results of the simulation and the measured values.  Test your error function by calling it with the parameters from the previous exercise.\n",
    "\n",
    "Hint: As we did in a previous exercise, you might want to drop the errors for times prior to `t=8`."
   ]
  },
  {
   "cell_type": "code",
   "execution_count": 56,
   "metadata": {
    "collapsed": true
   },
   "outputs": [],
   "source": [
    "def error_func(params, data):\n",
    "    print(params)\n",
    "    \n",
    "    system = make_system(*params, data)\n",
    "    \n",
    "    run_odeint(system, slope_func)\n",
    "    \n",
    "    error = system.results.I - data.insulin\n",
    "    return error.loc[8:]"
   ]
  },
  {
   "cell_type": "markdown",
   "metadata": {},
   "source": [
    "**Exercise:** Use `fit_leastsq` to find the parameters that best fit the data.  Make a `System` object with those parameters, run it, and plot the results along with the measurements."
   ]
  },
  {
   "cell_type": "code",
   "execution_count": 57,
   "metadata": {},
   "outputs": [
    {
     "name": "stdout",
     "output_type": "stream",
     "text": [
      "[  3.60000000e+02   2.50000000e-01   4.00000000e-03   8.00000000e+01]\n",
      "[  3.60000000e+02   2.50000000e-01   4.00000000e-03   8.00000000e+01]\n",
      "[  3.60000000e+02   2.50000000e-01   4.00000000e-03   8.00000000e+01]\n",
      "[  3.60000005e+02   2.50000000e-01   4.00000000e-03   8.00000000e+01]\n",
      "[  3.60000000e+02   2.50000004e-01   4.00000000e-03   8.00000000e+01]\n",
      "[  3.60000000e+02   2.50000000e-01   4.00000006e-03   8.00000000e+01]\n",
      "[  3.60000000e+02   2.50000000e-01   4.00000000e-03   8.00000012e+01]\n",
      "[  3.82083485e+02   2.52087416e-01   3.58675501e-03   7.97522679e+01]\n",
      "[  3.82083491e+02   2.52087416e-01   3.58675501e-03   7.97522679e+01]\n",
      "[  3.82083485e+02   2.52087420e-01   3.58675501e-03   7.97522679e+01]\n",
      "[  3.82083485e+02   2.52087416e-01   3.58675506e-03   7.97522679e+01]\n",
      "[  3.82083485e+02   2.52087416e-01   3.58675501e-03   7.97522691e+01]\n",
      "[  3.88662432e+02   2.52895293e-01   3.72487720e-03   8.07467504e+01]\n",
      "[  3.88662432e+02   2.52895293e-01   3.72487720e-03   8.07467504e+01]\n",
      "[  3.85202581e+02   2.52896197e-01   3.66253371e-03   8.01863388e+01]\n",
      "[  3.83511418e+02   2.52510328e-01   3.62310378e-03   7.99421909e+01]\n",
      "[  3.82738929e+02   2.52289816e-01   3.60373202e-03   7.98376373e+01]\n",
      "[  3.82383806e+02   2.52181686e-01   3.59459069e-03   7.97910085e+01]\n",
      "[  3.82220913e+02   2.52130858e-01   3.59035217e-03   7.97699176e+01]\n",
      "[  3.82146329e+02   2.52107343e-01   3.58840232e-03   7.97603226e+01]\n",
      "[  3.82112216e+02   2.52096539e-01   3.58750862e-03   7.97559469e+01]\n",
      "[  3.82095422e+02   2.52091209e-01   3.58706822e-03   7.97537958e+01]\n",
      "[  3.82088947e+02   2.52089152e-01   3.58689835e-03   7.97529669e+01]\n",
      "[  3.82085983e+02   2.52088210e-01   3.58682058e-03   7.97525876e+01]\n",
      "[  3.82084629e+02   2.52087780e-01   3.58678503e-03   7.97524143e+01]\n",
      "[  3.82084008e+02   2.52087582e-01   3.58676873e-03   7.97523348e+01]\n",
      "[  3.82083725e+02   2.52087492e-01   3.58676131e-03   7.97522986e+01]\n",
      "[  3.82083597e+02   2.52087452e-01   3.58675796e-03   7.97522823e+01]\n",
      "[  3.82083538e+02   2.52087433e-01   3.58675640e-03   7.97522747e+01]\n",
      "[  3.82083510e+02   2.52087424e-01   3.58675566e-03   7.97522710e+01]\n",
      "[  3.82083497e+02   2.52087420e-01   3.58675532e-03   7.97522694e+01]\n",
      "modsim.py: scipy.optimize.leastsq ran successfully\n",
      "                 and returned the following message:\n",
      "The relative error between two consecutive iterates is at most 0.000000\n"
     ]
    }
   ],
   "source": [
    "best_params3 = fit_leastsq(error_func, params3, data)"
   ]
  },
  {
   "cell_type": "code",
   "execution_count": 58,
   "metadata": {},
   "outputs": [
    {
     "data": {
      "image/png": "[encoded data removed]",
      "text/plain": [
       "<matplotlib.figure.Figure at 0x1fd8baab198>"
      ]
     },
     "metadata": {},
     "output_type": "display_data"
    }
   ],
   "source": [
    "system = make_system(*best_params3, data)\n",
    "run_odeint(system, slope_func)\n",
    "plot(system.results.I, label='simulation')\n",
    "plot(data.insulin, style='bo', label='insulin data')\n",
    "\n",
    "decorate(xlabel='Time (min)',\n",
    "         ylabel='Concentration($\\mu$U/mL)')"
   ]
  },
  {
   "cell_type": "markdown",
   "metadata": {},
   "source": [
    "**Exercise:** Using the best parameters, estimate the sensitivity to glucose of the first and second phase pancreatic responsivity:\n",
    "\n",
    "$ \\phi_1 = \\frac{I_{max} - I_b}{k (G_0 - G_b)} $\n",
    "\n",
    "$ \\phi_2 = \\gamma \\times 10^4 $"
   ]
  },
  {
   "cell_type": "code",
   "execution_count": 59,
   "metadata": {},
   "outputs": [
    {
     "data": {
      "text/plain": [
       "382.08348492494213"
      ]
     },
     "execution_count": 59,
     "metadata": {},
     "output_type": "execute_result"
    }
   ],
   "source": [
    "I_max = max(system.results.I)\n",
    "I_max"
   ]
  },
  {
   "cell_type": "code",
   "execution_count": 60,
   "metadata": {},
   "outputs": [
    {
     "data": {
      "text/plain": [
       "7.4345599768422783"
      ]
     },
     "execution_count": 60,
     "metadata": {},
     "output_type": "execute_result"
    }
   ],
   "source": [
    "first_phase = (I_max - Ib)/(k*(G0-Gb))\n",
    "first_phase"
   ]
  },
  {
   "cell_type": "code",
   "execution_count": 61,
   "metadata": {},
   "outputs": [
    {
     "data": {
      "text/plain": [
       "35.867550088632122"
      ]
     },
     "execution_count": 61,
     "metadata": {},
     "output_type": "execute_result"
    }
   ],
   "source": [
    "second_phase = gamma * 10**4\n",
    "second_phase"
   ]
  }
 ],
 "metadata": {
  "kernelspec": {
   "display_name": "Python 3",
   "language": "python",
   "name": "python3"
  },
  "language_info": {
   "codemirror_mode": {
    "name": "ipython",
    "version": 3
   },
   "file_extension": ".py",
   "mimetype": "text/x-python",
   "name": "python",
   "nbconvert_exporter": "python",
   "pygments_lexer": "ipython3",
   "version": "3.6.1"
  }
 },
 "nbformat": 4,
 "nbformat_minor": 1
}
