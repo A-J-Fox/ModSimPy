{
 "cells": [
  {
   "cell_type": "markdown",
   "metadata": {},
   "source": [
    "# Modeling and Simulation in Python\n",
    "\n",
    "Case study.\n",
    "\n",
    "Copyright 2017 Allen Downey\n",
    "\n",
    "License: [Creative Commons Attribution 4.0 International](https://creativecommons.org/licenses/by/4.0)\n"
   ]
  },
  {
   "cell_type": "code",
   "execution_count": 1,
   "metadata": {},
   "outputs": [],
   "source": [
    "# Configure Jupyter so figures appear in the notebook\n",
    "%matplotlib inline\n",
    "\n",
    "# Configure Jupyter to display the assigned value after an assignment\n",
    "%config InteractiveShell.ast_node_interactivity='last_expr_or_assign'\n",
    "\n",
    "# import functions from the modsim.py module\n",
    "from modsim import *"
   ]
  },
  {
   "cell_type": "markdown",
   "metadata": {},
   "source": [
    "### Unrolling\n",
    "\n",
    "Let's simulate a kitten unrolling toilet paper.  As reference material, see [this video](http://modsimpy.com/kitten).\n",
    "\n",
    "The interactions of the kitten and the paper roll are complex.  To keep things simple, let's assume that the kitten pulls down on the free end of the roll with constant force.  Also, we will neglect the friction between the roll and the axle.  \n",
    "\n",
    "![](diagrams/kitten.png)\n",
    "\n",
    "This figure shows the paper roll with $r$, $F$, and $\\tau$.  As a vector quantity, the direction of $\\tau$ is into the page, but we only care about its magnitude for now."
   ]
  },
  {
   "cell_type": "markdown",
   "metadata": {},
   "source": [
    "We'll start by loading the units we need."
   ]
  },
  {
   "cell_type": "code",
   "execution_count": 2,
   "metadata": {},
   "outputs": [
    {
     "data": {
      "text/html": [
       "newton"
      ],
      "text/latex": [
       "$\\mathrm{newton}$"
      ],
      "text/plain": [
       "<Unit('newton')>"
      ]
     },
     "execution_count": 2,
     "metadata": {},
     "output_type": "execute_result"
    }
   ],
   "source": [
    "radian = UNITS.radian\n",
    "m = UNITS.meter\n",
    "s = UNITS.second\n",
    "kg = UNITS.kilogram\n",
    "N = UNITS.newton"
   ]
  },
  {
   "cell_type": "markdown",
   "metadata": {},
   "source": [
    "And a few more parameters in the `Params` object."
   ]
  },
  {
   "cell_type": "code",
   "execution_count": 3,
   "metadata": {},
   "outputs": [
    {
     "data": {
      "text/html": [
       "<div>\n",
       "<style scoped>\n",
       "    .dataframe tbody tr th:only-of-type {\n",
       "        vertical-align: middle;\n",
       "    }\n",
       "\n",
       "    .dataframe tbody tr th {\n",
       "        vertical-align: top;\n",
       "    }\n",
       "\n",
       "    .dataframe thead th {\n",
       "        text-align: right;\n",
       "    }\n",
       "</style>\n",
       "<table border=\"1\" class=\"dataframe\">\n",
       "  <thead>\n",
       "    <tr style=\"text-align: right;\">\n",
       "      <th></th>\n",
       "      <th>values</th>\n",
       "    </tr>\n",
       "  </thead>\n",
       "  <tbody>\n",
       "    <tr>\n",
       "      <th>Rmin</th>\n",
       "      <td>0.02 meter</td>\n",
       "    </tr>\n",
       "    <tr>\n",
       "      <th>Rmax</th>\n",
       "      <td>0.055 meter</td>\n",
       "    </tr>\n",
       "    <tr>\n",
       "      <th>Mcore</th>\n",
       "      <td>0.015 kilogram</td>\n",
       "    </tr>\n",
       "    <tr>\n",
       "      <th>Mroll</th>\n",
       "      <td>0.215 kilogram</td>\n",
       "    </tr>\n",
       "    <tr>\n",
       "      <th>L</th>\n",
       "      <td>47 meter</td>\n",
       "    </tr>\n",
       "    <tr>\n",
       "      <th>tension</th>\n",
       "      <td>0.0002 newton</td>\n",
       "    </tr>\n",
       "    <tr>\n",
       "      <th>t_end</th>\n",
       "      <td>120 second</td>\n",
       "    </tr>\n",
       "  </tbody>\n",
       "</table>\n",
       "</div>"
      ],
      "text/plain": [
       "Rmin           0.02 meter\n",
       "Rmax          0.055 meter\n",
       "Mcore      0.015 kilogram\n",
       "Mroll      0.215 kilogram\n",
       "L                47 meter\n",
       "tension     0.0002 newton\n",
       "t_end          120 second\n",
       "dtype: object"
      ]
     },
     "execution_count": 3,
     "metadata": {},
     "output_type": "execute_result"
    }
   ],
   "source": [
    "params = Params(Rmin = 0.02 * m,\n",
    "                Rmax = 0.055 * m,\n",
    "                Mcore = 15e-3 * kg,\n",
    "                Mroll = 215e-3 * kg,\n",
    "                L = 47 * m,\n",
    "                tension = 2e-4 * N,\n",
    "                t_end = 120 * s)"
   ]
  },
  {
   "cell_type": "markdown",
   "metadata": {},
   "source": [
    "`make_system` computes `rho_h`, which we'll need to compute moment of inertia, and `k`, which we'll use to compute `r`."
   ]
  },
  {
   "cell_type": "code",
   "execution_count": 4,
   "metadata": {},
   "outputs": [],
   "source": [
    "def make_system(params):\n",
    "    \"\"\"Make a system object.\n",
    "    \n",
    "    params: Params with Rmin, Rmax, Mcore, Mroll,\n",
    "                              L, tension, and t_end\n",
    "    \n",
    "    returns: System with init, k, rho_h, Rmin, Rmax,\n",
    "                         Mcore, Mroll, ts\n",
    "    \"\"\"\n",
    "    L, Rmax, Rmin = params.L, params.Rmax, params.Rmin\n",
    "    Mroll = params.Mroll\n",
    "    \n",
    "    init = State(theta = 0 * radian,\n",
    "                 omega = 0 * radian/s,\n",
    "                 y = L)\n",
    "    \n",
    "    area = pi * (Rmax**2 - Rmin**2)\n",
    "    rho_h = Mroll / area\n",
    "    k = (Rmax**2 - Rmin**2) / 2 / L / radian    \n",
    "    \n",
    "    return System(params, init=init, area=area, rho_h=rho_h, k=k)"
   ]
  },
  {
   "cell_type": "markdown",
   "metadata": {},
   "source": [
    "Testing `make_system`"
   ]
  },
  {
   "cell_type": "code",
   "execution_count": 5,
   "metadata": {},
   "outputs": [
    {
     "data": {
      "text/html": [
       "<div>\n",
       "<style scoped>\n",
       "    .dataframe tbody tr th:only-of-type {\n",
       "        vertical-align: middle;\n",
       "    }\n",
       "\n",
       "    .dataframe tbody tr th {\n",
       "        vertical-align: top;\n",
       "    }\n",
       "\n",
       "    .dataframe thead th {\n",
       "        text-align: right;\n",
       "    }\n",
       "</style>\n",
       "<table border=\"1\" class=\"dataframe\">\n",
       "  <thead>\n",
       "    <tr style=\"text-align: right;\">\n",
       "      <th></th>\n",
       "      <th>values</th>\n",
       "    </tr>\n",
       "  </thead>\n",
       "  <tbody>\n",
       "    <tr>\n",
       "      <th>Rmin</th>\n",
       "      <td>0.02 meter</td>\n",
       "    </tr>\n",
       "    <tr>\n",
       "      <th>Rmax</th>\n",
       "      <td>0.055 meter</td>\n",
       "    </tr>\n",
       "    <tr>\n",
       "      <th>Mcore</th>\n",
       "      <td>0.015 kilogram</td>\n",
       "    </tr>\n",
       "    <tr>\n",
       "      <th>Mroll</th>\n",
       "      <td>0.215 kilogram</td>\n",
       "    </tr>\n",
       "    <tr>\n",
       "      <th>L</th>\n",
       "      <td>47 meter</td>\n",
       "    </tr>\n",
       "    <tr>\n",
       "      <th>tension</th>\n",
       "      <td>0.0002 newton</td>\n",
       "    </tr>\n",
       "    <tr>\n",
       "      <th>t_end</th>\n",
       "      <td>120 second</td>\n",
       "    </tr>\n",
       "    <tr>\n",
       "      <th>init</th>\n",
       "      <td>theta               0 radian\n",
       "omega    0.0 radi...</td>\n",
       "    </tr>\n",
       "    <tr>\n",
       "      <th>area</th>\n",
       "      <td>0.008246680715673206 meter ** 2</td>\n",
       "    </tr>\n",
       "    <tr>\n",
       "      <th>rho_h</th>\n",
       "      <td>26.07109543981524 kilogram / meter ** 2</td>\n",
       "    </tr>\n",
       "    <tr>\n",
       "      <th>k</th>\n",
       "      <td>2.7925531914893616e-05 meter / radian</td>\n",
       "    </tr>\n",
       "  </tbody>\n",
       "</table>\n",
       "</div>"
      ],
      "text/plain": [
       "Rmin                                              0.02 meter\n",
       "Rmax                                             0.055 meter\n",
       "Mcore                                         0.015 kilogram\n",
       "Mroll                                         0.215 kilogram\n",
       "L                                                   47 meter\n",
       "tension                                        0.0002 newton\n",
       "t_end                                             120 second\n",
       "init       theta               0 radian\n",
       "omega    0.0 radi...\n",
       "area                         0.008246680715673206 meter ** 2\n",
       "rho_h                26.07109543981524 kilogram / meter ** 2\n",
       "k                      2.7925531914893616e-05 meter / radian\n",
       "dtype: object"
      ]
     },
     "execution_count": 5,
     "metadata": {},
     "output_type": "execute_result"
    }
   ],
   "source": [
    "system = make_system(params)"
   ]
  },
  {
   "cell_type": "code",
   "execution_count": 6,
   "metadata": {},
   "outputs": [
    {
     "data": {
      "text/html": [
       "<div>\n",
       "<style scoped>\n",
       "    .dataframe tbody tr th:only-of-type {\n",
       "        vertical-align: middle;\n",
       "    }\n",
       "\n",
       "    .dataframe tbody tr th {\n",
       "        vertical-align: top;\n",
       "    }\n",
       "\n",
       "    .dataframe thead th {\n",
       "        text-align: right;\n",
       "    }\n",
       "</style>\n",
       "<table border=\"1\" class=\"dataframe\">\n",
       "  <thead>\n",
       "    <tr style=\"text-align: right;\">\n",
       "      <th></th>\n",
       "      <th>values</th>\n",
       "    </tr>\n",
       "  </thead>\n",
       "  <tbody>\n",
       "    <tr>\n",
       "      <th>theta</th>\n",
       "      <td>0 radian</td>\n",
       "    </tr>\n",
       "    <tr>\n",
       "      <th>omega</th>\n",
       "      <td>0.0 radian / second</td>\n",
       "    </tr>\n",
       "    <tr>\n",
       "      <th>y</th>\n",
       "      <td>47 meter</td>\n",
       "    </tr>\n",
       "  </tbody>\n",
       "</table>\n",
       "</div>"
      ],
      "text/plain": [
       "theta               0 radian\n",
       "omega    0.0 radian / second\n",
       "y                   47 meter\n",
       "dtype: object"
      ]
     },
     "execution_count": 6,
     "metadata": {},
     "output_type": "execute_result"
    }
   ],
   "source": [
    "system.init"
   ]
  },
  {
   "cell_type": "markdown",
   "metadata": {},
   "source": [
    "Here's how we compute `I` as a function of `r`:"
   ]
  },
  {
   "cell_type": "code",
   "execution_count": 7,
   "metadata": {},
   "outputs": [],
   "source": [
    "def moment_of_inertia(r, system):\n",
    "    \"\"\"Moment of inertia for a roll of toilet paper.\n",
    "    \n",
    "    r: current radius of roll in meters\n",
    "    system: System object with Mcore, rho, Rmin, Rmax\n",
    "    \n",
    "    returns: moment of inertia in kg m**2\n",
    "    \"\"\"\n",
    "    Mcore, Rmin, rho_h = system.Mcore, system.Rmin, system.rho_h\n",
    "    \n",
    "    Icore = Mcore * Rmin**2   \n",
    "    Iroll = pi * rho_h / 2 * (r**4 - Rmin**4)\n",
    "    return Icore + Iroll"
   ]
  },
  {
   "cell_type": "markdown",
   "metadata": {},
   "source": [
    "When `r` is `Rmin`, `I` is small."
   ]
  },
  {
   "cell_type": "code",
   "execution_count": 8,
   "metadata": {},
   "outputs": [
    {
     "data": {
      "text/html": [
       "6×10<sup>-6</sup> kilogram meter<sup>2</sup>"
      ],
      "text/latex": [
       "$6\\times 10^{-6}\\ \\mathrm{kilogram} \\cdot \\mathrm{meter}^{2}$"
      ],
      "text/plain": [
       "6e-06 <Unit('kilogram * meter ** 2')>"
      ]
     },
     "execution_count": 8,
     "metadata": {},
     "output_type": "execute_result"
    }
   ],
   "source": [
    "moment_of_inertia(system.Rmin, system)"
   ]
  },
  {
   "cell_type": "markdown",
   "metadata": {},
   "source": [
    "As `r` increases, so does `I`."
   ]
  },
  {
   "cell_type": "code",
   "execution_count": 9,
   "metadata": {},
   "outputs": [
    {
     "data": {
      "text/html": [
       "0.00037418750000000006 kilogram meter<sup>2</sup>"
      ],
      "text/latex": [
       "$0.00037418750000000006\\ \\mathrm{kilogram} \\cdot \\mathrm{meter}^{2}$"
      ],
      "text/plain": [
       "0.00037418750000000006 <Unit('kilogram * meter ** 2')>"
      ]
     },
     "execution_count": 9,
     "metadata": {},
     "output_type": "execute_result"
    }
   ],
   "source": [
    "moment_of_inertia(system.Rmax, system)"
   ]
  },
  {
   "cell_type": "markdown",
   "metadata": {},
   "source": [
    "## Exercises\n",
    "\n",
    "Write a slope function we can use to simulate this system.  Here are some suggestions and hints:\n",
    "\n",
    "* `r` is no longer part of the `State` object.  Instead, we compute `r` at each time step, based on the current value of `y`, using\n",
    "\n",
    "$y = \\frac{1}{2k} (r^2 - R_{min}^2)$\n",
    "\n",
    "* Angular velocity, `omega`, is no longer constant.  Instead, we compute torque, `tau`, and angular acceleration, `alpha`, at each time step.\n",
    "\n",
    "* I changed the definition of `theta` so positive values correspond to clockwise rotation, so `dydt = -r * omega`; that is, positive values of `omega` yield decreasing values of `y`, the amount of paper still on the roll.\n",
    "\n",
    "* Your slope function should return `omega`, `alpha`, and `dydt`, which are the derivatives of `theta`, `omega`, and `y`, respectively.\n",
    "\n",
    "* Because `r` changes over time, we have to compute moment of inertia, `I`, at each time step.\n",
    "\n",
    "That last point might be more of a problem than I have made it seem.  In the same way that $F = m a$ only applies when $m$ is constant, $\\tau = I \\alpha$ only applies when $I$ is constant.  When $I$ varies, we usually have to use a more general version of Newton's law.  However, I believe that in this example, mass and moment of inertia vary together in a way that makes the simple approach work out.  Not all of my collegues are convinced."
   ]
  },
  {
   "cell_type": "code",
   "execution_count": 10,
   "metadata": {},
   "outputs": [],
   "source": [
    "# Solution\n",
    "\n",
    "def slope_func(state, t, system):\n",
    "    \"\"\"Computes the derivatives of the state variables.\n",
    "    \n",
    "    state: State object with theta, omega, y\n",
    "    t: time\n",
    "    system: System object with Rmin, k, Mcore, rho_h, tension\n",
    "    \n",
    "    returns: sequence of derivatives\n",
    "    \"\"\"\n",
    "    theta, omega, y = state\n",
    "    k, Rmin, tension = system.k, system.Rmin, system.tension\n",
    "    \n",
    "    r = sqrt(2*k*y + Rmin**2)\n",
    "    I = moment_of_inertia(r, system)\n",
    "    tau = r * tension\n",
    "    alpha = tau / I\n",
    "    dydt = -r * omega\n",
    "    \n",
    "    return omega, alpha, dydt      "
   ]
  },
  {
   "cell_type": "markdown",
   "metadata": {},
   "source": [
    "Test `slope_func` with the initial conditions."
   ]
  },
  {
   "cell_type": "code",
   "execution_count": 11,
   "metadata": {},
   "outputs": [
    {
     "data": {
      "text/plain": [
       "(0.0 <Unit('radian / second')>,\n",
       " 0.02939702689159846 <Unit('newton / kilogram / meter / radian ** 0.5')>,\n",
       " -0.0 <Unit('meter * radian ** 0.5 / second')>)"
      ]
     },
     "execution_count": 11,
     "metadata": {},
     "output_type": "execute_result"
    }
   ],
   "source": [
    "# Solution\n",
    "\n",
    "slope_func(system.init, 0*s, system)"
   ]
  },
  {
   "cell_type": "markdown",
   "metadata": {},
   "source": [
    "Run the simulation."
   ]
  },
  {
   "cell_type": "code",
   "execution_count": 12,
   "metadata": {},
   "outputs": [
    {
     "data": {
      "text/html": [
       "<div>\n",
       "<style scoped>\n",
       "    .dataframe tbody tr th:only-of-type {\n",
       "        vertical-align: middle;\n",
       "    }\n",
       "\n",
       "    .dataframe tbody tr th {\n",
       "        vertical-align: top;\n",
       "    }\n",
       "\n",
       "    .dataframe thead th {\n",
       "        text-align: right;\n",
       "    }\n",
       "</style>\n",
       "<table border=\"1\" class=\"dataframe\">\n",
       "  <thead>\n",
       "    <tr style=\"text-align: right;\">\n",
       "      <th></th>\n",
       "      <th>values</th>\n",
       "    </tr>\n",
       "  </thead>\n",
       "  <tbody>\n",
       "    <tr>\n",
       "      <th>sol</th>\n",
       "      <td>None</td>\n",
       "    </tr>\n",
       "    <tr>\n",
       "      <th>t_events</th>\n",
       "      <td>[]</td>\n",
       "    </tr>\n",
       "    <tr>\n",
       "      <th>nfev</th>\n",
       "      <td>92</td>\n",
       "    </tr>\n",
       "    <tr>\n",
       "      <th>njev</th>\n",
       "      <td>0</td>\n",
       "    </tr>\n",
       "    <tr>\n",
       "      <th>nlu</th>\n",
       "      <td>0</td>\n",
       "    </tr>\n",
       "    <tr>\n",
       "      <th>status</th>\n",
       "      <td>0</td>\n",
       "    </tr>\n",
       "    <tr>\n",
       "      <th>message</th>\n",
       "      <td>The solver successfully reached the end of the...</td>\n",
       "    </tr>\n",
       "    <tr>\n",
       "      <th>success</th>\n",
       "      <td>True</td>\n",
       "    </tr>\n",
       "  </tbody>\n",
       "</table>\n",
       "</div>"
      ],
      "text/plain": [
       "sol                                                      None\n",
       "t_events                                                   []\n",
       "nfev                                                       92\n",
       "njev                                                        0\n",
       "nlu                                                         0\n",
       "status                                                      0\n",
       "message     The solver successfully reached the end of the...\n",
       "success                                                  True\n",
       "dtype: object"
      ]
     },
     "execution_count": 12,
     "metadata": {},
     "output_type": "execute_result"
    }
   ],
   "source": [
    "# Solution\n",
    "\n",
    "results, details = run_ode_solver(system, slope_func, max_step=10)\n",
    "details"
   ]
  },
  {
   "cell_type": "markdown",
   "metadata": {},
   "source": [
    "And look at the results."
   ]
  },
  {
   "cell_type": "code",
   "execution_count": 13,
   "metadata": {},
   "outputs": [
    {
     "data": {
      "text/html": [
       "<div>\n",
       "<style scoped>\n",
       "    .dataframe tbody tr th:only-of-type {\n",
       "        vertical-align: middle;\n",
       "    }\n",
       "\n",
       "    .dataframe tbody tr th {\n",
       "        vertical-align: top;\n",
       "    }\n",
       "\n",
       "    .dataframe thead th {\n",
       "        text-align: right;\n",
       "    }\n",
       "</style>\n",
       "<table border=\"1\" class=\"dataframe\">\n",
       "  <thead>\n",
       "    <tr style=\"text-align: right;\">\n",
       "      <th></th>\n",
       "      <th>theta</th>\n",
       "      <th>omega</th>\n",
       "      <th>y</th>\n",
       "    </tr>\n",
       "  </thead>\n",
       "  <tbody>\n",
       "    <tr>\n",
       "      <th>83.775812</th>\n",
       "      <td>106.019</td>\n",
       "      <td>2.60318</td>\n",
       "      <td>41.3259</td>\n",
       "    </tr>\n",
       "    <tr>\n",
       "      <th>93.775812</th>\n",
       "      <td>133.812</td>\n",
       "      <td>2.95813</td>\n",
       "      <td>39.8903</td>\n",
       "    </tr>\n",
       "    <tr>\n",
       "      <th>103.775812</th>\n",
       "      <td>165.241</td>\n",
       "      <td>3.33074</td>\n",
       "      <td>38.293</td>\n",
       "    </tr>\n",
       "    <tr>\n",
       "      <th>113.775812</th>\n",
       "      <td>200.498</td>\n",
       "      <td>3.72467</td>\n",
       "      <td>36.5339</td>\n",
       "    </tr>\n",
       "    <tr>\n",
       "      <th>120.000000</th>\n",
       "      <td>224.478</td>\n",
       "      <td>3.98256</td>\n",
       "      <td>35.3573</td>\n",
       "    </tr>\n",
       "  </tbody>\n",
       "</table>\n",
       "</div>"
      ],
      "text/plain": [
       "              theta    omega        y\n",
       "83.775812   106.019  2.60318  41.3259\n",
       "93.775812   133.812  2.95813  39.8903\n",
       "103.775812  165.241  3.33074   38.293\n",
       "113.775812  200.498  3.72467  36.5339\n",
       "120.000000  224.478  3.98256  35.3573"
      ]
     },
     "execution_count": 13,
     "metadata": {},
     "output_type": "execute_result"
    }
   ],
   "source": [
    "results.tail()"
   ]
  },
  {
   "cell_type": "markdown",
   "metadata": {},
   "source": [
    "Check the results to see if they seem plausible:\n",
    "\n",
    "* The final value of `theta` should be about 220 radians.\n",
    "\n",
    "* The final value of `omega` should be near 4 radians/second, which is less one revolution per second, so that seems plausible.\n",
    "\n",
    "* The final value of `y` should be about 35 meters of paper left on the roll, which means the kitten pulls off 12 meters in two minutes.  That doesn't seem impossible, although it is based on a level of consistency and focus that is unlikely in a kitten.\n",
    "\n",
    "* Angular velocity, `omega`, should increase almost linearly at first, as constant force yields almost constant torque.  Then, as the radius decreases, the lever arm decreases, yielding lower torque, but moment of inertia decreases even more, yielding higher angular acceleration."
   ]
  },
  {
   "cell_type": "markdown",
   "metadata": {},
   "source": [
    "Plot `theta`"
   ]
  },
  {
   "cell_type": "code",
   "execution_count": 14,
   "metadata": {},
   "outputs": [
    {
     "data": {
      "image/png": "[encoded data removed]",
      "text/plain": [
       "<Figure size 432x288 with 1 Axes>"
      ]
     },
     "metadata": {
      "needs_background": "light"
     },
     "output_type": "display_data"
    }
   ],
   "source": [
    "def plot_theta(results):\n",
    "    plot(results.theta, color='C0', label='theta')\n",
    "    decorate(xlabel='Time (s)',\n",
    "             ylabel='Angle (rad)')\n",
    "    \n",
    "plot_theta(results)"
   ]
  },
  {
   "cell_type": "markdown",
   "metadata": {},
   "source": [
    "Plot `omega`"
   ]
  },
  {
   "cell_type": "code",
   "execution_count": 15,
   "metadata": {},
   "outputs": [
    {
     "data": {
      "image/png": "[encoded data removed]",
      "text/plain": [
       "<Figure size 432x288 with 1 Axes>"
      ]
     },
     "metadata": {
      "needs_background": "light"
     },
     "output_type": "display_data"
    }
   ],
   "source": [
    "def plot_omega(results):\n",
    "    plot(results.omega, color='C2', label='omega')\n",
    "\n",
    "    decorate(xlabel='Time (s)',\n",
    "             ylabel='Angular velocity (rad/s)')\n",
    "    \n",
    "plot_omega(results)"
   ]
  },
  {
   "cell_type": "markdown",
   "metadata": {},
   "source": [
    "Plot `y`"
   ]
  },
  {
   "cell_type": "code",
   "execution_count": 16,
   "metadata": {},
   "outputs": [
    {
     "data": {
      "image/png": "[encoded data removed]",
      "text/plain": [
       "<Figure size 432x288 with 1 Axes>"
      ]
     },
     "metadata": {
      "needs_background": "light"
     },
     "output_type": "display_data"
    }
   ],
   "source": [
    "def plot_y(results):\n",
    "    plot(results.y, color='C1', label='y')\n",
    "\n",
    "    decorate(xlabel='Time (s)',\n",
    "             ylabel='Length (m)')\n",
    "    \n",
    "plot_y(results)"
   ]
  }
 ],
 "metadata": {
  "kernelspec": {
   "display_name": "Python 3",
   "language": "python",
   "name": "python3"
  },
  "language_info": {
   "codemirror_mode": {
    "name": "ipython",
    "version": 3
   },
   "file_extension": ".py",
   "mimetype": "text/x-python",
   "name": "python",
   "nbconvert_exporter": "python",
   "pygments_lexer": "ipython3",
   "version": "3.7.3"
  }
 },
 "nbformat": 4,
 "nbformat_minor": 2
}
