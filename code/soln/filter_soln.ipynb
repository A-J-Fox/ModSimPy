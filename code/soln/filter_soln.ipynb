{
 "cells": [
  {
   "cell_type": "markdown",
   "metadata": {},
   "source": [
    "# Modeling and Simulation in Python\n",
    "\n",
    "\n",
    "Copyright 2017 Allen Downey\n",
    "\n",
    "License: [Creative Commons Attribution 4.0 International](https://creativecommons.org/licenses/by/4.0)\n"
   ]
  },
  {
   "cell_type": "code",
   "execution_count": 1,
   "metadata": {},
   "outputs": [],
   "source": [
    "# Configure Jupyter so figures appear in the notebook\n",
    "%matplotlib inline\n",
    "\n",
    "# Configure Jupyter to display the assigned value after an assignment\n",
    "%config InteractiveShell.ast_node_interactivity='last_expr_or_assign'\n",
    "\n",
    "# import functions from the modsim.py module\n",
    "from modsim import *"
   ]
  },
  {
   "cell_type": "markdown",
   "metadata": {},
   "source": [
    "### Low pass filter\n",
    "\n",
    "The following circuit diagram (from [Wikipedia](https://en.wikipedia.org/wiki/File:RC_Divider.svg)) shows a low-pass filter built with one resistor and one capacitor.  \n",
    "\n",
    "![Low-pass filter circuit diagram](diagrams/RC_Divider.png)\n",
    "\n",
    "A \"filter\" is a circuit takes a signal, $V_{in}$, as input and produces a signal, $V_{out}$, as output.  In this context, a \"signal\" is a voltage that changes over time.\n",
    "\n",
    "A filter is \"low-pass\" if it allows low-frequency signals to pass from $V_{in}$ to $V_{out}$ unchanged, but it reduces the amplitude of high-frequency signals.\n",
    "\n",
    "By applying the laws of circuit analysis, we can derive a differential equation that describes the behavior of this system.  By solving the differential equation, we can predict the effect of this circuit on any input signal.\n",
    "\n",
    "Suppose we are given $V_{in}$ and $V_{out}$ at a particular instant in time.  By Ohm's law, which is a simple model of the behavior of resistors, the instantaneous current through the resistor is:\n",
    "\n",
    "$ I_R = (V_{in} - V_{out}) / R $\n",
    "\n",
    "where $R$ is resistance in ohms.\n",
    "\n",
    "Assuming that no current flows through the output of the circuit, Kirchhoff's current law implies that the current through the capacitor is:\n",
    "\n",
    "$ I_C = I_R $\n",
    "\n",
    "According to a simple model of the behavior of capacitors, current through the capacitor causes a change in the voltage across the capacitor:\n",
    "\n",
    "$ I_C = C \\frac{d V_{out}}{dt} $\n",
    "\n",
    "where $C$ is capacitance in farads (F).\n",
    "\n",
    "Combining these equations yields a differential equation for $V_{out}$:\n",
    "\n",
    "$ \\frac{d }{dt} V_{out} = \\frac{V_{in} - V_{out}}{R C} $\n",
    "\n",
    "Follow the instructions blow to simulate the low-pass filter for input signals like this:\n",
    "\n",
    "$ V_{in}(t) = A \\cos (2 \\pi f t) $\n",
    "\n",
    "where $A$ is the amplitude of the input signal, say 5 V, and $f$ is the frequency of the signal in Hz."
   ]
  },
  {
   "cell_type": "markdown",
   "metadata": {},
   "source": [
    "### Params and System objects\n",
    "\n",
    "Here's a `Params` object to contain the quantities we need.  I've chosen values for `R1` and `C1` that might be typical for a circuit that works with audio signal."
   ]
  },
  {
   "cell_type": "code",
   "execution_count": 2,
   "metadata": {},
   "outputs": [
    {
     "data": {
      "text/html": [
       "second"
      ],
      "text/latex": [
       "$\\mathrm{second}$"
      ],
      "text/plain": [
       "<Unit('second')>"
      ]
     },
     "execution_count": 2,
     "metadata": {},
     "output_type": "execute_result"
    }
   ],
   "source": [
    "ohm = UNITS.ohm\n",
    "farad = UNITS.farad\n",
    "volt = UNITS.volt\n",
    "Hz = UNITS.Hz\n",
    "second = UNITS.second"
   ]
  },
  {
   "cell_type": "code",
   "execution_count": 3,
   "metadata": {},
   "outputs": [
    {
     "data": {
      "text/html": [
       "<div>\n",
       "<style scoped>\n",
       "    .dataframe tbody tr th:only-of-type {\n",
       "        vertical-align: middle;\n",
       "    }\n",
       "\n",
       "    .dataframe tbody tr th {\n",
       "        vertical-align: top;\n",
       "    }\n",
       "\n",
       "    .dataframe thead th {\n",
       "        text-align: right;\n",
       "    }\n",
       "</style>\n",
       "<table border=\"1\" class=\"dataframe\">\n",
       "  <thead>\n",
       "    <tr style=\"text-align: right;\">\n",
       "      <th></th>\n",
       "      <th>values</th>\n",
       "    </tr>\n",
       "  </thead>\n",
       "  <tbody>\n",
       "    <tr>\n",
       "      <th>R1</th>\n",
       "      <td>1000000.0 ohm</td>\n",
       "    </tr>\n",
       "    <tr>\n",
       "      <th>C1</th>\n",
       "      <td>1e-09 farad</td>\n",
       "    </tr>\n",
       "    <tr>\n",
       "      <th>A</th>\n",
       "      <td>5 volt</td>\n",
       "    </tr>\n",
       "    <tr>\n",
       "      <th>f</th>\n",
       "      <td>1000 hertz</td>\n",
       "    </tr>\n",
       "  </tbody>\n",
       "</table>\n",
       "</div>"
      ],
      "text/plain": [
       "R1    1000000.0 ohm\n",
       "C1      1e-09 farad\n",
       "A            5 volt\n",
       "f        1000 hertz\n",
       "dtype: object"
      ]
     },
     "execution_count": 3,
     "metadata": {},
     "output_type": "execute_result"
    }
   ],
   "source": [
    "params = Params(\n",
    "    R1 = 1e6 * ohm,\n",
    "    C1 = 1e-9 * farad,\n",
    "    A = 5 * volt,\n",
    "    f = 1000 * Hz)"
   ]
  },
  {
   "cell_type": "markdown",
   "metadata": {},
   "source": [
    "Now we can pass the `Params` object `make_system` which computes some additional parameters and defines `init`.\n",
    "\n",
    "* `omega` is the frequency of the input signal in radians/second.\n",
    "\n",
    "* `tau` is the time constant for this circuit, which is the time it takes to get from an initial startup phase to \n",
    "\n",
    "* `cutoff` is the cutoff frequency for this circuit (in Hz), which marks the transition from low frequency signals, which pass through the filter unchanged, to high frequency signals, which are attenuated.\n",
    "\n",
    "* `t_end` is chosen so we run the simulation for 4 cycles of the input signal."
   ]
  },
  {
   "cell_type": "code",
   "execution_count": 4,
   "metadata": {},
   "outputs": [],
   "source": [
    "def make_system(params):\n",
    "    \"\"\"Makes a System object for the given conditions.\n",
    "    \n",
    "    params: Params object\n",
    "    \n",
    "    returns: System object\n",
    "    \"\"\"\n",
    "    f, R1, C1 = params.f, params.R1, params.C1\n",
    "    \n",
    "    init = State(V_out = 0)\n",
    "    omega = 2 * np.pi * f\n",
    "    tau = R1 * C1\n",
    "    cutoff = 1 / R1 / C1 / 2 / np.pi\n",
    "    t_end = 4 / f\n",
    "    ts = linspace(0, t_end, 401)\n",
    "    \n",
    "    return System(params, init=init, t_end=t_end, ts=ts,\n",
    "                  omega=omega, tau=tau, cutoff=cutoff)"
   ]
  },
  {
   "cell_type": "markdown",
   "metadata": {},
   "source": [
    "Let's make a `System`"
   ]
  },
  {
   "cell_type": "code",
   "execution_count": 5,
   "metadata": {},
   "outputs": [
    {
     "data": {
      "text/html": [
       "<div>\n",
       "<style scoped>\n",
       "    .dataframe tbody tr th:only-of-type {\n",
       "        vertical-align: middle;\n",
       "    }\n",
       "\n",
       "    .dataframe tbody tr th {\n",
       "        vertical-align: top;\n",
       "    }\n",
       "\n",
       "    .dataframe thead th {\n",
       "        text-align: right;\n",
       "    }\n",
       "</style>\n",
       "<table border=\"1\" class=\"dataframe\">\n",
       "  <thead>\n",
       "    <tr style=\"text-align: right;\">\n",
       "      <th></th>\n",
       "      <th>values</th>\n",
       "    </tr>\n",
       "  </thead>\n",
       "  <tbody>\n",
       "    <tr>\n",
       "      <th>R1</th>\n",
       "      <td>1000000.0 ohm</td>\n",
       "    </tr>\n",
       "    <tr>\n",
       "      <th>C1</th>\n",
       "      <td>1e-09 farad</td>\n",
       "    </tr>\n",
       "    <tr>\n",
       "      <th>A</th>\n",
       "      <td>5 volt</td>\n",
       "    </tr>\n",
       "    <tr>\n",
       "      <th>f</th>\n",
       "      <td>1000 hertz</td>\n",
       "    </tr>\n",
       "    <tr>\n",
       "      <th>init</th>\n",
       "      <td>V_out    0\n",
       "dtype: int64</td>\n",
       "    </tr>\n",
       "    <tr>\n",
       "      <th>t_end</th>\n",
       "      <td>0.004 / hertz</td>\n",
       "    </tr>\n",
       "    <tr>\n",
       "      <th>ts</th>\n",
       "      <td>[0.0, 1e-05, 2e-05, 3.0000000000000004e-05, 4e...</td>\n",
       "    </tr>\n",
       "    <tr>\n",
       "      <th>omega</th>\n",
       "      <td>6283.185307179586 hertz</td>\n",
       "    </tr>\n",
       "    <tr>\n",
       "      <th>tau</th>\n",
       "      <td>0.001 farad * ohm</td>\n",
       "    </tr>\n",
       "    <tr>\n",
       "      <th>cutoff</th>\n",
       "      <td>159.15494309189532 / farad / ohm</td>\n",
       "    </tr>\n",
       "  </tbody>\n",
       "</table>\n",
       "</div>"
      ],
      "text/plain": [
       "R1                                            1000000.0 ohm\n",
       "C1                                              1e-09 farad\n",
       "A                                                    5 volt\n",
       "f                                                1000 hertz\n",
       "init                                V_out    0\n",
       "dtype: int64\n",
       "t_end                                         0.004 / hertz\n",
       "ts        [0.0, 1e-05, 2e-05, 3.0000000000000004e-05, 4e...\n",
       "omega                               6283.185307179586 hertz\n",
       "tau                                       0.001 farad * ohm\n",
       "cutoff                     159.15494309189532 / farad / ohm\n",
       "dtype: object"
      ]
     },
     "execution_count": 5,
     "metadata": {},
     "output_type": "execute_result"
    }
   ],
   "source": [
    "system = make_system(params)"
   ]
  },
  {
   "cell_type": "markdown",
   "metadata": {},
   "source": [
    "**Exercise:** Write a slope function that takes as an input a `State` object that contains `V_out`, and returns the derivative of `V_out`."
   ]
  },
  {
   "cell_type": "code",
   "execution_count": 6,
   "metadata": {},
   "outputs": [],
   "source": [
    "# Solution\n",
    "\n",
    "def slope_func(state, t, system):\n",
    "    \"\"\"Compute derivatives of the state.\n",
    "    \n",
    "    state: V_out\n",
    "    t: time\n",
    "    system: System object with A, omega, R1 and C1\n",
    "    \n",
    "    returns: dV_out/dt\n",
    "    \"\"\"\n",
    "    V_out, = state\n",
    "    \n",
    "    R1, C1 = system.R1, system.C1\n",
    "    A, omega = system.A, system.omega\n",
    "    \n",
    "    V_in = A * np.cos(omega * t)\n",
    "    \n",
    "    V_R1 = V_in - V_out\n",
    "    \n",
    "    I_R1 = V_R1 / R1\n",
    "    I_C1 = I_R1\n",
    "\n",
    "    dV_out = I_C1 / C1\n",
    "    \n",
    "    return dV_out"
   ]
  },
  {
   "cell_type": "markdown",
   "metadata": {},
   "source": [
    "Test the slope function with the initial conditions."
   ]
  },
  {
   "cell_type": "code",
   "execution_count": 7,
   "metadata": {},
   "outputs": [
    {
     "data": {
      "text/html": [
       "5000.0 volt/(farad ohm)"
      ],
      "text/latex": [
       "$5000.0\\ \\frac{\\mathrm{volt}}{\\left(\\mathrm{farad} \\cdot \\mathrm{ohm}\\right)}$"
      ],
      "text/plain": [
       "5000.0 <Unit('volt / farad / ohm')>"
      ]
     },
     "execution_count": 7,
     "metadata": {},
     "output_type": "execute_result"
    }
   ],
   "source": [
    "slope_func(system.init, 0*UNITS.s, system)"
   ]
  },
  {
   "cell_type": "markdown",
   "metadata": {},
   "source": [
    "And then run the simulation.  I suggest using `t_eval=ts` to make sure we have enough data points to plot and analyze the results. "
   ]
  },
  {
   "cell_type": "code",
   "execution_count": 8,
   "metadata": {},
   "outputs": [
    {
     "data": {
      "text/html": [
       "<div>\n",
       "<style scoped>\n",
       "    .dataframe tbody tr th:only-of-type {\n",
       "        vertical-align: middle;\n",
       "    }\n",
       "\n",
       "    .dataframe tbody tr th {\n",
       "        vertical-align: top;\n",
       "    }\n",
       "\n",
       "    .dataframe thead th {\n",
       "        text-align: right;\n",
       "    }\n",
       "</style>\n",
       "<table border=\"1\" class=\"dataframe\">\n",
       "  <thead>\n",
       "    <tr style=\"text-align: right;\">\n",
       "      <th></th>\n",
       "      <th>values</th>\n",
       "    </tr>\n",
       "  </thead>\n",
       "  <tbody>\n",
       "    <tr>\n",
       "      <th>sol</th>\n",
       "      <td>None</td>\n",
       "    </tr>\n",
       "    <tr>\n",
       "      <th>t_events</th>\n",
       "      <td>[]</td>\n",
       "    </tr>\n",
       "    <tr>\n",
       "      <th>nfev</th>\n",
       "      <td>110</td>\n",
       "    </tr>\n",
       "    <tr>\n",
       "      <th>njev</th>\n",
       "      <td>0</td>\n",
       "    </tr>\n",
       "    <tr>\n",
       "      <th>nlu</th>\n",
       "      <td>0</td>\n",
       "    </tr>\n",
       "    <tr>\n",
       "      <th>status</th>\n",
       "      <td>0</td>\n",
       "    </tr>\n",
       "    <tr>\n",
       "      <th>message</th>\n",
       "      <td>The solver successfully reached the end of the...</td>\n",
       "    </tr>\n",
       "    <tr>\n",
       "      <th>success</th>\n",
       "      <td>True</td>\n",
       "    </tr>\n",
       "  </tbody>\n",
       "</table>\n",
       "</div>"
      ],
      "text/plain": [
       "sol                                                      None\n",
       "t_events                                                   []\n",
       "nfev                                                      110\n",
       "njev                                                        0\n",
       "nlu                                                         0\n",
       "status                                                      0\n",
       "message     The solver successfully reached the end of the...\n",
       "success                                                  True\n",
       "dtype: object"
      ]
     },
     "execution_count": 8,
     "metadata": {},
     "output_type": "execute_result"
    }
   ],
   "source": [
    "results, details = run_ode_solver(system, slope_func, t_eval=system.ts)\n",
    "details"
   ]
  },
  {
   "cell_type": "markdown",
   "metadata": {},
   "source": [
    "Here's a function you can use to plot `V_out` as a function of time."
   ]
  },
  {
   "cell_type": "code",
   "execution_count": 9,
   "metadata": {},
   "outputs": [
    {
     "data": {
      "image/png": "[encoded data removed]",
      "text/plain": [
       "<Figure size 432x288 with 1 Axes>"
      ]
     },
     "metadata": {
      "needs_background": "light"
     },
     "output_type": "display_data"
    }
   ],
   "source": [
    "def plot_results(results):\n",
    "    xs = results.V_out.index\n",
    "    ys = results.V_out.values\n",
    "\n",
    "    t_end = get_last_label(results)\n",
    "    if t_end < 10:\n",
    "        xs *= 1000\n",
    "        xlabel = 'Time (ms)'\n",
    "    else:\n",
    "        xlabel = 'Time (s)'\n",
    "        \n",
    "    plot(xs, ys)\n",
    "    decorate(xlabel=xlabel,\n",
    "             ylabel='$V_{out}$ (volt)',\n",
    "             legend=False)\n",
    "    \n",
    "plot_results(results)"
   ]
  },
  {
   "cell_type": "markdown",
   "metadata": {},
   "source": [
    "If things have gone according to plan, the amplitude of the output signal should be about 0.8 V.\n",
    "\n",
    "Also, you might notice that it takes a few cycles for the signal to get to the full amplitude. "
   ]
  },
  {
   "cell_type": "markdown",
   "metadata": {},
   "source": [
    "### Sweeping frequency\n",
    "\n",
    "Plot `V_out` looks like for a range of frequencies:"
   ]
  },
  {
   "cell_type": "code",
   "execution_count": 10,
   "metadata": {},
   "outputs": [
    {
     "data": {
      "image/png": "[encoded data removed]",
      "text/plain": [
       "<Figure size 576x396 with 6 Axes>"
      ]
     },
     "metadata": {
      "needs_background": "light"
     },
     "output_type": "display_data"
    }
   ],
   "source": [
    "fs = [1, 10, 100, 1000, 10000, 100000] * Hz\n",
    "\n",
    "for i, f in enumerate(fs):\n",
    "    system = make_system(Params(params, f=f))\n",
    "    results, details = run_ode_solver(system, slope_func, t_eval=system.ts)\n",
    "    subplot(3, 2, i+1)\n",
    "    plot_results(results)"
   ]
  },
  {
   "cell_type": "markdown",
   "metadata": {},
   "source": [
    "At low frequencies, notice that there is an initial \"transient\" before the output gets to a steady-state sinusoidal output.  The duration of this transient is a small multiple of the time constant, `tau`, which is 1 ms."
   ]
  },
  {
   "cell_type": "markdown",
   "metadata": {},
   "source": [
    "### Estimating the output ratio\n",
    "\n",
    "Let's compare the amplitudes of the input and output signals.  Below the cutoff frequency, we expect them to be about the same.  Above the cutoff, we expect the amplitude of the output signal to be smaller.\n",
    "\n",
    "We'll start with a signal at the cutoff frequency, `f=1000` Hz."
   ]
  },
  {
   "cell_type": "code",
   "execution_count": 11,
   "metadata": {},
   "outputs": [
    {
     "data": {
      "image/png": "[encoded data removed]",
      "text/plain": [
       "<Figure size 432x288 with 1 Axes>"
      ]
     },
     "metadata": {
      "needs_background": "light"
     },
     "output_type": "display_data"
    }
   ],
   "source": [
    "system = make_system(Params(params, f=1000*Hz))\n",
    "results, details = run_ode_solver(system, slope_func, t_eval=system.ts)\n",
    "V_out = results.V_out * volt\n",
    "plot_results(results)"
   ]
  },
  {
   "cell_type": "markdown",
   "metadata": {},
   "source": [
    "The following function computes `V_in` as a `TimeSeries`:"
   ]
  },
  {
   "cell_type": "code",
   "execution_count": 12,
   "metadata": {},
   "outputs": [],
   "source": [
    "def compute_vin(results, system):\n",
    "    \"\"\"Computes V_in as a TimeSeries.\n",
    "    \n",
    "    results: TimeFrame with simulation results\n",
    "    system: System object with A and omega\n",
    "    \n",
    "    returns: TimeSeries\n",
    "    \"\"\"\n",
    "    A, omega = system.A, system.omega\n",
    "    \n",
    "    ts = results.index.values * UNITS.second\n",
    "    V_in = A * np.cos(omega * ts)\n",
    "    return TimeSeries(V_in, results.index, name='V_in')"
   ]
  },
  {
   "cell_type": "markdown",
   "metadata": {},
   "source": [
    "Here's what the input and output look like.  Notice that the output is not just smaller; it is also \"out of phase\"; that is, the peaks of the output are shifted to the right, relative to the peaks of the input."
   ]
  },
  {
   "cell_type": "code",
   "execution_count": 13,
   "metadata": {},
   "outputs": [
    {
     "data": {
      "image/png": "[encoded data removed]",
      "text/plain": [
       "<Figure size 432x288 with 1 Axes>"
      ]
     },
     "metadata": {
      "needs_background": "light"
     },
     "output_type": "display_data"
    }
   ],
   "source": [
    "V_in = compute_vin(results, system)\n",
    "\n",
    "plot(V_out)\n",
    "plot(V_in)\n",
    "\n",
    "decorate(xlabel='Time (s)',\n",
    "         ylabel='V (volt)')"
   ]
  },
  {
   "cell_type": "markdown",
   "metadata": {},
   "source": [
    "The following function estimates the amplitude of a signal by computing half the distance between the min and max."
   ]
  },
  {
   "cell_type": "code",
   "execution_count": 14,
   "metadata": {},
   "outputs": [],
   "source": [
    "def estimate_A(series):\n",
    "    \"\"\"Estimate amplitude.\n",
    "    \n",
    "    series: TimeSeries\n",
    "    \n",
    "    returns: amplitude in volts\n",
    "    \"\"\"\n",
    "    return (series.max() - series.min()) / 2"
   ]
  },
  {
   "cell_type": "markdown",
   "metadata": {},
   "source": [
    "The amplitude of `V_in` should be near 5 (but not exact because we evaluated it at a finite number of points)."
   ]
  },
  {
   "cell_type": "code",
   "execution_count": 15,
   "metadata": {},
   "outputs": [
    {
     "data": {
      "text/html": [
       "5.0 volt"
      ],
      "text/latex": [
       "$5.0\\ \\mathrm{volt}$"
      ],
      "text/plain": [
       "5.0 <Unit('volt')>"
      ]
     },
     "execution_count": 15,
     "metadata": {},
     "output_type": "execute_result"
    }
   ],
   "source": [
    "A_in = estimate_A(V_in)"
   ]
  },
  {
   "cell_type": "markdown",
   "metadata": {},
   "source": [
    "The amplitude of `V_out` should be lower."
   ]
  },
  {
   "cell_type": "code",
   "execution_count": 16,
   "metadata": {},
   "outputs": [
    {
     "data": {
      "text/html": [
       "0.8129812004177154 volt"
      ],
      "text/latex": [
       "$0.8129812004177154\\ \\mathrm{volt}$"
      ],
      "text/plain": [
       "0.8129812004177154 <Unit('volt')>"
      ]
     },
     "execution_count": 16,
     "metadata": {},
     "output_type": "execute_result"
    }
   ],
   "source": [
    "A_out = estimate_A(V_out)"
   ]
  },
  {
   "cell_type": "markdown",
   "metadata": {},
   "source": [
    "And here's the ratio between them."
   ]
  },
  {
   "cell_type": "code",
   "execution_count": 17,
   "metadata": {},
   "outputs": [
    {
     "data": {
      "text/html": [
       "0.16259624008354306 dimensionless"
      ],
      "text/latex": [
       "$0.16259624008354306\\ dimensionless$"
      ],
      "text/plain": [
       "0.16259624008354306 <Unit('dimensionless')>"
      ]
     },
     "execution_count": 17,
     "metadata": {},
     "output_type": "execute_result"
    }
   ],
   "source": [
    "ratio = A_out / A_in"
   ]
  },
  {
   "cell_type": "markdown",
   "metadata": {},
   "source": [
    "**Exercise:** Encapsulate the code we have so far in a function that takes two TimeSeries objects and returns the ratio between their amplitudes."
   ]
  },
  {
   "cell_type": "code",
   "execution_count": 18,
   "metadata": {},
   "outputs": [],
   "source": [
    "# Solution\n",
    "\n",
    "def estimate_ratio(V1, V2):\n",
    "    \"\"\"Estimate the ratio of amplitudes.\n",
    "    \n",
    "    V1: TimeSeries\n",
    "    V2: TimeSeries\n",
    "    \n",
    "    returns: amplitude ratio\n",
    "    \"\"\"\n",
    "    a1 = estimate_A(V1)\n",
    "    a2 = estimate_A(V2)\n",
    "    return a1 / a2"
   ]
  },
  {
   "cell_type": "markdown",
   "metadata": {},
   "source": [
    "And test your function."
   ]
  },
  {
   "cell_type": "code",
   "execution_count": 19,
   "metadata": {},
   "outputs": [
    {
     "data": {
      "text/html": [
       "0.16259624008354306 dimensionless"
      ],
      "text/latex": [
       "$0.16259624008354306\\ dimensionless$"
      ],
      "text/plain": [
       "0.16259624008354306 <Unit('dimensionless')>"
      ]
     },
     "execution_count": 19,
     "metadata": {},
     "output_type": "execute_result"
    }
   ],
   "source": [
    "estimate_ratio(V_out, V_in)"
   ]
  },
  {
   "cell_type": "markdown",
   "metadata": {},
   "source": [
    "### Estimating phase offset\n",
    "\n",
    "The delay between the peak of the input and the peak of the output is call a \"phase shift\" or \"phase offset\", usually measured in fractions of a cycle, degrees, or radians.\n",
    "\n",
    "To estimate the phase offset between two signals, we can use cross-correlation.  Here's what the cross-correlation looks like between `V_out` and `V_in`:"
   ]
  },
  {
   "cell_type": "code",
   "execution_count": 42,
   "metadata": {},
   "outputs": [
    {
     "data": {
      "image/png": "[encoded data removed]",
      "text/plain": [
       "<Figure size 432x288 with 1 Axes>"
      ]
     },
     "metadata": {
      "needs_background": "light"
     },
     "output_type": "display_data"
    }
   ],
   "source": [
    "corr = np.correlate(V_out, V_in, mode='same')\n",
    "corr = TimeSeries(corr, V_in.index)\n",
    "plot(corr, color='C4')\n",
    "decorate(xlabel='Lag (s)',\n",
    "         ylabel='Correlation')"
   ]
  },
  {
   "cell_type": "markdown",
   "metadata": {},
   "source": [
    "The location of the peak in the cross correlation is the estimated shift between the two signals, in seconds."
   ]
  },
  {
   "cell_type": "code",
   "execution_count": 21,
   "metadata": {},
   "outputs": [
    {
     "data": {
      "text/html": [
       "0.00222 second"
      ],
      "text/latex": [
       "$0.00222\\ \\mathrm{second}$"
      ],
      "text/plain": [
       "0.00222 <Unit('second')>"
      ]
     },
     "execution_count": 21,
     "metadata": {},
     "output_type": "execute_result"
    }
   ],
   "source": [
    "peak_time = corr.apply(magnitude).idxmax() * UNITS.second"
   ]
  },
  {
   "cell_type": "markdown",
   "metadata": {},
   "source": [
    "We can express the phase offset as a multiple of the period of the input signal:"
   ]
  },
  {
   "cell_type": "code",
   "execution_count": 22,
   "metadata": {},
   "outputs": [
    {
     "data": {
      "text/html": [
       "0.001 1/hertz"
      ],
      "text/latex": [
       "$0.001\\ \\frac{1}{\\mathrm{hertz}}$"
      ],
      "text/plain": [
       "0.001 <Unit('1 / hertz')>"
      ]
     },
     "execution_count": 22,
     "metadata": {},
     "output_type": "execute_result"
    }
   ],
   "source": [
    "period = 1 / system.f"
   ]
  },
  {
   "cell_type": "code",
   "execution_count": 23,
   "metadata": {},
   "outputs": [
    {
     "data": {
      "text/html": [
       "2.22 dimensionless"
      ],
      "text/latex": [
       "$2.22\\ dimensionless$"
      ],
      "text/plain": [
       "2.22 <Unit('dimensionless')>"
      ]
     },
     "execution_count": 23,
     "metadata": {},
     "output_type": "execute_result"
    }
   ],
   "source": [
    "(peak_time / period).to_reduced_units()"
   ]
  },
  {
   "cell_type": "markdown",
   "metadata": {},
   "source": [
    "We don't care about whole period offsets, only the fractional part, which we can get using `modf`:"
   ]
  },
  {
   "cell_type": "code",
   "execution_count": 24,
   "metadata": {},
   "outputs": [
    {
     "data": {
      "text/html": [
       "0.2200000000000002 dimensionless"
      ],
      "text/latex": [
       "$0.2200000000000002\\ dimensionless$"
      ],
      "text/plain": [
       "0.2200000000000002 <Unit('dimensionless')>"
      ]
     },
     "execution_count": 24,
     "metadata": {},
     "output_type": "execute_result"
    }
   ],
   "source": [
    "frac, whole = np.modf(peak_time / period)\n",
    "frac = frac.to_reduced_units()"
   ]
  },
  {
   "cell_type": "markdown",
   "metadata": {},
   "source": [
    "Finally, we can convert from a fraction of a cycle to degrees:"
   ]
  },
  {
   "cell_type": "code",
   "execution_count": 25,
   "metadata": {},
   "outputs": [
    {
     "data": {
      "text/html": [
       "79.20000000000007 degree"
      ],
      "text/latex": [
       "$79.20000000000007\\ \\mathrm{degree}$"
      ],
      "text/plain": [
       "79.20000000000007 <Unit('degree')>"
      ]
     },
     "execution_count": 25,
     "metadata": {},
     "output_type": "execute_result"
    }
   ],
   "source": [
    "frac * 360 * UNITS.degree"
   ]
  },
  {
   "cell_type": "markdown",
   "metadata": {},
   "source": [
    "**Exercise:** Encapsulate this code in a function that takes two `TimeSeries` objects and a `System` object, and returns the phase offset in degrees.\n",
    "\n",
    "Note: by convention, if the output is shifted to the right, the phase offset is negative."
   ]
  },
  {
   "cell_type": "code",
   "execution_count": 26,
   "metadata": {},
   "outputs": [],
   "source": [
    "# Solution\n",
    "\n",
    "def estimate_offset(V1, V2, system):\n",
    "    \"\"\"Estimate phase offset.\n",
    "    \n",
    "    V1: TimeSeries\n",
    "    V2: TimeSeries\n",
    "    system: System object with f\n",
    "    \n",
    "    returns: amplitude ratio\n",
    "    \"\"\"\n",
    "    corr = np.correlate(V1, V2, mode='same')\n",
    "    corr = TimeSeries(corr, V1.index)\n",
    "    peak_time = corr.apply(magnitude).idxmax() * UNITS.second\n",
    "    period = 1 / system.f\n",
    "    frac, whole = np.modf(peak_time / period)\n",
    "    frac = frac.to_reduced_units()\n",
    "    return -frac * 360 * UNITS.degree"
   ]
  },
  {
   "cell_type": "markdown",
   "metadata": {},
   "source": [
    "Test your function."
   ]
  },
  {
   "cell_type": "code",
   "execution_count": 27,
   "metadata": {},
   "outputs": [
    {
     "data": {
      "text/html": [
       "-79.20000000000007 degree"
      ],
      "text/latex": [
       "$-79.20000000000007\\ \\mathrm{degree}$"
      ],
      "text/plain": [
       "-79.20000000000007 <Unit('degree')>"
      ]
     },
     "execution_count": 27,
     "metadata": {},
     "output_type": "execute_result"
    }
   ],
   "source": [
    "estimate_offset(V_out, V_in, system)"
   ]
  },
  {
   "cell_type": "markdown",
   "metadata": {},
   "source": [
    "### Sweeping frequency again\n",
    "\n",
    "**Exercise:** Write a function that takes as parameters an array of input frequencies and a `Params` object.\n",
    "\n",
    "For each input frequency it should run a simulation and use the results to estimate the output ratio (dimensionless) and phase offset (in degrees).\n",
    "\n",
    "It should return two `SweepSeries` objects, one for the ratios and one for the offsets."
   ]
  },
  {
   "cell_type": "code",
   "execution_count": 28,
   "metadata": {},
   "outputs": [],
   "source": [
    "# Solution\n",
    "\n",
    "def sweep_frequency(fs, params):\n",
    "    ratios = SweepSeries()\n",
    "    offsets = SweepSeries()\n",
    "\n",
    "    for i, f in enumerate(fs):\n",
    "        system = make_system(Params(params, f=f))\n",
    "        results, details = run_ode_solver(system, slope_func, t_eval=system.ts)\n",
    "        V_out = results.V_out\n",
    "        V_in = compute_vin(results, system)\n",
    "        \n",
    "        f = magnitude(f)\n",
    "        ratios[f] = estimate_ratio(V_out, V_in)\n",
    "        offsets[f] = estimate_offset(V_out, V_in, system)\n",
    "    return ratios, offsets"
   ]
  },
  {
   "cell_type": "markdown",
   "metadata": {},
   "source": [
    "Run your function with these frequencies."
   ]
  },
  {
   "cell_type": "code",
   "execution_count": 29,
   "metadata": {},
   "outputs": [
    {
     "data": {
      "text/html": [
       "\\[\\begin{pmatrix}1.0 & 3.1622776601683795 & 10.0 & 31.622776601683793 & 100.0 & 316.22776601683796 & 1000.0 & 3162.2776601683795 & 10000.0\\end{pmatrix} hertz\\]"
      ],
      "text/latex": [
       "$\\begin{pmatrix}1.0 & 3.1622776601683795 & 10.0 & 31.622776601683793 & 100.0 & 316.22776601683796 & 1000.0 & 3162.2776601683795 & 10000.0\\end{pmatrix}\\ \\mathrm{hertz}$"
      ],
      "text/plain": [
       "array([1.00000000e+00, 3.16227766e+00, 1.00000000e+01, 3.16227766e+01,\n",
       "       1.00000000e+02, 3.16227766e+02, 1.00000000e+03, 3.16227766e+03,\n",
       "       1.00000000e+04]) <Unit('hertz')>"
      ]
     },
     "execution_count": 29,
     "metadata": {},
     "output_type": "execute_result"
    }
   ],
   "source": [
    "fs = 10 ** linspace(0, 4, 9) * Hz"
   ]
  },
  {
   "cell_type": "code",
   "execution_count": 30,
   "metadata": {},
   "outputs": [],
   "source": [
    "ratios, offsets = sweep_frequency(fs, params)"
   ]
  },
  {
   "cell_type": "markdown",
   "metadata": {},
   "source": [
    "We can plot output ratios like this:"
   ]
  },
  {
   "cell_type": "code",
   "execution_count": 31,
   "metadata": {},
   "outputs": [
    {
     "data": {
      "image/png": "[encoded data removed]",
      "text/plain": [
       "<Figure size 432x288 with 1 Axes>"
      ]
     },
     "metadata": {
      "needs_background": "light"
     },
     "output_type": "display_data"
    }
   ],
   "source": [
    "plot(ratios, color='C2', label='output ratio')\n",
    "decorate(xlabel='Frequency (Hz)',\n",
    "         ylabel='$V_{out} / V_{in}$')"
   ]
  },
  {
   "cell_type": "markdown",
   "metadata": {},
   "source": [
    "But it is useful and conventional to plot ratios on a log-log scale.  The vertical gray line shows the cutoff frequency."
   ]
  },
  {
   "cell_type": "code",
   "execution_count": 32,
   "metadata": {},
   "outputs": [],
   "source": [
    "def plot_ratios(ratios, system):\n",
    "    \"\"\"Plot output ratios.\n",
    "    \"\"\"\n",
    "    # axvline can't handle a Quantity with units\n",
    "    cutoff = magnitude(system.cutoff)\n",
    "    plt.axvline(cutoff, color='gray', alpha=0.4)\n",
    "    \n",
    "    plot(ratios, color='C2', label='output ratio')\n",
    "    decorate(xlabel='Frequency (Hz)',\n",
    "             ylabel='$V_{out} / V_{in}$',\n",
    "             xscale='log', yscale='log')"
   ]
  },
  {
   "cell_type": "code",
   "execution_count": 33,
   "metadata": {},
   "outputs": [
    {
     "data": {
      "image/png": "[encoded data removed]",
      "text/plain": [
       "<Figure size 432x288 with 1 Axes>"
      ]
     },
     "metadata": {
      "needs_background": "light"
     },
     "output_type": "display_data"
    }
   ],
   "source": [
    "plot_ratios(ratios, system)"
   ]
  },
  {
   "cell_type": "markdown",
   "metadata": {},
   "source": [
    "This plot shows the cutoff behavior more clearly.  Below the cutoff, the output ratio is close to 1.  Above the cutoff, it drops off linearly, on a log scale, which indicates that output ratios for high frequencies are practically 0.\n",
    "\n",
    "Here's the plot for phase offset, on a log-x scale:"
   ]
  },
  {
   "cell_type": "code",
   "execution_count": 34,
   "metadata": {},
   "outputs": [],
   "source": [
    "def plot_offsets(offsets, system):\n",
    "    \"\"\"Plot phase offsets.\n",
    "    \"\"\"\n",
    "    # axvline can't handle a Quantity with units\n",
    "    cutoff = magnitude(system.cutoff)\n",
    "    plt.axvline(cutoff, color='gray', alpha=0.4)\n",
    "    \n",
    "    plot(offsets, color='C9')\n",
    "    decorate(xlabel='Frequency (Hz)',\n",
    "             ylabel='Phase offset (degree)',\n",
    "             xscale='log')"
   ]
  },
  {
   "cell_type": "code",
   "execution_count": 35,
   "metadata": {},
   "outputs": [
    {
     "data": {
      "image/png": "[encoded data removed]",
      "text/plain": [
       "<Figure size 432x288 with 1 Axes>"
      ]
     },
     "metadata": {
      "needs_background": "light"
     },
     "output_type": "display_data"
    }
   ],
   "source": [
    "plot_offsets(offsets, system)"
   ]
  },
  {
   "cell_type": "markdown",
   "metadata": {},
   "source": [
    "For low frequencies, the phase offset is near 0.  For high frequencies, it approaches 90 degrees."
   ]
  },
  {
   "cell_type": "markdown",
   "metadata": {},
   "source": [
    "### Analysis\n",
    "\n",
    "By analysis we can show that the output ratio for this signal is\n",
    "\n",
    "$A = \\frac{1}{\\sqrt{1 + (R C \\omega)^2}}$ \n",
    "\n",
    "where $\\omega = 2 \\pi f$, and the phase offset is\n",
    "\n",
    "$ \\phi = \\arctan (- R C \\omega)$ \n",
    "\n",
    "**Exercise:** Write functions that take an array of input frequencies and returns $A(f)$ and $\\phi(f)$ as `SweepSeries` objects.  Plot these objects and compare them with the results from the previous section.\n"
   ]
  },
  {
   "cell_type": "code",
   "execution_count": 36,
   "metadata": {},
   "outputs": [],
   "source": [
    "# Solution\n",
    "\n",
    "def output_ratios(fs, system):\n",
    "    R1, C1, omega = system.R1, system.C1, system.omega\n",
    "    \n",
    "    omegas = 2 * np.pi * fs\n",
    "    rco = R1 * C1 * omegas\n",
    "    A = 1 / np.sqrt(1 + rco**2)\n",
    "    return SweepSeries(A, magnitude(fs))"
   ]
  },
  {
   "cell_type": "markdown",
   "metadata": {},
   "source": [
    "Test your function:"
   ]
  },
  {
   "cell_type": "code",
   "execution_count": 37,
   "metadata": {},
   "outputs": [
    {
     "data": {
      "text/html": [
       "<div>\n",
       "<style scoped>\n",
       "    .dataframe tbody tr th:only-of-type {\n",
       "        vertical-align: middle;\n",
       "    }\n",
       "\n",
       "    .dataframe tbody tr th {\n",
       "        vertical-align: top;\n",
       "    }\n",
       "\n",
       "    .dataframe thead th {\n",
       "        text-align: right;\n",
       "    }\n",
       "</style>\n",
       "<table border=\"1\" class=\"dataframe\">\n",
       "  <thead>\n",
       "    <tr style=\"text-align: right;\">\n",
       "      <th></th>\n",
       "      <th>values</th>\n",
       "    </tr>\n",
       "  </thead>\n",
       "  <tbody>\n",
       "    <tr>\n",
       "      <th>1.000000</th>\n",
       "      <td>0.9999802613756332 dimensionless</td>\n",
       "    </tr>\n",
       "    <tr>\n",
       "      <th>3.162278</th>\n",
       "      <td>0.9998026663382117 dimensionless</td>\n",
       "    </tr>\n",
       "    <tr>\n",
       "      <th>10.000000</th>\n",
       "      <td>0.9980319045036448 dimensionless</td>\n",
       "    </tr>\n",
       "    <tr>\n",
       "      <th>31.622777</th>\n",
       "      <td>0.9808266593818514 dimensionless</td>\n",
       "    </tr>\n",
       "    <tr>\n",
       "      <th>100.000000</th>\n",
       "      <td>0.8467330159648304 dimensionless</td>\n",
       "    </tr>\n",
       "    <tr>\n",
       "      <th>316.227766</th>\n",
       "      <td>0.4495645925385784 dimensionless</td>\n",
       "    </tr>\n",
       "    <tr>\n",
       "      <th>1000.000000</th>\n",
       "      <td>0.15717672547758985 dimensionless</td>\n",
       "    </tr>\n",
       "    <tr>\n",
       "      <th>3162.277660</th>\n",
       "      <td>0.050265590254250286 dimensionless</td>\n",
       "    </tr>\n",
       "    <tr>\n",
       "      <th>10000.000000</th>\n",
       "      <td>0.015913478971147695 dimensionless</td>\n",
       "    </tr>\n",
       "  </tbody>\n",
       "</table>\n",
       "</div>"
      ],
      "text/plain": [
       "1.000000          0.9999802613756332 dimensionless\n",
       "3.162278          0.9998026663382117 dimensionless\n",
       "10.000000         0.9980319045036448 dimensionless\n",
       "31.622777         0.9808266593818514 dimensionless\n",
       "100.000000        0.8467330159648304 dimensionless\n",
       "316.227766        0.4495645925385784 dimensionless\n",
       "1000.000000      0.15717672547758985 dimensionless\n",
       "3162.277660     0.050265590254250286 dimensionless\n",
       "10000.000000    0.015913478971147695 dimensionless\n",
       "dtype: object"
      ]
     },
     "execution_count": 37,
     "metadata": {},
     "output_type": "execute_result"
    }
   ],
   "source": [
    "A = output_ratios(fs, system)"
   ]
  },
  {
   "cell_type": "code",
   "execution_count": 38,
   "metadata": {},
   "outputs": [],
   "source": [
    "# Solution\n",
    "\n",
    "def phase_offsets(fs, system):\n",
    "    R1, C1, omega = system.R1, system.C1, system.omega\n",
    "\n",
    "    omegas = 2 * np.pi * fs\n",
    "    rco = R1 * C1 * omegas\n",
    "    phi = np.arctan(-rco).to(UNITS.degree)\n",
    "    return SweepSeries(phi, magnitude(fs))"
   ]
  },
  {
   "cell_type": "markdown",
   "metadata": {},
   "source": [
    "Test your function:"
   ]
  },
  {
   "cell_type": "code",
   "execution_count": 39,
   "metadata": {},
   "outputs": [
    {
     "data": {
      "text/html": [
       "<div>\n",
       "<style scoped>\n",
       "    .dataframe tbody tr th:only-of-type {\n",
       "        vertical-align: middle;\n",
       "    }\n",
       "\n",
       "    .dataframe tbody tr th {\n",
       "        vertical-align: top;\n",
       "    }\n",
       "\n",
       "    .dataframe thead th {\n",
       "        text-align: right;\n",
       "    }\n",
       "</style>\n",
       "<table border=\"1\" class=\"dataframe\">\n",
       "  <thead>\n",
       "    <tr style=\"text-align: right;\">\n",
       "      <th></th>\n",
       "      <th>values</th>\n",
       "    </tr>\n",
       "  </thead>\n",
       "  <tbody>\n",
       "    <tr>\n",
       "      <th>1.000000</th>\n",
       "      <td>-0.3599952627020996 degree</td>\n",
       "    </tr>\n",
       "    <tr>\n",
       "      <th>3.162278</th>\n",
       "      <td>-1.1382701830745394 degree</td>\n",
       "    </tr>\n",
       "    <tr>\n",
       "      <th>10.000000</th>\n",
       "      <td>-3.5952737798681755 degree</td>\n",
       "    </tr>\n",
       "    <tr>\n",
       "      <th>31.622777</th>\n",
       "      <td>-11.237840984624153 degree</td>\n",
       "    </tr>\n",
       "    <tr>\n",
       "      <th>100.000000</th>\n",
       "      <td>-32.14190763534206 degree</td>\n",
       "    </tr>\n",
       "    <tr>\n",
       "      <th>316.227766</th>\n",
       "      <td>-63.284247907949336 degree</td>\n",
       "    </tr>\n",
       "    <tr>\n",
       "      <th>1000.000000</th>\n",
       "      <td>-80.95693892096232 degree</td>\n",
       "    </tr>\n",
       "    <tr>\n",
       "      <th>3162.277660</th>\n",
       "      <td>-87.1187796579127 degree</td>\n",
       "    </tr>\n",
       "    <tr>\n",
       "      <th>10000.000000</th>\n",
       "      <td>-89.08818633038616 degree</td>\n",
       "    </tr>\n",
       "  </tbody>\n",
       "</table>\n",
       "</div>"
      ],
      "text/plain": [
       "1.000000        -0.3599952627020996 degree\n",
       "3.162278        -1.1382701830745394 degree\n",
       "10.000000       -3.5952737798681755 degree\n",
       "31.622777       -11.237840984624153 degree\n",
       "100.000000       -32.14190763534206 degree\n",
       "316.227766      -63.284247907949336 degree\n",
       "1000.000000      -80.95693892096232 degree\n",
       "3162.277660       -87.1187796579127 degree\n",
       "10000.000000     -89.08818633038616 degree\n",
       "dtype: object"
      ]
     },
     "execution_count": 39,
     "metadata": {},
     "output_type": "execute_result"
    }
   ],
   "source": [
    "phi = phase_offsets(fs, system)"
   ]
  },
  {
   "cell_type": "markdown",
   "metadata": {},
   "source": [
    "Plot the theoretical results along with the simulation results and see if they agree."
   ]
  },
  {
   "cell_type": "code",
   "execution_count": 40,
   "metadata": {},
   "outputs": [
    {
     "data": {
      "image/png": "[encoded data removed]",
      "text/plain": [
       "<Figure size 432x288 with 1 Axes>"
      ]
     },
     "metadata": {
      "needs_background": "light"
     },
     "output_type": "display_data"
    }
   ],
   "source": [
    "plot(A, ':', color='gray')\n",
    "plot_ratios(ratios, system)"
   ]
  },
  {
   "cell_type": "code",
   "execution_count": 41,
   "metadata": {},
   "outputs": [
    {
     "data": {
      "image/png": "[encoded data removed]",
      "text/plain": [
       "<Figure size 432x288 with 1 Axes>"
      ]
     },
     "metadata": {
      "needs_background": "light"
     },
     "output_type": "display_data"
    }
   ],
   "source": [
    "plot(phi, ':', color='gray')\n",
    "plot_offsets(offsets, system)"
   ]
  },
  {
   "cell_type": "markdown",
   "metadata": {},
   "source": [
    "For the phase offsets, there are small differences between the theoretical results and our estimates, but that is probably because it is not easy to estimate phase offsets precisely from numerical results."
   ]
  },
  {
   "cell_type": "markdown",
   "metadata": {},
   "source": [
    "**Exercise:** Consider modifying this notebook to model a [first order high-pass filter](https://en.wikipedia.org/wiki/High-pass_filter#First-order_continuous-time_implementation), a [two-stage second-order low-pass filter](https://www.electronics-tutorials.ws/filter/filter_2.html), or a [passive band-pass filter](https://www.electronics-tutorials.ws/filter/filter_4.html)."
   ]
  },
  {
   "cell_type": "code",
   "execution_count": null,
   "metadata": {},
   "outputs": [],
   "source": []
  }
 ],
 "metadata": {
  "kernelspec": {
   "display_name": "Python 3",
   "language": "python",
   "name": "python3"
  },
  "language_info": {
   "codemirror_mode": {
    "name": "ipython",
    "version": 3
   },
   "file_extension": ".py",
   "mimetype": "text/x-python",
   "name": "python",
   "nbconvert_exporter": "python",
   "pygments_lexer": "ipython3",
   "version": "3.7.3"
  }
 },
 "nbformat": 4,
 "nbformat_minor": 2
}
