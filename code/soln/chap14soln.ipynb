{
 "cells": [
  {
   "cell_type": "markdown",
   "metadata": {},
   "source": [
    "# Modeling and Simulation in Python\n",
    "\n",
    "Chapter 14\n",
    "\n",
    "Copyright 2017 Allen Downey\n",
    "\n",
    "License: [Creative Commons Attribution 4.0 International](https://creativecommons.org/licenses/by/4.0)"
   ]
  },
  {
   "cell_type": "code",
   "execution_count": 1,
   "metadata": {},
   "outputs": [],
   "source": [
    "# Configure Jupyter so figures appear in the notebook\n",
    "%matplotlib inline\n",
    "\n",
    "# Configure Jupyter to display the assigned value after an assignment\n",
    "%config InteractiveShell.ast_node_interactivity='last_expr_or_assign'\n",
    "\n",
    "# import functions from the modsim.py module\n",
    "from modsim import *"
   ]
  },
  {
   "cell_type": "markdown",
   "metadata": {},
   "source": [
    "### Code from previous chapters"
   ]
  },
  {
   "cell_type": "code",
   "execution_count": 2,
   "metadata": {},
   "outputs": [],
   "source": [
    "def make_system(beta, gamma):\n",
    "    \"\"\"Make a system object for the SIR model.\n",
    "    \n",
    "    beta: contact rate in days\n",
    "    gamma: recovery rate in days\n",
    "    \n",
    "    returns: System object\n",
    "    \"\"\"\n",
    "    init = State(S=89, I=1, R=0)\n",
    "    init /= np.sum(init)\n",
    "\n",
    "    t0 = 0\n",
    "    t_end = 7 * 14\n",
    "\n",
    "    return System(init=init, t0=t0, t_end=t_end,\n",
    "                  beta=beta, gamma=gamma)"
   ]
  },
  {
   "cell_type": "code",
   "execution_count": 3,
   "metadata": {},
   "outputs": [],
   "source": [
    "def update_func(state, t, system):\n",
    "    \"\"\"Update the SIR model.\n",
    "    \n",
    "    state: State (s, i, r)\n",
    "    t: time\n",
    "    system: System object\n",
    "    \n",
    "    returns: State (sir)\n",
    "    \"\"\"\n",
    "    s, i, r = state\n",
    "\n",
    "    infected = system.beta * i * s    \n",
    "    recovered = system.gamma * i\n",
    "    \n",
    "    s -= infected\n",
    "    i += infected - recovered\n",
    "    r += recovered\n",
    "    \n",
    "    return State(S=s, I=i, R=r)"
   ]
  },
  {
   "cell_type": "code",
   "execution_count": 4,
   "metadata": {},
   "outputs": [],
   "source": [
    "def run_simulation(system, update_func):\n",
    "    \"\"\"Runs a simulation of the system.\n",
    "        \n",
    "    system: System object\n",
    "    update_func: function that updates state\n",
    "    \n",
    "    returns: TimeFrame\n",
    "    \"\"\"\n",
    "    init, t0, t_end = system.init, system.t0, system.t_end\n",
    "    \n",
    "    frame = TimeFrame(columns=init.index)\n",
    "    frame.row[t0] = init\n",
    "    \n",
    "    for t in linrange(t0, t_end):\n",
    "        frame.row[t+1] = update_func(frame.row[t], t, system)\n",
    "    \n",
    "    return frame"
   ]
  },
  {
   "cell_type": "code",
   "execution_count": 5,
   "metadata": {},
   "outputs": [],
   "source": [
    "def calc_total_infected(results):\n",
    "    \"\"\"Fraction of population infected during the simulation.\n",
    "    \n",
    "    results: DataFrame with columns S, I, R\n",
    "    \n",
    "    returns: fraction of population\n",
    "    \"\"\"\n",
    "    return get_first_value(results.S) - get_last_value(results.S)"
   ]
  },
  {
   "cell_type": "code",
   "execution_count": 6,
   "metadata": {},
   "outputs": [],
   "source": [
    "def sweep_beta(beta_array, gamma):\n",
    "    \"\"\"Sweep a range of values for beta.\n",
    "    \n",
    "    beta_array: array of beta values\n",
    "    gamma: recovery rate\n",
    "    \n",
    "    returns: SweepSeries that maps from beta to total infected\n",
    "    \"\"\"\n",
    "    sweep = SweepSeries()\n",
    "    for beta in beta_array:\n",
    "        system = make_system(beta, gamma)\n",
    "        results = run_simulation(system, update_func)\n",
    "        sweep[system.beta] = calc_total_infected(results)\n",
    "    return sweep"
   ]
  },
  {
   "cell_type": "markdown",
   "metadata": {},
   "source": [
    "## SweepFrame\n",
    "\n",
    "The following sweeps two parameters and stores the results in a `SweepFrame`"
   ]
  },
  {
   "cell_type": "code",
   "execution_count": 7,
   "metadata": {},
   "outputs": [],
   "source": [
    "def sweep_parameters(beta_array, gamma_array):\n",
    "    \"\"\"Sweep a range of values for beta and gamma.\n",
    "    \n",
    "    beta_array: array of infection rates\n",
    "    gamma_array: array of recovery rates\n",
    "    \n",
    "    returns: SweepFrame with one row for each beta\n",
    "             and one column for each gamma\n",
    "    \"\"\"\n",
    "    frame = SweepFrame(columns=gamma_array)\n",
    "    for gamma in gamma_array:\n",
    "        frame[gamma] = sweep_beta(beta_array, gamma)\n",
    "    return frame"
   ]
  },
  {
   "cell_type": "markdown",
   "metadata": {},
   "source": [
    "Here's what the results look like."
   ]
  },
  {
   "cell_type": "code",
   "execution_count": 8,
   "metadata": {},
   "outputs": [
    {
     "data": {
      "text/html": [
       "<div>\n",
       "<style scoped>\n",
       "    .dataframe tbody tr th:only-of-type {\n",
       "        vertical-align: middle;\n",
       "    }\n",
       "\n",
       "    .dataframe tbody tr th {\n",
       "        vertical-align: top;\n",
       "    }\n",
       "\n",
       "    .dataframe thead th {\n",
       "        text-align: right;\n",
       "    }\n",
       "</style>\n",
       "<table border=\"1\" class=\"dataframe\">\n",
       "  <thead>\n",
       "    <tr style=\"text-align: right;\">\n",
       "      <th></th>\n",
       "      <th>0.1</th>\n",
       "      <th>0.3</th>\n",
       "      <th>0.5</th>\n",
       "      <th>0.7</th>\n",
       "    </tr>\n",
       "  </thead>\n",
       "  <tbody>\n",
       "    <tr>\n",
       "      <th>0.10</th>\n",
       "      <td>0.084693</td>\n",
       "      <td>0.005444</td>\n",
       "      <td>0.002736</td>\n",
       "      <td>0.001827</td>\n",
       "    </tr>\n",
       "    <tr>\n",
       "      <th>0.18</th>\n",
       "      <td>0.708623</td>\n",
       "      <td>0.015914</td>\n",
       "      <td>0.006118</td>\n",
       "      <td>0.003783</td>\n",
       "    </tr>\n",
       "    <tr>\n",
       "      <th>0.26</th>\n",
       "      <td>0.900780</td>\n",
       "      <td>0.055380</td>\n",
       "      <td>0.011639</td>\n",
       "      <td>0.006427</td>\n",
       "    </tr>\n",
       "    <tr>\n",
       "      <th>0.34</th>\n",
       "      <td>0.956888</td>\n",
       "      <td>0.267864</td>\n",
       "      <td>0.022115</td>\n",
       "      <td>0.010191</td>\n",
       "    </tr>\n",
       "    <tr>\n",
       "      <th>0.42</th>\n",
       "      <td>0.977045</td>\n",
       "      <td>0.524563</td>\n",
       "      <td>0.047816</td>\n",
       "      <td>0.015946</td>\n",
       "    </tr>\n",
       "  </tbody>\n",
       "</table>\n",
       "</div>"
      ],
      "text/plain": [
       "           0.1       0.3       0.5       0.7\n",
       "0.10  0.084693  0.005444  0.002736  0.001827\n",
       "0.18  0.708623  0.015914  0.006118  0.003783\n",
       "0.26  0.900780  0.055380  0.011639  0.006427\n",
       "0.34  0.956888  0.267864  0.022115  0.010191\n",
       "0.42  0.977045  0.524563  0.047816  0.015946"
      ]
     },
     "execution_count": 8,
     "metadata": {},
     "output_type": "execute_result"
    }
   ],
   "source": [
    "beta_array = linspace(0.1, 0.9, 11)\n",
    "gamma_array = linspace(0.1, 0.7, 4)\n",
    "frame = sweep_parameters(beta_array, gamma_array)\n",
    "frame.head()"
   ]
  },
  {
   "cell_type": "markdown",
   "metadata": {},
   "source": [
    "And here's how we can plot the results."
   ]
  },
  {
   "cell_type": "code",
   "execution_count": 9,
   "metadata": {},
   "outputs": [
    {
     "data": {
      "image/png": "[encoded data removed]",
      "text/plain": [
       "<Figure size 432x288 with 1 Axes>"
      ]
     },
     "metadata": {
      "needs_background": "light"
     },
     "output_type": "display_data"
    }
   ],
   "source": [
    "for gamma in gamma_array:\n",
    "    label = 'gamma = ' + str(gamma)\n",
    "    plot(frame[gamma], label=label)\n",
    "    \n",
    "decorate(xlabel='Contacts per day (beta)',\n",
    "         ylabel='Fraction infected',\n",
    "         loc='upper left')"
   ]
  },
  {
   "cell_type": "markdown",
   "metadata": {},
   "source": [
    "It's often useful to separate the code that generates results from the code that plots the results, so we can run the simulations once, save the results, and then use them for different analysis, visualization, etc."
   ]
  },
  {
   "cell_type": "markdown",
   "metadata": {},
   "source": [
    "### Contact number"
   ]
  },
  {
   "cell_type": "markdown",
   "metadata": {},
   "source": [
    "After running `sweep_parameters`, we have a `SweepFrame` with one row for each value of `beta` and one column for each value of `gamma`."
   ]
  },
  {
   "cell_type": "code",
   "execution_count": 10,
   "metadata": {},
   "outputs": [
    {
     "data": {
      "text/plain": [
       "(11, 4)"
      ]
     },
     "execution_count": 10,
     "metadata": {},
     "output_type": "execute_result"
    }
   ],
   "source": [
    "frame.shape"
   ]
  },
  {
   "cell_type": "markdown",
   "metadata": {},
   "source": [
    "The following loop shows how we can loop through the columns and rows of the `SweepFrame`.  With 11 rows and 4 columns, there are 44 elements."
   ]
  },
  {
   "cell_type": "code",
   "execution_count": 11,
   "metadata": {},
   "outputs": [
    {
     "name": "stdout",
     "output_type": "stream",
     "text": [
      "0.1 0.1 0.0846929424381071\n",
      "0.18 0.1 0.7086227853695759\n",
      "0.26 0.1 0.9007802517781114\n",
      "0.33999999999999997 0.1 0.9568878995442757\n",
      "0.42000000000000004 0.1 0.9770452570735504\n",
      "0.5 0.1 0.9845958628261559\n",
      "0.58 0.1 0.9874003453175401\n",
      "0.66 0.1 0.9884042490643622\n",
      "0.74 0.1 0.9887434214062726\n",
      "0.82 0.1 0.9888495150524135\n",
      "0.9 0.1 0.9888795705171926\n",
      "0.1 0.3 0.0054435591223862545\n",
      "0.18 0.3 0.015914069144794984\n",
      "0.26 0.3 0.055379762106819386\n",
      "0.33999999999999997 0.3 0.2678641677332422\n",
      "0.42000000000000004 0.3 0.5245629358439001\n",
      "0.5 0.3 0.6860504839161878\n",
      "0.58 0.3 0.7883785563390235\n",
      "0.66 0.3 0.8550657464101674\n",
      "0.74 0.3 0.8994791356903035\n",
      "0.82 0.3 0.9294693026191699\n",
      "0.9 0.3 0.9498533103273188\n",
      "0.1 0.5 0.0027357655411521797\n",
      "0.18 0.5 0.006118341358324897\n",
      "0.26 0.5 0.011639469321666152\n",
      "0.33999999999999997 0.5 0.022114766524234164\n",
      "0.42000000000000004 0.5 0.04781622666891572\n",
      "0.5 0.5 0.13243803845818214\n",
      "0.58 0.5 0.30326419264834004\n",
      "0.66 0.5 0.4641102273186152\n",
      "0.74 0.5 0.5884769725281787\n",
      "0.82 0.5 0.6827496109784223\n",
      "0.9 0.5 0.7545952983288148\n",
      "0.1 0.7 0.001826769346999102\n",
      "0.18 0.7 0.003782561608418833\n",
      "0.26 0.7 0.0064266722107564345\n",
      "0.33999999999999997 0.7 0.010190551933453973\n",
      "0.42000000000000004 0.7 0.015945826561526877\n",
      "0.5 0.7 0.025707925046422053\n",
      "0.58 0.7 0.04500775311679983\n",
      "0.66 0.7 0.09069406882939202\n",
      "0.74 0.7 0.18979521165624091\n",
      "0.82 0.7 0.3183431867354656\n",
      "0.9 0.7 0.4369993744563133\n"
     ]
    }
   ],
   "source": [
    "for gamma in frame.columns:\n",
    "    series = frame[gamma]\n",
    "    for beta in series.index:\n",
    "        frac_infected = series[beta]\n",
    "        print(beta, gamma, frac_infected)"
   ]
  },
  {
   "cell_type": "markdown",
   "metadata": {},
   "source": [
    "Now we can wrap that loop in a function and plot the results.  For each element of the `SweepFrame`, we have `beta`, `gamma`, and `frac_infected`, and we plot `beta/gamma` on the x-axis and `frac_infected` on the y-axis."
   ]
  },
  {
   "cell_type": "code",
   "execution_count": 12,
   "metadata": {},
   "outputs": [],
   "source": [
    "def plot_sweep_frame(frame):\n",
    "    \"\"\"Plot the values from a SweepFrame.\n",
    "    \n",
    "    For each (beta, gamma), compute the contact number,\n",
    "    beta/gamma\n",
    "    \n",
    "    frame: SweepFrame with one row per beta, one column per gamma\n",
    "    \"\"\"\n",
    "    for gamma in frame.columns:\n",
    "        series = frame[gamma]\n",
    "        for beta in series.index:\n",
    "            frac_infected = series[beta]\n",
    "            plot(beta/gamma, frac_infected, 'ro')"
   ]
  },
  {
   "cell_type": "markdown",
   "metadata": {},
   "source": [
    "Here's what it looks like:"
   ]
  },
  {
   "cell_type": "code",
   "execution_count": 13,
   "metadata": {},
   "outputs": [
    {
     "name": "stdout",
     "output_type": "stream",
     "text": [
      "Saving figure to file figs/chap06-fig03.pdf\n"
     ]
    },
    {
     "data": {
      "image/png": "[encoded data removed]",
      "text/plain": [
       "<Figure size 432x288 with 1 Axes>"
      ]
     },
     "metadata": {
      "needs_background": "light"
     },
     "output_type": "display_data"
    }
   ],
   "source": [
    "plot_sweep_frame(frame)\n",
    "\n",
    "decorate(xlabel='Contact number (beta/gamma)',\n",
    "         ylabel='Fraction infected',\n",
    "         legend=False)\n",
    "\n",
    "savefig('figs/chap06-fig03.pdf')"
   ]
  },
  {
   "cell_type": "markdown",
   "metadata": {},
   "source": [
    "It turns out that the ratio `beta/gamma`, called the \"contact number\" is sufficient to predict the total number of infections; we don't have to know `beta` and `gamma` separately.\n",
    "\n",
    "We can see that in the previous plot: when we plot the fraction infected versus the contact number, the results fall close to a curve."
   ]
  },
  {
   "cell_type": "markdown",
   "metadata": {},
   "source": [
    "### Analysis"
   ]
  },
  {
   "cell_type": "markdown",
   "metadata": {},
   "source": [
    "In the book we figured out the relationship between $c$ and $s_{\\infty}$ analytically.  Now we can compute it for a range of values:"
   ]
  },
  {
   "cell_type": "code",
   "execution_count": 14,
   "metadata": {},
   "outputs": [],
   "source": [
    "s_inf_array = linspace(0.0001, 0.9999, 101);"
   ]
  },
  {
   "cell_type": "code",
   "execution_count": 15,
   "metadata": {},
   "outputs": [],
   "source": [
    "c_array = log(s_inf_array) / (s_inf_array - 1);"
   ]
  },
  {
   "cell_type": "markdown",
   "metadata": {},
   "source": [
    "`total_infected` is the change in $s$ from the beginning to the end."
   ]
  },
  {
   "cell_type": "code",
   "execution_count": 16,
   "metadata": {},
   "outputs": [],
   "source": [
    "frac_infected = 1 - s_inf_array\n",
    "frac_infected_series = Series(frac_infected, index=c_array);"
   ]
  },
  {
   "cell_type": "markdown",
   "metadata": {},
   "source": [
    "Now we can plot the analytic results and compare them to the simulations."
   ]
  },
  {
   "cell_type": "code",
   "execution_count": 17,
   "metadata": {},
   "outputs": [
    {
     "name": "stdout",
     "output_type": "stream",
     "text": [
      "Saving figure to file figs/chap06-fig04.pdf\n"
     ]
    },
    {
     "data": {
      "image/png": "[encoded data removed]",
      "text/plain": [
       "<Figure size 432x288 with 1 Axes>"
      ]
     },
     "metadata": {
      "needs_background": "light"
     },
     "output_type": "display_data"
    }
   ],
   "source": [
    "plot_sweep_frame(frame)\n",
    "plot(frac_infected_series, label='Analysis')\n",
    "\n",
    "decorate(xlabel='Contact number (c)',\n",
    "         ylabel='Fraction infected')\n",
    "\n",
    "savefig('figs/chap06-fig04.pdf')"
   ]
  },
  {
   "cell_type": "markdown",
   "metadata": {},
   "source": [
    "The agreement is generally good, except for values of `c` less than 1."
   ]
  },
  {
   "cell_type": "markdown",
   "metadata": {},
   "source": [
    "## Exercises"
   ]
  },
  {
   "cell_type": "markdown",
   "metadata": {},
   "source": [
    "**Exercise:**  If we didn't know about contact numbers, we might have explored other possibilities, like the difference between `beta` and `gamma`, rather than their ratio.\n",
    "\n",
    "Write a version of `plot_sweep_frame`, called `plot_sweep_frame_difference`, that plots the fraction infected versus the difference `beta-gamma`.\n",
    "\n",
    "What do the results look like, and what does that imply? "
   ]
  },
  {
   "cell_type": "code",
   "execution_count": 18,
   "metadata": {},
   "outputs": [],
   "source": [
    "# Solution\n",
    "\n",
    "def plot_sweep_frame_difference(frame):\n",
    "    for gamma in frame.columns:\n",
    "        series = frame[gamma]\n",
    "        for beta in series.index:\n",
    "            frac_infected = series[beta]\n",
    "            plot(beta - gamma, frac_infected, 'ro')"
   ]
  },
  {
   "cell_type": "code",
   "execution_count": 19,
   "metadata": {},
   "outputs": [
    {
     "data": {
      "image/png": "[encoded data removed]",
      "text/plain": [
       "<Figure size 432x288 with 1 Axes>"
      ]
     },
     "metadata": {
      "needs_background": "light"
     },
     "output_type": "display_data"
    }
   ],
   "source": [
    "# Solution\n",
    "\n",
    "plot_sweep_frame_difference(frame)\n",
    "\n",
    "decorate(xlabel='Excess infection rate (infections-recoveries per day)',\n",
    "         ylabel='Fraction infected',\n",
    "         legend=False)"
   ]
  },
  {
   "cell_type": "code",
   "execution_count": 20,
   "metadata": {},
   "outputs": [],
   "source": [
    "# Solution\n",
    "\n",
    "# The results don't fall on a line, which means that if we know the difference between\n",
    "# `beta` and `gamma`, but not their ratio, that's not enough to predict the fraction infected."
   ]
  },
  {
   "cell_type": "markdown",
   "metadata": {},
   "source": [
    "**Exercise:** Suppose you run a survey at the end of the semester and find that 26% of students had the Freshman Plague at some point.\n",
    "\n",
    "What is your best estimate of `c`?\n",
    "\n",
    "Hint: if you print `frac_infected_series`, you can read off the answer. "
   ]
  },
  {
   "cell_type": "code",
   "execution_count": 21,
   "metadata": {
    "scrolled": true
   },
   "outputs": [
    {
     "data": {
      "text/plain": [
       "9.211261    0.999900\n",
       "4.642296    0.989902\n",
       "3.987365    0.979904\n",
       "3.612133    0.969906\n",
       "3.350924    0.959908\n",
       "3.151808    0.949910\n",
       "2.991711    0.939912\n",
       "2.858363    0.929914\n",
       "2.744467    0.919916\n",
       "2.645332    0.909918\n",
       "2.557767    0.899920\n",
       "2.479505    0.889922\n",
       "2.408879    0.879924\n",
       "2.344627    0.869926\n",
       "2.285771    0.859928\n",
       "2.231541    0.849930\n",
       "2.181315    0.839932\n",
       "2.134590    0.829934\n",
       "2.090947    0.819936\n",
       "2.050040    0.809938\n",
       "2.011573    0.799940\n",
       "1.975299    0.789942\n",
       "1.941002    0.779944\n",
       "1.908499    0.769946\n",
       "1.877628    0.759948\n",
       "1.848249    0.749950\n",
       "1.820238    0.739952\n",
       "1.793487    0.729954\n",
       "1.767898    0.719956\n",
       "1.743384    0.709958\n",
       "              ...   \n",
       "1.181034    0.290042\n",
       "1.173263    0.280044\n",
       "1.165630    0.270046\n",
       "1.158132    0.260048\n",
       "1.150765    0.250050\n",
       "1.143524    0.240052\n",
       "1.136407    0.230054\n",
       "1.129409    0.220056\n",
       "1.122527    0.210058\n",
       "1.115758    0.200060\n",
       "1.109099    0.190062\n",
       "1.102547    0.180064\n",
       "1.096099    0.170066\n",
       "1.089751    0.160068\n",
       "1.083503    0.150070\n",
       "1.077350    0.140072\n",
       "1.071291    0.130074\n",
       "1.065323    0.120076\n",
       "1.059444    0.110078\n",
       "1.053651    0.100080\n",
       "1.047943    0.090082\n",
       "1.042317    0.080084\n",
       "1.036772    0.070086\n",
       "1.031305    0.060088\n",
       "1.025914    0.050090\n",
       "1.020598    0.040092\n",
       "1.015356    0.030094\n",
       "1.010185    0.020096\n",
       "1.005083    0.010098\n",
       "1.000050    0.000100\n",
       "Length: 101, dtype: float64"
      ]
     },
     "execution_count": 21,
     "metadata": {},
     "output_type": "execute_result"
    }
   ],
   "source": [
    "# Solution\n",
    "\n",
    "frac_infected_series"
   ]
  },
  {
   "cell_type": "code",
   "execution_count": 22,
   "metadata": {},
   "outputs": [
    {
     "data": {
      "text/plain": [
       "1.158096819542062"
      ]
     },
     "execution_count": 22,
     "metadata": {},
     "output_type": "execute_result"
    }
   ],
   "source": [
    "# Alternative solution\n",
    "\n",
    "\"\"\"We can use `np.interp` to look up `s_inf` and\n",
    "estimate the corresponding value of `c`, but it only\n",
    "works if the index of the series is sorted in ascending\n",
    "order.  So we have to use `sort_index` first.\n",
    "\"\"\"\n",
    "\n",
    "frac_infected_series.sort_index(inplace=True)\n",
    "np.interp(0.26, frac_infected_series, frac_infected_series.index)"
   ]
  },
  {
   "cell_type": "code",
   "execution_count": null,
   "metadata": {},
   "outputs": [],
   "source": []
  }
 ],
 "metadata": {
  "kernelspec": {
   "display_name": "Python 3",
   "language": "python",
   "name": "python3"
  },
  "language_info": {
   "codemirror_mode": {
    "name": "ipython",
    "version": 3
   },
   "file_extension": ".py",
   "mimetype": "text/x-python",
   "name": "python",
   "nbconvert_exporter": "python",
   "pygments_lexer": "ipython3",
   "version": "3.7.3"
  }
 },
 "nbformat": 4,
 "nbformat_minor": 2
}
