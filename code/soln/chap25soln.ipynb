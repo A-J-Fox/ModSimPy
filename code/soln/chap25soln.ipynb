{
 "cells": [
  {
   "cell_type": "markdown",
   "metadata": {},
   "source": [
    "# Modeling and Simulation in Python\n",
    "\n",
    "Chapter 25\n",
    "\n",
    "Copyright 2017 Allen Downey\n",
    "\n",
    "License: [Creative Commons Attribution 4.0 International](https://creativecommons.org/licenses/by/4.0)\n"
   ]
  },
  {
   "cell_type": "code",
   "execution_count": 1,
   "metadata": {},
   "outputs": [],
   "source": [
    "# Configure Jupyter so figures appear in the notebook\n",
    "%matplotlib inline\n",
    "\n",
    "# Configure Jupyter to display the assigned value after an assignment\n",
    "%config InteractiveShell.ast_node_interactivity='last_expr_or_assign'\n",
    "\n",
    "# import functions from the modsim.py module\n",
    "from modsim import *"
   ]
  },
  {
   "cell_type": "markdown",
   "metadata": {},
   "source": [
    "### Teapots and Turntables"
   ]
  },
  {
   "cell_type": "markdown",
   "metadata": {},
   "source": [
    "Tables in Chinese restaurants often have a rotating tray or turntable that makes it easy for customers to share dishes.  These turntables are supported by low-friction bearings that allow them to turn easily and glide.  However, they can be heavy, especially when they are loaded with food, so they have a high moment of inertia.\n",
    "\n",
    "Suppose I am sitting at a table with a pot of tea on the turntable directly in front of me, and the person sitting directly opposite asks me to pass the tea.  I push on the edge of the turntable with 1 Newton of force until it has turned 0.5 radians, then let go.  The turntable glides until it comes to a stop 1.5 radians from the starting position.  How much force should I apply for a second push so the teapot glides to a stop directly opposite me?\n",
    "\n",
    "The following figure shows the scenario, where `F` is the force I apply to the turntable at the perimeter, perpendicular to the moment arm, `r`, and `tau` is the resulting torque.  The blue circle near the bottom is the teapot.\n",
    "\n",
    "![](diagrams/teapot.png)\n",
    "\n",
    "We'll answer this question in these steps:\n",
    "\n",
    "1.  We'll use the results from the first push to estimate the coefficient of friction for the turntable.\n",
    "\n",
    "2.  We'll use that coefficient of friction to estimate the force needed to rotate the turntable through the remaining angle.\n",
    "\n",
    "Our simulation will use the following parameters:\n",
    "\n",
    "1.  The radius of the turntable is 0.5 meters, and its weight is 7 kg.\n",
    "\n",
    "2.  The teapot weights 0.3 kg, and it sits 0.4 meters from the center of the turntable.\n",
    "\n",
    "As usual, I'll get units from Pint."
   ]
  },
  {
   "cell_type": "code",
   "execution_count": 2,
   "metadata": {},
   "outputs": [
    {
     "data": {
      "text/html": [
       "newton"
      ],
      "text/latex": [
       "$\\mathrm{newton}$"
      ],
      "text/plain": [
       "<Unit('newton')>"
      ]
     },
     "execution_count": 2,
     "metadata": {},
     "output_type": "execute_result"
    }
   ],
   "source": [
    "radian = UNITS.radian\n",
    "m = UNITS.meter\n",
    "s = UNITS.second\n",
    "kg = UNITS.kilogram\n",
    "N = UNITS.newton"
   ]
  },
  {
   "cell_type": "markdown",
   "metadata": {},
   "source": [
    "And store the parameters in a `Params` object."
   ]
  },
  {
   "cell_type": "code",
   "execution_count": 3,
   "metadata": {},
   "outputs": [
    {
     "data": {
      "text/html": [
       "<div>\n",
       "<style scoped>\n",
       "    .dataframe tbody tr th:only-of-type {\n",
       "        vertical-align: middle;\n",
       "    }\n",
       "\n",
       "    .dataframe tbody tr th {\n",
       "        vertical-align: top;\n",
       "    }\n",
       "\n",
       "    .dataframe thead th {\n",
       "        text-align: right;\n",
       "    }\n",
       "</style>\n",
       "<table border=\"1\" class=\"dataframe\">\n",
       "  <thead>\n",
       "    <tr style=\"text-align: right;\">\n",
       "      <th></th>\n",
       "      <th>values</th>\n",
       "    </tr>\n",
       "  </thead>\n",
       "  <tbody>\n",
       "    <tr>\n",
       "      <th>radius_disk</th>\n",
       "      <td>0.5 meter</td>\n",
       "    </tr>\n",
       "    <tr>\n",
       "      <th>mass_disk</th>\n",
       "      <td>7 kilogram</td>\n",
       "    </tr>\n",
       "    <tr>\n",
       "      <th>radius_pot</th>\n",
       "      <td>0.4 meter</td>\n",
       "    </tr>\n",
       "    <tr>\n",
       "      <th>mass_pot</th>\n",
       "      <td>0.3 kilogram</td>\n",
       "    </tr>\n",
       "    <tr>\n",
       "      <th>force</th>\n",
       "      <td>1 newton</td>\n",
       "    </tr>\n",
       "    <tr>\n",
       "      <th>torque_friction</th>\n",
       "      <td>0.2 meter * newton</td>\n",
       "    </tr>\n",
       "    <tr>\n",
       "      <th>theta_end</th>\n",
       "      <td>0.5 radian</td>\n",
       "    </tr>\n",
       "    <tr>\n",
       "      <th>t_end</th>\n",
       "      <td>20 second</td>\n",
       "    </tr>\n",
       "  </tbody>\n",
       "</table>\n",
       "</div>"
      ],
      "text/plain": [
       "radius_disk                 0.5 meter\n",
       "mass_disk                  7 kilogram\n",
       "radius_pot                  0.4 meter\n",
       "mass_pot                 0.3 kilogram\n",
       "force                        1 newton\n",
       "torque_friction    0.2 meter * newton\n",
       "theta_end                  0.5 radian\n",
       "t_end                       20 second\n",
       "dtype: object"
      ]
     },
     "execution_count": 3,
     "metadata": {},
     "output_type": "execute_result"
    }
   ],
   "source": [
    "params = Params(radius_disk=0.5*m,\n",
    "                mass_disk=7*kg,\n",
    "                radius_pot=0.4*m,\n",
    "                mass_pot=0.3*kg,\n",
    "                force=1*N,\n",
    "                torque_friction=0.2*N*m,\n",
    "                theta_end=0.5*radian,\n",
    "                t_end=20*s)"
   ]
  },
  {
   "cell_type": "markdown",
   "metadata": {},
   "source": [
    "`make_system` creates the initial state, `init`, and computes the total moment of inertia for the turntable and the teapot."
   ]
  },
  {
   "cell_type": "code",
   "execution_count": 4,
   "metadata": {},
   "outputs": [],
   "source": [
    "def make_system(params):\n",
    "    \"\"\"Make a system object.\n",
    "    \n",
    "    params: Params object\n",
    "    \n",
    "    returns: System object\n",
    "    \"\"\"\n",
    "    mass_disk, mass_pot = params.mass_disk, params.mass_pot\n",
    "    radius_disk, radius_pot = params.radius_disk, params.radius_pot\n",
    "    \n",
    "    init = State(theta=0*radian, omega=0*radian/s)\n",
    "    \n",
    "    I_disk = mass_disk * radius_disk**2 / 2\n",
    "    I_pot = mass_pot * radius_pot**2\n",
    "    \n",
    "    return System(params, init=init, I=I_disk+I_pot)"
   ]
  },
  {
   "cell_type": "markdown",
   "metadata": {},
   "source": [
    "Here's the `System` object we'll use for the first phase of the simulation, while I am pushing the turntable."
   ]
  },
  {
   "cell_type": "code",
   "execution_count": 5,
   "metadata": {},
   "outputs": [
    {
     "data": {
      "text/html": [
       "<div>\n",
       "<style scoped>\n",
       "    .dataframe tbody tr th:only-of-type {\n",
       "        vertical-align: middle;\n",
       "    }\n",
       "\n",
       "    .dataframe tbody tr th {\n",
       "        vertical-align: top;\n",
       "    }\n",
       "\n",
       "    .dataframe thead th {\n",
       "        text-align: right;\n",
       "    }\n",
       "</style>\n",
       "<table border=\"1\" class=\"dataframe\">\n",
       "  <thead>\n",
       "    <tr style=\"text-align: right;\">\n",
       "      <th></th>\n",
       "      <th>values</th>\n",
       "    </tr>\n",
       "  </thead>\n",
       "  <tbody>\n",
       "    <tr>\n",
       "      <th>radius_disk</th>\n",
       "      <td>0.5 meter</td>\n",
       "    </tr>\n",
       "    <tr>\n",
       "      <th>mass_disk</th>\n",
       "      <td>7 kilogram</td>\n",
       "    </tr>\n",
       "    <tr>\n",
       "      <th>radius_pot</th>\n",
       "      <td>0.4 meter</td>\n",
       "    </tr>\n",
       "    <tr>\n",
       "      <th>mass_pot</th>\n",
       "      <td>0.3 kilogram</td>\n",
       "    </tr>\n",
       "    <tr>\n",
       "      <th>force</th>\n",
       "      <td>1 newton</td>\n",
       "    </tr>\n",
       "    <tr>\n",
       "      <th>torque_friction</th>\n",
       "      <td>0.2 meter * newton</td>\n",
       "    </tr>\n",
       "    <tr>\n",
       "      <th>theta_end</th>\n",
       "      <td>0.5 radian</td>\n",
       "    </tr>\n",
       "    <tr>\n",
       "      <th>t_end</th>\n",
       "      <td>20 second</td>\n",
       "    </tr>\n",
       "    <tr>\n",
       "      <th>init</th>\n",
       "      <td>theta               0 radian\n",
       "omega    0.0 radi...</td>\n",
       "    </tr>\n",
       "    <tr>\n",
       "      <th>I</th>\n",
       "      <td>0.923 kilogram * meter ** 2</td>\n",
       "    </tr>\n",
       "  </tbody>\n",
       "</table>\n",
       "</div>"
      ],
      "text/plain": [
       "radius_disk                                                0.5 meter\n",
       "mass_disk                                                 7 kilogram\n",
       "radius_pot                                                 0.4 meter\n",
       "mass_pot                                                0.3 kilogram\n",
       "force                                                       1 newton\n",
       "torque_friction                                   0.2 meter * newton\n",
       "theta_end                                                 0.5 radian\n",
       "t_end                                                      20 second\n",
       "init               theta               0 radian\n",
       "omega    0.0 radi...\n",
       "I                                        0.923 kilogram * meter ** 2\n",
       "dtype: object"
      ]
     },
     "execution_count": 5,
     "metadata": {},
     "output_type": "execute_result"
    }
   ],
   "source": [
    "system1 = make_system(params)"
   ]
  },
  {
   "cell_type": "markdown",
   "metadata": {},
   "source": [
    "### Simulation\n",
    "\n",
    "When I stop pushing on the turntable, the angular acceleration changes abruptly.  We could implement the slope function with an `if` statement that checks the value of `theta` and sets `force` accordingly.  And for a coarse model like this one, that might be fine.  But we will get more accurate results if we simulate the system in two phases:\n",
    "\n",
    "1.  During the first phase, force is constant, and we run until `theta` is 0.5 radians.\n",
    "\n",
    "2.  During the second phase, force is 0, and we run until `omega` is 0.\n",
    "\n",
    "Then we can combine the results of the two phases into a single `TimeFrame`.\n",
    "\n",
    "Here's the slope function we'll use:"
   ]
  },
  {
   "cell_type": "code",
   "execution_count": 6,
   "metadata": {},
   "outputs": [],
   "source": [
    "def slope_func(state, t, system):\n",
    "    \"\"\"Computes the derivatives of the state variables.\n",
    "    \n",
    "    state: State object\n",
    "    t: time\n",
    "    system: System object \n",
    "    \n",
    "    returns: sequence of derivatives\n",
    "    \"\"\"\n",
    "    theta, omega = state\n",
    "    radius_disk, force = system.radius_disk, system.force\n",
    "    torque_friction, I = system.torque_friction, system.I\n",
    "    \n",
    "    torque = radius_disk * force - torque_friction\n",
    "    alpha = torque / I\n",
    "    \n",
    "    return omega, alpha "
   ]
  },
  {
   "cell_type": "markdown",
   "metadata": {},
   "source": [
    "As always, we'll test the slope function before running the simulation."
   ]
  },
  {
   "cell_type": "code",
   "execution_count": 7,
   "metadata": {},
   "outputs": [
    {
     "data": {
      "text/plain": [
       "(0.0 <Unit('radian / second')>,\n",
       " 0.32502708559046584 <Unit('newton / kilogram / meter')>)"
      ]
     },
     "execution_count": 7,
     "metadata": {},
     "output_type": "execute_result"
    }
   ],
   "source": [
    "slope_func(system1.init, 0, system1)"
   ]
  },
  {
   "cell_type": "markdown",
   "metadata": {},
   "source": [
    "Here's an event function that stops the simulation when `theta` reaches `theta_end`."
   ]
  },
  {
   "cell_type": "code",
   "execution_count": 8,
   "metadata": {},
   "outputs": [],
   "source": [
    "def event_func1(state, t, system):\n",
    "    \"\"\"Stops when theta reaches theta_end.\n",
    "    \n",
    "    state: State object\n",
    "    t: time\n",
    "    system: System object \n",
    "    \n",
    "    returns: difference from target\n",
    "    \"\"\"\n",
    "    theta, omega = state\n",
    "    return theta - system.theta_end "
   ]
  },
  {
   "cell_type": "code",
   "execution_count": 9,
   "metadata": {},
   "outputs": [
    {
     "data": {
      "text/html": [
       "-0.5 radian"
      ],
      "text/latex": [
       "$-0.5\\ \\mathrm{radian}$"
      ],
      "text/plain": [
       "-0.5 <Unit('radian')>"
      ]
     },
     "execution_count": 9,
     "metadata": {},
     "output_type": "execute_result"
    }
   ],
   "source": [
    "event_func1(system1.init, 0, system1)"
   ]
  },
  {
   "cell_type": "markdown",
   "metadata": {},
   "source": [
    "Now we can run the first phase."
   ]
  },
  {
   "cell_type": "code",
   "execution_count": 10,
   "metadata": {},
   "outputs": [
    {
     "data": {
      "text/html": [
       "<div>\n",
       "<style scoped>\n",
       "    .dataframe tbody tr th:only-of-type {\n",
       "        vertical-align: middle;\n",
       "    }\n",
       "\n",
       "    .dataframe tbody tr th {\n",
       "        vertical-align: top;\n",
       "    }\n",
       "\n",
       "    .dataframe thead th {\n",
       "        text-align: right;\n",
       "    }\n",
       "</style>\n",
       "<table border=\"1\" class=\"dataframe\">\n",
       "  <thead>\n",
       "    <tr style=\"text-align: right;\">\n",
       "      <th></th>\n",
       "      <th>values</th>\n",
       "    </tr>\n",
       "  </thead>\n",
       "  <tbody>\n",
       "    <tr>\n",
       "      <th>success</th>\n",
       "      <td>True</td>\n",
       "    </tr>\n",
       "    <tr>\n",
       "      <th>message</th>\n",
       "      <td>A termination event occurred.</td>\n",
       "    </tr>\n",
       "  </tbody>\n",
       "</table>\n",
       "</div>"
      ],
      "text/plain": [
       "success                             True\n",
       "message    A termination event occurred.\n",
       "dtype: object"
      ]
     },
     "execution_count": 10,
     "metadata": {},
     "output_type": "execute_result"
    }
   ],
   "source": [
    "results1, details1 = run_ode_solver(system1, slope_func, events=event_func1)\n",
    "details1"
   ]
  },
  {
   "cell_type": "markdown",
   "metadata": {},
   "source": [
    "And look at the results."
   ]
  },
  {
   "cell_type": "code",
   "execution_count": 11,
   "metadata": {},
   "outputs": [
    {
     "data": {
      "text/html": [
       "<div>\n",
       "<style scoped>\n",
       "    .dataframe tbody tr th:only-of-type {\n",
       "        vertical-align: middle;\n",
       "    }\n",
       "\n",
       "    .dataframe tbody tr th {\n",
       "        vertical-align: top;\n",
       "    }\n",
       "\n",
       "    .dataframe thead th {\n",
       "        text-align: right;\n",
       "    }\n",
       "</style>\n",
       "<table border=\"1\" class=\"dataframe\">\n",
       "  <thead>\n",
       "    <tr style=\"text-align: right;\">\n",
       "      <th></th>\n",
       "      <th>theta</th>\n",
       "      <th>omega</th>\n",
       "    </tr>\n",
       "  </thead>\n",
       "  <tbody>\n",
       "    <tr>\n",
       "      <th>1.000000</th>\n",
       "      <td>0.16251354279523292 radian</td>\n",
       "      <td>0.32502708559046584 radian / second</td>\n",
       "    </tr>\n",
       "    <tr>\n",
       "      <th>1.200000</th>\n",
       "      <td>0.2340195016251354 radian</td>\n",
       "      <td>0.390032502708559 radian / second</td>\n",
       "    </tr>\n",
       "    <tr>\n",
       "      <th>1.400000</th>\n",
       "      <td>0.31852654387865653 radian</td>\n",
       "      <td>0.45503791982665215 radian / second</td>\n",
       "    </tr>\n",
       "    <tr>\n",
       "      <th>1.600000</th>\n",
       "      <td>0.41603466955579627 radian</td>\n",
       "      <td>0.5200433369447454 radian / second</td>\n",
       "    </tr>\n",
       "    <tr>\n",
       "      <th>1.751961</th>\n",
       "      <td>0.5 radian</td>\n",
       "      <td>0.569434707794277 radian / second</td>\n",
       "    </tr>\n",
       "  </tbody>\n",
       "</table>\n",
       "</div>"
      ],
      "text/plain": [
       "                               theta                                omega\n",
       "1.000000  0.16251354279523292 radian  0.32502708559046584 radian / second\n",
       "1.200000   0.2340195016251354 radian    0.390032502708559 radian / second\n",
       "1.400000  0.31852654387865653 radian  0.45503791982665215 radian / second\n",
       "1.600000  0.41603466955579627 radian   0.5200433369447454 radian / second\n",
       "1.751961                  0.5 radian    0.569434707794277 radian / second"
      ]
     },
     "execution_count": 11,
     "metadata": {},
     "output_type": "execute_result"
    }
   ],
   "source": [
    "results1.tail()"
   ]
  },
  {
   "cell_type": "markdown",
   "metadata": {},
   "source": [
    "### Phase 2\n",
    "\n",
    "Before we run the second phase, we have to extract the final time and state of the first phase."
   ]
  },
  {
   "cell_type": "code",
   "execution_count": 12,
   "metadata": {},
   "outputs": [
    {
     "data": {
      "text/html": [
       "1.7519607843137255 second"
      ],
      "text/latex": [
       "$1.7519607843137255\\ \\mathrm{second}$"
      ],
      "text/plain": [
       "1.7519607843137255 <Unit('second')>"
      ]
     },
     "execution_count": 12,
     "metadata": {},
     "output_type": "execute_result"
    }
   ],
   "source": [
    "t_0 = results1.last_label() * s"
   ]
  },
  {
   "cell_type": "markdown",
   "metadata": {},
   "source": [
    "And make an initial `State` object for Phase 2."
   ]
  },
  {
   "cell_type": "code",
   "execution_count": 13,
   "metadata": {},
   "outputs": [
    {
     "data": {
      "text/html": [
       "<div>\n",
       "<style scoped>\n",
       "    .dataframe tbody tr th:only-of-type {\n",
       "        vertical-align: middle;\n",
       "    }\n",
       "\n",
       "    .dataframe tbody tr th {\n",
       "        vertical-align: top;\n",
       "    }\n",
       "\n",
       "    .dataframe thead th {\n",
       "        text-align: right;\n",
       "    }\n",
       "</style>\n",
       "<table border=\"1\" class=\"dataframe\">\n",
       "  <thead>\n",
       "    <tr style=\"text-align: right;\">\n",
       "      <th></th>\n",
       "      <th>values</th>\n",
       "    </tr>\n",
       "  </thead>\n",
       "  <tbody>\n",
       "    <tr>\n",
       "      <th>theta</th>\n",
       "      <td>0.5 radian</td>\n",
       "    </tr>\n",
       "    <tr>\n",
       "      <th>omega</th>\n",
       "      <td>0.569434707794277 radian / second</td>\n",
       "    </tr>\n",
       "  </tbody>\n",
       "</table>\n",
       "</div>"
      ],
      "text/plain": [
       "theta                           0.5 radian\n",
       "omega    0.569434707794277 radian / second\n",
       "Name: 1.7519607843137255, dtype: object"
      ]
     },
     "execution_count": 13,
     "metadata": {},
     "output_type": "execute_result"
    }
   ],
   "source": [
    "init2 = results1.last_row()"
   ]
  },
  {
   "cell_type": "markdown",
   "metadata": {},
   "source": [
    "And a new `System` object with zero force."
   ]
  },
  {
   "cell_type": "code",
   "execution_count": 14,
   "metadata": {},
   "outputs": [
    {
     "data": {
      "text/html": [
       "<div>\n",
       "<style scoped>\n",
       "    .dataframe tbody tr th:only-of-type {\n",
       "        vertical-align: middle;\n",
       "    }\n",
       "\n",
       "    .dataframe tbody tr th {\n",
       "        vertical-align: top;\n",
       "    }\n",
       "\n",
       "    .dataframe thead th {\n",
       "        text-align: right;\n",
       "    }\n",
       "</style>\n",
       "<table border=\"1\" class=\"dataframe\">\n",
       "  <thead>\n",
       "    <tr style=\"text-align: right;\">\n",
       "      <th></th>\n",
       "      <th>values</th>\n",
       "    </tr>\n",
       "  </thead>\n",
       "  <tbody>\n",
       "    <tr>\n",
       "      <th>radius_disk</th>\n",
       "      <td>0.5 meter</td>\n",
       "    </tr>\n",
       "    <tr>\n",
       "      <th>mass_disk</th>\n",
       "      <td>7 kilogram</td>\n",
       "    </tr>\n",
       "    <tr>\n",
       "      <th>radius_pot</th>\n",
       "      <td>0.4 meter</td>\n",
       "    </tr>\n",
       "    <tr>\n",
       "      <th>mass_pot</th>\n",
       "      <td>0.3 kilogram</td>\n",
       "    </tr>\n",
       "    <tr>\n",
       "      <th>force</th>\n",
       "      <td>0 newton</td>\n",
       "    </tr>\n",
       "    <tr>\n",
       "      <th>torque_friction</th>\n",
       "      <td>0.2 meter * newton</td>\n",
       "    </tr>\n",
       "    <tr>\n",
       "      <th>theta_end</th>\n",
       "      <td>0.5 radian</td>\n",
       "    </tr>\n",
       "    <tr>\n",
       "      <th>t_end</th>\n",
       "      <td>20 second</td>\n",
       "    </tr>\n",
       "    <tr>\n",
       "      <th>init</th>\n",
       "      <td>theta                           0.5 radian\n",
       "ome...</td>\n",
       "    </tr>\n",
       "    <tr>\n",
       "      <th>I</th>\n",
       "      <td>0.923 kilogram * meter ** 2</td>\n",
       "    </tr>\n",
       "    <tr>\n",
       "      <th>t_0</th>\n",
       "      <td>1.7519607843137255 second</td>\n",
       "    </tr>\n",
       "  </tbody>\n",
       "</table>\n",
       "</div>"
      ],
      "text/plain": [
       "radius_disk                                                0.5 meter\n",
       "mass_disk                                                 7 kilogram\n",
       "radius_pot                                                 0.4 meter\n",
       "mass_pot                                                0.3 kilogram\n",
       "force                                                       0 newton\n",
       "torque_friction                                   0.2 meter * newton\n",
       "theta_end                                                 0.5 radian\n",
       "t_end                                                      20 second\n",
       "init               theta                           0.5 radian\n",
       "ome...\n",
       "I                                        0.923 kilogram * meter ** 2\n",
       "t_0                                        1.7519607843137255 second\n",
       "dtype: object"
      ]
     },
     "execution_count": 14,
     "metadata": {},
     "output_type": "execute_result"
    }
   ],
   "source": [
    "system2 = System(system1, t_0=t_0, init=init2, force=0*N)"
   ]
  },
  {
   "cell_type": "markdown",
   "metadata": {},
   "source": [
    "Here's an event function that stops when angular velocity is 0."
   ]
  },
  {
   "cell_type": "code",
   "execution_count": 15,
   "metadata": {},
   "outputs": [],
   "source": [
    "def event_func2(state, t, system):\n",
    "    \"\"\"Stops when omega is 0.\n",
    "    \n",
    "    state: State object\n",
    "    t: time\n",
    "    system: System object \n",
    "    \n",
    "    returns: omega\n",
    "    \"\"\"\n",
    "    theta, omega = state\n",
    "    return omega"
   ]
  },
  {
   "cell_type": "code",
   "execution_count": 16,
   "metadata": {},
   "outputs": [
    {
     "data": {
      "text/html": [
       "0.569434707794277 radian/second"
      ],
      "text/latex": [
       "$0.569434707794277\\ \\frac{\\mathrm{radian}}{\\mathrm{second}}$"
      ],
      "text/plain": [
       "0.569434707794277 <Unit('radian / second')>"
      ]
     },
     "execution_count": 16,
     "metadata": {},
     "output_type": "execute_result"
    }
   ],
   "source": [
    "event_func2(system2.init, 0, system2)"
   ]
  },
  {
   "cell_type": "markdown",
   "metadata": {},
   "source": [
    "Now we can run the second phase."
   ]
  },
  {
   "cell_type": "code",
   "execution_count": 17,
   "metadata": {},
   "outputs": [
    {
     "data": {
      "text/plain": [
       "(0.569434707794277 <Unit('radian / second')>,\n",
       " -0.21668472372697725 <Unit('newton / kilogram / meter')>)"
      ]
     },
     "execution_count": 17,
     "metadata": {},
     "output_type": "execute_result"
    }
   ],
   "source": [
    "slope_func(system2.init, system2.t_0, system2)"
   ]
  },
  {
   "cell_type": "code",
   "execution_count": 18,
   "metadata": {},
   "outputs": [
    {
     "data": {
      "text/html": [
       "<div>\n",
       "<style scoped>\n",
       "    .dataframe tbody tr th:only-of-type {\n",
       "        vertical-align: middle;\n",
       "    }\n",
       "\n",
       "    .dataframe tbody tr th {\n",
       "        vertical-align: top;\n",
       "    }\n",
       "\n",
       "    .dataframe thead th {\n",
       "        text-align: right;\n",
       "    }\n",
       "</style>\n",
       "<table border=\"1\" class=\"dataframe\">\n",
       "  <thead>\n",
       "    <tr style=\"text-align: right;\">\n",
       "      <th></th>\n",
       "      <th>values</th>\n",
       "    </tr>\n",
       "  </thead>\n",
       "  <tbody>\n",
       "    <tr>\n",
       "      <th>success</th>\n",
       "      <td>True</td>\n",
       "    </tr>\n",
       "    <tr>\n",
       "      <th>message</th>\n",
       "      <td>A termination event occurred.</td>\n",
       "    </tr>\n",
       "  </tbody>\n",
       "</table>\n",
       "</div>"
      ],
      "text/plain": [
       "success                             True\n",
       "message    A termination event occurred.\n",
       "dtype: object"
      ]
     },
     "execution_count": 18,
     "metadata": {},
     "output_type": "execute_result"
    }
   ],
   "source": [
    "results2, details2 = run_ode_solver(system2, slope_func, events=event_func2)\n",
    "details2"
   ]
  },
  {
   "cell_type": "markdown",
   "metadata": {},
   "source": [
    "And check the results."
   ]
  },
  {
   "cell_type": "code",
   "execution_count": 19,
   "metadata": {},
   "outputs": [
    {
     "data": {
      "text/html": [
       "<div>\n",
       "<style scoped>\n",
       "    .dataframe tbody tr th:only-of-type {\n",
       "        vertical-align: middle;\n",
       "    }\n",
       "\n",
       "    .dataframe tbody tr th {\n",
       "        vertical-align: top;\n",
       "    }\n",
       "\n",
       "    .dataframe thead th {\n",
       "        text-align: right;\n",
       "    }\n",
       "</style>\n",
       "<table border=\"1\" class=\"dataframe\">\n",
       "  <thead>\n",
       "    <tr style=\"text-align: right;\">\n",
       "      <th></th>\n",
       "      <th>theta</th>\n",
       "      <th>omega</th>\n",
       "    </tr>\n",
       "  </thead>\n",
       "  <tbody>\n",
       "    <tr>\n",
       "      <th>3.751961</th>\n",
       "      <td>1.2054999681345993 radian</td>\n",
       "      <td>0.13606526034032235 radian / second</td>\n",
       "    </tr>\n",
       "    <tr>\n",
       "      <th>3.951961</th>\n",
       "      <td>1.2283793257281241 radian</td>\n",
       "      <td>0.09272831559492689 radian / second</td>\n",
       "    </tr>\n",
       "    <tr>\n",
       "      <th>4.151961</th>\n",
       "      <td>1.2425912943725699 radian</td>\n",
       "      <td>0.049391370849531435 radian / second</td>\n",
       "    </tr>\n",
       "    <tr>\n",
       "      <th>4.351961</th>\n",
       "      <td>1.2481358740679367 radian</td>\n",
       "      <td>0.006054426104135979 radian / second</td>\n",
       "    </tr>\n",
       "    <tr>\n",
       "      <th>4.379902</th>\n",
       "      <td>1.247699599245727 radian</td>\n",
       "      <td>0.0 radian / second</td>\n",
       "    </tr>\n",
       "  </tbody>\n",
       "</table>\n",
       "</div>"
      ],
      "text/plain": [
       "                              theta                                 omega\n",
       "3.751961  1.2054999681345993 radian   0.13606526034032235 radian / second\n",
       "3.951961  1.2283793257281241 radian   0.09272831559492689 radian / second\n",
       "4.151961  1.2425912943725699 radian  0.049391370849531435 radian / second\n",
       "4.351961  1.2481358740679367 radian  0.006054426104135979 radian / second\n",
       "4.379902   1.247699599245727 radian                   0.0 radian / second"
      ]
     },
     "execution_count": 19,
     "metadata": {},
     "output_type": "execute_result"
    }
   ],
   "source": [
    "results2.tail()"
   ]
  },
  {
   "cell_type": "markdown",
   "metadata": {},
   "source": [
    "Pandas provides `combine_first`, which combines `results1` and `results2`."
   ]
  },
  {
   "cell_type": "code",
   "execution_count": 20,
   "metadata": {},
   "outputs": [
    {
     "data": {
      "text/html": [
       "<div>\n",
       "<style scoped>\n",
       "    .dataframe tbody tr th:only-of-type {\n",
       "        vertical-align: middle;\n",
       "    }\n",
       "\n",
       "    .dataframe tbody tr th {\n",
       "        vertical-align: top;\n",
       "    }\n",
       "\n",
       "    .dataframe thead th {\n",
       "        text-align: right;\n",
       "    }\n",
       "</style>\n",
       "<table border=\"1\" class=\"dataframe\">\n",
       "  <thead>\n",
       "    <tr style=\"text-align: right;\">\n",
       "      <th></th>\n",
       "      <th>theta</th>\n",
       "      <th>omega</th>\n",
       "    </tr>\n",
       "  </thead>\n",
       "  <tbody>\n",
       "    <tr>\n",
       "      <th>3.751961</th>\n",
       "      <td>1.2054999681345993 radian</td>\n",
       "      <td>0.13606526034032235 radian / second</td>\n",
       "    </tr>\n",
       "    <tr>\n",
       "      <th>3.951961</th>\n",
       "      <td>1.2283793257281241 radian</td>\n",
       "      <td>0.09272831559492689 radian / second</td>\n",
       "    </tr>\n",
       "    <tr>\n",
       "      <th>4.151961</th>\n",
       "      <td>1.2425912943725699 radian</td>\n",
       "      <td>0.049391370849531435 radian / second</td>\n",
       "    </tr>\n",
       "    <tr>\n",
       "      <th>4.351961</th>\n",
       "      <td>1.2481358740679367 radian</td>\n",
       "      <td>0.006054426104135979 radian / second</td>\n",
       "    </tr>\n",
       "    <tr>\n",
       "      <th>4.379902</th>\n",
       "      <td>1.247699599245727 radian</td>\n",
       "      <td>0.0 radian / second</td>\n",
       "    </tr>\n",
       "  </tbody>\n",
       "</table>\n",
       "</div>"
      ],
      "text/plain": [
       "                              theta                                 omega\n",
       "3.751961  1.2054999681345993 radian   0.13606526034032235 radian / second\n",
       "3.951961  1.2283793257281241 radian   0.09272831559492689 radian / second\n",
       "4.151961  1.2425912943725699 radian  0.049391370849531435 radian / second\n",
       "4.351961  1.2481358740679367 radian  0.006054426104135979 radian / second\n",
       "4.379902   1.247699599245727 radian                   0.0 radian / second"
      ]
     },
     "execution_count": 20,
     "metadata": {},
     "output_type": "execute_result"
    }
   ],
   "source": [
    "results = results1.combine_first(results2)\n",
    "results.tail()"
   ]
  },
  {
   "cell_type": "markdown",
   "metadata": {},
   "source": [
    "Now we can plot `theta` for both phases."
   ]
  },
  {
   "cell_type": "code",
   "execution_count": 21,
   "metadata": {},
   "outputs": [
    {
     "data": {
      "image/png": "[encoded data removed]",
      "text/plain": [
       "<Figure size 432x288 with 1 Axes>"
      ]
     },
     "metadata": {
      "needs_background": "light"
     },
     "output_type": "display_data"
    }
   ],
   "source": [
    "def plot_theta(results):\n",
    "    plot(results.theta, label='theta')\n",
    "    decorate(xlabel='Time (s)',\n",
    "             ylabel='Angle (rad)')\n",
    "    \n",
    "plot_theta(results)"
   ]
  },
  {
   "cell_type": "markdown",
   "metadata": {},
   "source": [
    "And `omega`."
   ]
  },
  {
   "cell_type": "code",
   "execution_count": 22,
   "metadata": {},
   "outputs": [
    {
     "data": {
      "image/png": "[encoded data removed]",
      "text/plain": [
       "<Figure size 432x288 with 1 Axes>"
      ]
     },
     "metadata": {
      "needs_background": "light"
     },
     "output_type": "display_data"
    }
   ],
   "source": [
    "def plot_omega(results):\n",
    "    plot(results.omega, label='omega', color='C1')\n",
    "    decorate(xlabel='Time (s)',\n",
    "             ylabel='Angular velocity (rad/s)')\n",
    "    \n",
    "plot_omega(results)"
   ]
  },
  {
   "cell_type": "code",
   "execution_count": 23,
   "metadata": {},
   "outputs": [
    {
     "name": "stdout",
     "output_type": "stream",
     "text": [
      "Saving figure to file figs/chap25-fig01.pdf\n"
     ]
    },
    {
     "data": {
      "image/png": "[encoded data removed]",
      "text/plain": [
       "<Figure size 576x576 with 2 Axes>"
      ]
     },
     "metadata": {
      "needs_background": "light"
     },
     "output_type": "display_data"
    }
   ],
   "source": [
    "subplot(2, 1, 1)\n",
    "plot_theta(results)\n",
    "subplot(2, 1, 2)\n",
    "plot_omega(results)\n",
    "savefig('figs/chap25-fig01.pdf')"
   ]
  },
  {
   "cell_type": "markdown",
   "metadata": {},
   "source": [
    "### Estimating friction\n",
    "\n",
    "Let's take the code from the previous section and wrap it in a function."
   ]
  },
  {
   "cell_type": "code",
   "execution_count": 24,
   "metadata": {},
   "outputs": [],
   "source": [
    "def run_two_phases(force, torque_friction, params):\n",
    "    \"\"\"Run both phases.\n",
    "    \n",
    "    force: force applied to the turntable\n",
    "    torque_friction: friction due to torque\n",
    "    params: Params object\n",
    "    \n",
    "    returns: TimeFrame of simulation results\n",
    "    \"\"\"\n",
    "    # put the specified parameters into the Params object\n",
    "    params = Params(params, force=force, torque_friction=torque_friction)\n",
    "\n",
    "    # run phase 1\n",
    "    system1 = make_system(params)\n",
    "    results1, details1 = run_ode_solver(system1, slope_func, \n",
    "                             events=event_func1, max_step=0.1)\n",
    "\n",
    "    # get the final state from phase 1\n",
    "    t_0 = results1.last_label() * s\n",
    "    init2 = results1.last_row()\n",
    "    \n",
    "    # run phase 2\n",
    "    system2 = System(system1, t_0=t_0, init=init2, force=0*N)\n",
    "    results2, details2 = run_ode_solver(system2, slope_func, \n",
    "                                        events=event_func2)\n",
    "    \n",
    "    # combine and return the results\n",
    "    results = results1.combine_first(results2)\n",
    "    return TimeFrame(results)"
   ]
  },
  {
   "cell_type": "markdown",
   "metadata": {},
   "source": [
    "Let's test it with the same parameters."
   ]
  },
  {
   "cell_type": "code",
   "execution_count": 25,
   "metadata": {},
   "outputs": [
    {
     "data": {
      "text/html": [
       "<div>\n",
       "<style scoped>\n",
       "    .dataframe tbody tr th:only-of-type {\n",
       "        vertical-align: middle;\n",
       "    }\n",
       "\n",
       "    .dataframe tbody tr th {\n",
       "        vertical-align: top;\n",
       "    }\n",
       "\n",
       "    .dataframe thead th {\n",
       "        text-align: right;\n",
       "    }\n",
       "</style>\n",
       "<table border=\"1\" class=\"dataframe\">\n",
       "  <thead>\n",
       "    <tr style=\"text-align: right;\">\n",
       "      <th></th>\n",
       "      <th>theta</th>\n",
       "      <th>omega</th>\n",
       "    </tr>\n",
       "  </thead>\n",
       "  <tbody>\n",
       "    <tr>\n",
       "      <th>3.751961</th>\n",
       "      <td>1.2054999681345993 radian</td>\n",
       "      <td>0.13606526034032235 radian / second</td>\n",
       "    </tr>\n",
       "    <tr>\n",
       "      <th>3.951961</th>\n",
       "      <td>1.2283793257281241 radian</td>\n",
       "      <td>0.09272831559492689 radian / second</td>\n",
       "    </tr>\n",
       "    <tr>\n",
       "      <th>4.151961</th>\n",
       "      <td>1.2425912943725699 radian</td>\n",
       "      <td>0.049391370849531435 radian / second</td>\n",
       "    </tr>\n",
       "    <tr>\n",
       "      <th>4.351961</th>\n",
       "      <td>1.2481358740679367 radian</td>\n",
       "      <td>0.006054426104135979 radian / second</td>\n",
       "    </tr>\n",
       "    <tr>\n",
       "      <th>4.379902</th>\n",
       "      <td>1.247699599245727 radian</td>\n",
       "      <td>0.0 radian / second</td>\n",
       "    </tr>\n",
       "  </tbody>\n",
       "</table>\n",
       "</div>"
      ],
      "text/plain": [
       "                              theta                                 omega\n",
       "3.751961  1.2054999681345993 radian   0.13606526034032235 radian / second\n",
       "3.951961  1.2283793257281241 radian   0.09272831559492689 radian / second\n",
       "4.151961  1.2425912943725699 radian  0.049391370849531435 radian / second\n",
       "4.351961  1.2481358740679367 radian  0.006054426104135979 radian / second\n",
       "4.379902   1.247699599245727 radian                   0.0 radian / second"
      ]
     },
     "execution_count": 25,
     "metadata": {},
     "output_type": "execute_result"
    }
   ],
   "source": [
    "force = 1*N\n",
    "torque_friction = 0.2*N*m\n",
    "results = run_two_phases(force, torque_friction, params)\n",
    "results.tail()"
   ]
  },
  {
   "cell_type": "markdown",
   "metadata": {},
   "source": [
    "And check the results."
   ]
  },
  {
   "cell_type": "code",
   "execution_count": 26,
   "metadata": {},
   "outputs": [
    {
     "data": {
      "text/html": [
       "1.247699599245727 radian"
      ],
      "text/latex": [
       "$1.247699599245727\\ \\mathrm{radian}$"
      ],
      "text/plain": [
       "1.247699599245727 <Unit('radian')>"
      ]
     },
     "execution_count": 26,
     "metadata": {},
     "output_type": "execute_result"
    }
   ],
   "source": [
    "theta_final = results.last_row().theta"
   ]
  },
  {
   "cell_type": "markdown",
   "metadata": {},
   "source": [
    "Here's the error function we'll use with `root_bisect`.\n",
    "\n",
    "It takes a hypothetical value for `torque_friction` and returns the difference between `theta_final` and the observed duration of the first push, 1.5 radian."
   ]
  },
  {
   "cell_type": "code",
   "execution_count": 27,
   "metadata": {},
   "outputs": [],
   "source": [
    "def error_func1(torque_friction, params):\n",
    "    \"\"\"Error function for root_scalar.\n",
    "    \n",
    "    torque_friction: hypothetical value\n",
    "    params: Params object\n",
    "    \n",
    "    returns: offset from target value\n",
    "    \"\"\"\n",
    "    force = 1 * N\n",
    "    results = run_two_phases(force, torque_friction, params)\n",
    "    theta_final = results.last_row().theta\n",
    "    print(torque_friction, theta_final)\n",
    "    return theta_final - 1.5 * radian"
   ]
  },
  {
   "cell_type": "markdown",
   "metadata": {},
   "source": [
    "Testing the error function."
   ]
  },
  {
   "cell_type": "code",
   "execution_count": 28,
   "metadata": {},
   "outputs": [
    {
     "name": "stdout",
     "output_type": "stream",
     "text": [
      "0.1 meter * newton 2.491081016010591 radian\n"
     ]
    },
    {
     "data": {
      "text/html": [
       "0.991081016010591 radian"
      ],
      "text/latex": [
       "$0.991081016010591\\ \\mathrm{radian}$"
      ],
      "text/plain": [
       "0.991081016010591 <Unit('radian')>"
      ]
     },
     "execution_count": 28,
     "metadata": {},
     "output_type": "execute_result"
    }
   ],
   "source": [
    "guess1 = 0.1*N*m\n",
    "error_func1(guess1, params)"
   ]
  },
  {
   "cell_type": "code",
   "execution_count": 29,
   "metadata": {},
   "outputs": [
    {
     "name": "stdout",
     "output_type": "stream",
     "text": [
      "0.3 meter * newton 0.8319164068661051 radian\n"
     ]
    },
    {
     "data": {
      "text/html": [
       "-0.6680835931338949 radian"
      ],
      "text/latex": [
       "$-0.6680835931338949\\ \\mathrm{radian}$"
      ],
      "text/plain": [
       "-0.6680835931338949 <Unit('radian')>"
      ]
     },
     "execution_count": 29,
     "metadata": {},
     "output_type": "execute_result"
    }
   ],
   "source": [
    "guess2 = 0.3*N*m\n",
    "error_func1(guess2, params)"
   ]
  },
  {
   "cell_type": "markdown",
   "metadata": {},
   "source": [
    "And running `root_scalar`."
   ]
  },
  {
   "cell_type": "code",
   "execution_count": 30,
   "metadata": {},
   "outputs": [
    {
     "name": "stdout",
     "output_type": "stream",
     "text": [
      "0.1 meter * newton 2.491081016010591 radian\n",
      "0.3 meter * newton 0.8319164068661051 radian\n",
      "0.2 meter * newton 1.247699599245727 radian\n",
      "0.15000000000000002 meter * newton 1.664679140408952 radian\n",
      "0.17500000000000002 meter * newton 1.4245119372074873 radian\n",
      "0.16250000000000003 meter * newton 1.5351133644066652 radian\n",
      "0.16875 meter * newton 1.4775125382367449 radian\n",
      "0.16562500000000002 meter * newton 1.5057134910749645 radian\n",
      "0.16718750000000002 meter * newton 1.4913395920086545 radian\n",
      "0.16640625000000003 meter * newton 1.4984572231242101 radian\n",
      "0.16601562500000003 meter * newton 1.502067905168568 radian\n",
      "0.16621093750000004 meter * newton 1.5002582165443015 radian\n",
      "0.16630859375000004 meter * newton 1.4993566348484146 radian\n",
      "0.16625976562500006 meter * newton 1.4998071542109142 radian\n",
      "0.16623535156250005 meter * newton 1.500032617476343 radian\n",
      "0.16624755859375007 meter * newton 1.499919868872052 radian\n",
      "0.16624145507812504 meter * newton 1.4999762389308366 radian\n",
      "0.16623840332031253 meter * newton 1.5000044271426904 radian\n",
      "0.1662399291992188 meter * newton 1.4999903327715458 radian\n",
      "0.16623916625976565 meter * newton 1.499997379890813 radian\n",
      "0.1662387847900391 meter * newton 1.5000009035001758 radian\n",
      "0.16623897552490235 meter * newton 1.4999991416913503 radian\n",
      "0.16623888015747074 meter * newton 1.5000000225947272 radian\n",
      "0.16623892784118655 meter * newton 1.4999995821427796 radian\n",
      "0.16623890399932864 meter * newton 1.4999998023686882 radian\n",
      "0.1662388920783997 meter * newton 1.4999999124816914 radian\n"
     ]
    },
    {
     "data": {
      "text/html": [
       "<div>\n",
       "<style scoped>\n",
       "    .dataframe tbody tr th:only-of-type {\n",
       "        vertical-align: middle;\n",
       "    }\n",
       "\n",
       "    .dataframe tbody tr th {\n",
       "        vertical-align: top;\n",
       "    }\n",
       "\n",
       "    .dataframe thead th {\n",
       "        text-align: right;\n",
       "    }\n",
       "</style>\n",
       "<table border=\"1\" class=\"dataframe\">\n",
       "  <thead>\n",
       "    <tr style=\"text-align: right;\">\n",
       "      <th></th>\n",
       "      <th>values</th>\n",
       "    </tr>\n",
       "  </thead>\n",
       "  <tbody>\n",
       "    <tr>\n",
       "      <th>converged</th>\n",
       "      <td>True</td>\n",
       "    </tr>\n",
       "    <tr>\n",
       "      <th>root</th>\n",
       "      <td>0.16623888611793522 meter * newton</td>\n",
       "    </tr>\n",
       "  </tbody>\n",
       "</table>\n",
       "</div>"
      ],
      "text/plain": [
       "converged                                  True\n",
       "root         0.16623888611793522 meter * newton\n",
       "dtype: object"
      ]
     },
     "execution_count": 30,
     "metadata": {},
     "output_type": "execute_result"
    }
   ],
   "source": [
    "res = root_bisect(error_func1, [guess1, guess2], params)"
   ]
  },
  {
   "cell_type": "markdown",
   "metadata": {},
   "source": [
    "The result is the coefficient of friction that yields a total rotation of 1.5 radian."
   ]
  },
  {
   "cell_type": "code",
   "execution_count": 31,
   "metadata": {},
   "outputs": [
    {
     "data": {
      "text/html": [
       "0.16623888611793522 meter newton"
      ],
      "text/latex": [
       "$0.16623888611793522\\ \\mathrm{meter} \\cdot \\mathrm{newton}$"
      ],
      "text/plain": [
       "0.16623888611793522 <Unit('meter * newton')>"
      ]
     },
     "execution_count": 31,
     "metadata": {},
     "output_type": "execute_result"
    }
   ],
   "source": [
    "torque_friction = res.root"
   ]
  },
  {
   "cell_type": "markdown",
   "metadata": {},
   "source": [
    "Here's a test run with the estimated value."
   ]
  },
  {
   "cell_type": "code",
   "execution_count": 32,
   "metadata": {},
   "outputs": [
    {
     "data": {
      "text/html": [
       "1.4999999675382056 radian"
      ],
      "text/latex": [
       "$1.4999999675382056\\ \\mathrm{radian}$"
      ],
      "text/plain": [
       "1.4999999675382056 <Unit('radian')>"
      ]
     },
     "execution_count": 32,
     "metadata": {},
     "output_type": "execute_result"
    }
   ],
   "source": [
    "force = 1 * N\n",
    "results = run_two_phases(force, torque_friction, params)\n",
    "theta_final = get_last_value(results.theta)"
   ]
  },
  {
   "cell_type": "markdown",
   "metadata": {},
   "source": [
    "Looks good.\n",
    "\n",
    "### Exercises\n",
    "\n",
    "Now finish off the example by estimating the force that delivers the teapot to the desired position.\n",
    "\n",
    "Write an error function that takes `force` and `params` and returns the offset from the desired angle."
   ]
  },
  {
   "cell_type": "code",
   "execution_count": 33,
   "metadata": {},
   "outputs": [],
   "source": [
    "# Solution\n",
    "\n",
    "def error_func2(force, params):\n",
    "    \"\"\"Error function for root_scalar.\n",
    "    \n",
    "    force: hypothetical value\n",
    "    params: Params object\n",
    "    \n",
    "    returns: offset from target value\n",
    "    \"\"\"\n",
    "    # notice that this function uses the global value of torque_friction\n",
    "    results = run_two_phases(force, torque_friction, params)\n",
    "    theta_final = get_last_value(results.theta)\n",
    "    print(force, theta_final)\n",
    "    remaining_angle = np.pi - 1.5\n",
    "    return theta_final - remaining_angle"
   ]
  },
  {
   "cell_type": "markdown",
   "metadata": {},
   "source": [
    "Test the error function with `force=1`"
   ]
  },
  {
   "cell_type": "code",
   "execution_count": 34,
   "metadata": {},
   "outputs": [
    {
     "name": "stdout",
     "output_type": "stream",
     "text": [
      "0.5 newton 0.7508796257362771 radian\n"
     ]
    },
    {
     "data": {
      "text/html": [
       "-0.890713027853516 dimensionless"
      ],
      "text/latex": [
       "$-0.890713027853516\\ dimensionless$"
      ],
      "text/plain": [
       "-0.890713027853516 <Unit('dimensionless')>"
      ]
     },
     "execution_count": 34,
     "metadata": {},
     "output_type": "execute_result"
    }
   ],
   "source": [
    "# Solution\n",
    "\n",
    "guess1 = 0.5 * N\n",
    "error_func2(guess1, params)"
   ]
  },
  {
   "cell_type": "code",
   "execution_count": 35,
   "metadata": {},
   "outputs": [
    {
     "name": "stdout",
     "output_type": "stream",
     "text": [
      "2 newton 2.990287714114223 radian\n"
     ]
    },
    {
     "data": {
      "text/html": [
       "1.3486950605244297 dimensionless"
      ],
      "text/latex": [
       "$1.3486950605244297\\ dimensionless$"
      ],
      "text/plain": [
       "1.3486950605244297 <Unit('dimensionless')>"
      ]
     },
     "execution_count": 35,
     "metadata": {},
     "output_type": "execute_result"
    }
   ],
   "source": [
    "# Solution\n",
    "\n",
    "guess2 = 2 * N\n",
    "error_func2(guess2, params)"
   ]
  },
  {
   "cell_type": "markdown",
   "metadata": {},
   "source": [
    "And run `root_bisect` to find the desired force."
   ]
  },
  {
   "cell_type": "code",
   "execution_count": 36,
   "metadata": {},
   "outputs": [
    {
     "name": "stdout",
     "output_type": "stream",
     "text": [
      "0.5 newton 0.7508796257362771 radian\n",
      "2 newton 2.990287714114223 radian\n",
      "1.25 newton 1.8767666580336735 radian\n",
      "0.875 newton 1.314142751543798 radian\n",
      "1.0625 newton 1.5961003377501604 radian\n",
      "1.15625 newton 1.7324316654000937 radian\n",
      "1.109375 newton 1.6640846390801893 radian\n",
      "1.0859375 newton 1.6295935099707282 radian\n",
      "1.09765625 newton 1.6467143299143472 radian\n",
      "1.091796875 newton 1.6381227337897593 radian\n",
      "1.0947265625 newton 1.6424107353138588 radian\n",
      "1.09326171875 newton 1.6402647854172603 radian\n",
      "1.093994140625 newton 1.6413372730819231 radian\n",
      "1.0943603515625 newton 1.6418738823769812 radian\n",
      "1.09417724609375 newton 1.641605547274225 radian\n",
      "1.094085693359375 newton 1.6414714025642667 radian\n",
      "1.0941314697265625 newton 1.641538473015794 radian\n",
      "1.0941543579101562 newton 1.6415720096691466 radian\n",
      "1.0941658020019531 newton 1.6415887783527199 radian\n",
      "1.0941715240478516 newton 1.6415971627837305 radian\n",
      "1.0941686630249023 newton 1.6415929705607897 radian\n",
      "1.0941672325134277 newton 1.641590874454896 radian\n",
      "1.094167947769165 newton 1.6415919225073785 radian\n",
      "1.0941683053970337 newton 1.6415924465339684 radian\n",
      "1.094168484210968 newton 1.6415927085473503 radian\n",
      "1.0941683948040009 newton 1.641592577540652 radian\n"
     ]
    },
    {
     "data": {
      "text/html": [
       "<div>\n",
       "<style scoped>\n",
       "    .dataframe tbody tr th:only-of-type {\n",
       "        vertical-align: middle;\n",
       "    }\n",
       "\n",
       "    .dataframe tbody tr th {\n",
       "        vertical-align: top;\n",
       "    }\n",
       "\n",
       "    .dataframe thead th {\n",
       "        text-align: right;\n",
       "    }\n",
       "</style>\n",
       "<table border=\"1\" class=\"dataframe\">\n",
       "  <thead>\n",
       "    <tr style=\"text-align: right;\">\n",
       "      <th></th>\n",
       "      <th>values</th>\n",
       "    </tr>\n",
       "  </thead>\n",
       "  <tbody>\n",
       "    <tr>\n",
       "      <th>converged</th>\n",
       "      <td>True</td>\n",
       "    </tr>\n",
       "    <tr>\n",
       "      <th>root</th>\n",
       "      <td>1.0941684395074844 newton</td>\n",
       "    </tr>\n",
       "  </tbody>\n",
       "</table>\n",
       "</div>"
      ],
      "text/plain": [
       "converged                         True\n",
       "root         1.0941684395074844 newton\n",
       "dtype: object"
      ]
     },
     "execution_count": 36,
     "metadata": {},
     "output_type": "execute_result"
    }
   ],
   "source": [
    "# Solution\n",
    "\n",
    "res = root_bisect(error_func2, [guess1, guess2], params)"
   ]
  },
  {
   "cell_type": "code",
   "execution_count": 37,
   "metadata": {},
   "outputs": [
    {
     "data": {
      "text/html": [
       "1.6415926430439989 radian"
      ],
      "text/latex": [
       "$1.6415926430439989\\ \\mathrm{radian}$"
      ],
      "text/plain": [
       "1.6415926430439989 <Unit('radian')>"
      ]
     },
     "execution_count": 37,
     "metadata": {},
     "output_type": "execute_result"
    }
   ],
   "source": [
    "force = res.root\n",
    "results = run_two_phases(force, torque_friction, params)\n",
    "theta_final = get_last_value(results.theta)"
   ]
  },
  {
   "cell_type": "code",
   "execution_count": 38,
   "metadata": {},
   "outputs": [
    {
     "data": {
      "text/plain": [
       "1.6415926535897931"
      ]
     },
     "execution_count": 38,
     "metadata": {},
     "output_type": "execute_result"
    }
   ],
   "source": [
    "remaining_angle = np.pi - 1.5"
   ]
  },
  {
   "cell_type": "markdown",
   "metadata": {},
   "source": [
    "**Exercise:** Now suppose my friend pours 0.1 kg of tea and puts the teapot back on the turntable at distance 0.3 meters from the center.  If I ask for the tea back, how much force should they apply, over an arc of 0.5 radians, to make the teapot glide to a stop back in front of me?  You can assume that torque due to friction is proportional to the total mass of the teapot and the turntable."
   ]
  },
  {
   "cell_type": "code",
   "execution_count": 39,
   "metadata": {},
   "outputs": [
    {
     "data": {
      "text/html": [
       "7.3 kilogram"
      ],
      "text/latex": [
       "$7.3\\ \\mathrm{kilogram}$"
      ],
      "text/plain": [
       "7.3 <Unit('kilogram')>"
      ]
     },
     "execution_count": 39,
     "metadata": {},
     "output_type": "execute_result"
    }
   ],
   "source": [
    "# Solution\n",
    "\n",
    "mass_before = params.mass_pot + params.mass_disk"
   ]
  },
  {
   "cell_type": "code",
   "execution_count": 40,
   "metadata": {},
   "outputs": [
    {
     "data": {
      "text/html": [
       "<div>\n",
       "<style scoped>\n",
       "    .dataframe tbody tr th:only-of-type {\n",
       "        vertical-align: middle;\n",
       "    }\n",
       "\n",
       "    .dataframe tbody tr th {\n",
       "        vertical-align: top;\n",
       "    }\n",
       "\n",
       "    .dataframe thead th {\n",
       "        text-align: right;\n",
       "    }\n",
       "</style>\n",
       "<table border=\"1\" class=\"dataframe\">\n",
       "  <thead>\n",
       "    <tr style=\"text-align: right;\">\n",
       "      <th></th>\n",
       "      <th>values</th>\n",
       "    </tr>\n",
       "  </thead>\n",
       "  <tbody>\n",
       "    <tr>\n",
       "      <th>radius_disk</th>\n",
       "      <td>0.5 meter</td>\n",
       "    </tr>\n",
       "    <tr>\n",
       "      <th>mass_disk</th>\n",
       "      <td>7 kilogram</td>\n",
       "    </tr>\n",
       "    <tr>\n",
       "      <th>radius_pot</th>\n",
       "      <td>0.3 meter</td>\n",
       "    </tr>\n",
       "    <tr>\n",
       "      <th>mass_pot</th>\n",
       "      <td>0.2 kilogram</td>\n",
       "    </tr>\n",
       "    <tr>\n",
       "      <th>force</th>\n",
       "      <td>1 newton</td>\n",
       "    </tr>\n",
       "    <tr>\n",
       "      <th>torque_friction</th>\n",
       "      <td>0.2 meter * newton</td>\n",
       "    </tr>\n",
       "    <tr>\n",
       "      <th>theta_end</th>\n",
       "      <td>0.5 radian</td>\n",
       "    </tr>\n",
       "    <tr>\n",
       "      <th>t_end</th>\n",
       "      <td>20 second</td>\n",
       "    </tr>\n",
       "  </tbody>\n",
       "</table>\n",
       "</div>"
      ],
      "text/plain": [
       "radius_disk                 0.5 meter\n",
       "mass_disk                  7 kilogram\n",
       "radius_pot                  0.3 meter\n",
       "mass_pot                 0.2 kilogram\n",
       "force                        1 newton\n",
       "torque_friction    0.2 meter * newton\n",
       "theta_end                  0.5 radian\n",
       "t_end                       20 second\n",
       "dtype: object"
      ]
     },
     "execution_count": 40,
     "metadata": {},
     "output_type": "execute_result"
    }
   ],
   "source": [
    "# Solution\n",
    "\n",
    "params2 = Params(params, mass_pot=0.2*kg, radius_pot=0.3*m)"
   ]
  },
  {
   "cell_type": "code",
   "execution_count": 41,
   "metadata": {},
   "outputs": [
    {
     "data": {
      "text/html": [
       "7.2 kilogram"
      ],
      "text/latex": [
       "$7.2\\ \\mathrm{kilogram}$"
      ],
      "text/plain": [
       "7.2 <Unit('kilogram')>"
      ]
     },
     "execution_count": 41,
     "metadata": {},
     "output_type": "execute_result"
    }
   ],
   "source": [
    "# Solution\n",
    "\n",
    "mass_after = params2.mass_pot + params2.mass_disk"
   ]
  },
  {
   "cell_type": "code",
   "execution_count": 42,
   "metadata": {},
   "outputs": [
    {
     "data": {
      "text/html": [
       "0.16623888611793522 meter newton"
      ],
      "text/latex": [
       "$0.16623888611793522\\ \\mathrm{meter} \\cdot \\mathrm{newton}$"
      ],
      "text/plain": [
       "0.16623888611793522 <Unit('meter * newton')>"
      ]
     },
     "execution_count": 42,
     "metadata": {},
     "output_type": "execute_result"
    }
   ],
   "source": [
    "# Solution\n",
    "\n",
    "torque_friction"
   ]
  },
  {
   "cell_type": "code",
   "execution_count": 43,
   "metadata": {},
   "outputs": [
    {
     "data": {
      "text/html": [
       "0.16396164110262107 meter newton"
      ],
      "text/latex": [
       "$0.16396164110262107\\ \\mathrm{meter} \\cdot \\mathrm{newton}$"
      ],
      "text/plain": [
       "0.16396164110262107 <Unit('meter * newton')>"
      ]
     },
     "execution_count": 43,
     "metadata": {},
     "output_type": "execute_result"
    }
   ],
   "source": [
    "# Solution\n",
    "\n",
    "torque_friction2 = torque_friction * mass_after / mass_before"
   ]
  },
  {
   "cell_type": "code",
   "execution_count": 44,
   "metadata": {},
   "outputs": [
    {
     "data": {
      "text/html": [
       "<div>\n",
       "<style scoped>\n",
       "    .dataframe tbody tr th:only-of-type {\n",
       "        vertical-align: middle;\n",
       "    }\n",
       "\n",
       "    .dataframe tbody tr th {\n",
       "        vertical-align: top;\n",
       "    }\n",
       "\n",
       "    .dataframe thead th {\n",
       "        text-align: right;\n",
       "    }\n",
       "</style>\n",
       "<table border=\"1\" class=\"dataframe\">\n",
       "  <thead>\n",
       "    <tr style=\"text-align: right;\">\n",
       "      <th></th>\n",
       "      <th>theta</th>\n",
       "      <th>omega</th>\n",
       "    </tr>\n",
       "  </thead>\n",
       "  <tbody>\n",
       "    <tr>\n",
       "      <th>5.630969</th>\n",
       "      <td>2.9973839879919186 radian</td>\n",
       "      <td>0.12061194274576453 radian / second</td>\n",
       "    </tr>\n",
       "    <tr>\n",
       "      <th>5.830969</th>\n",
       "      <td>3.0178342233248876 radian</td>\n",
       "      <td>0.0838904105839233 radian / second</td>\n",
       "    </tr>\n",
       "    <tr>\n",
       "      <th>6.030969</th>\n",
       "      <td>3.030940152225488 radian</td>\n",
       "      <td>0.04716887842208207 radian / second</td>\n",
       "    </tr>\n",
       "    <tr>\n",
       "      <th>6.230969</th>\n",
       "      <td>3.03670177469372 radian</td>\n",
       "      <td>0.010447346260240839 radian / second</td>\n",
       "    </tr>\n",
       "    <tr>\n",
       "      <th>6.287870</th>\n",
       "      <td>3.036251498073426 radian</td>\n",
       "      <td>0.0 radian / second</td>\n",
       "    </tr>\n",
       "  </tbody>\n",
       "</table>\n",
       "</div>"
      ],
      "text/plain": [
       "                              theta                                 omega\n",
       "5.630969  2.9973839879919186 radian   0.12061194274576453 radian / second\n",
       "5.830969  3.0178342233248876 radian    0.0838904105839233 radian / second\n",
       "6.030969   3.030940152225488 radian   0.04716887842208207 radian / second\n",
       "6.230969    3.03670177469372 radian  0.010447346260240839 radian / second\n",
       "6.287870   3.036251498073426 radian                   0.0 radian / second"
      ]
     },
     "execution_count": 44,
     "metadata": {},
     "output_type": "execute_result"
    }
   ],
   "source": [
    "# Solution\n",
    "\n",
    "guess = 2 * N\n",
    "results = run_two_phases(guess, torque_friction2, params2)\n",
    "results.tail()"
   ]
  },
  {
   "cell_type": "code",
   "execution_count": 45,
   "metadata": {},
   "outputs": [
    {
     "data": {
      "image/png": "[encoded data removed]",
      "text/plain": [
       "<Figure size 576x576 with 2 Axes>"
      ]
     },
     "metadata": {
      "needs_background": "light"
     },
     "output_type": "display_data"
    }
   ],
   "source": [
    "# Solution\n",
    "\n",
    "subplot(2, 1, 1)\n",
    "plot_theta(results)\n",
    "subplot(2, 1, 2)\n",
    "plot_omega(results)"
   ]
  },
  {
   "cell_type": "code",
   "execution_count": 46,
   "metadata": {},
   "outputs": [],
   "source": [
    "# Solution\n",
    "\n",
    "# Note: this is so similar to error_func2, it would be better\n",
    "# to generalize it, but for expediency, I will make a modified\n",
    "# verison.\n",
    "\n",
    "def error_func3(force, params):\n",
    "    \"\"\"Error function for root_scalar.\n",
    "    \n",
    "    force: hypothetical value\n",
    "    params: Params object\n",
    "    \n",
    "    returns: offset from target value\n",
    "    \"\"\"\n",
    "    # notice that this function uses the global value of torque_friction2\n",
    "    results = run_two_phases(force, torque_friction2, params)\n",
    "    theta_final = get_last_value(results.theta)\n",
    "    print(force, theta_final)\n",
    "    remaining_angle = np.pi * radian\n",
    "    return theta_final - remaining_angle"
   ]
  },
  {
   "cell_type": "code",
   "execution_count": 47,
   "metadata": {},
   "outputs": [
    {
     "name": "stdout",
     "output_type": "stream",
     "text": [
      "1 newton 1.521633703251964 radian\n"
     ]
    },
    {
     "data": {
      "text/html": [
       "-1.619958950337829 radian"
      ],
      "text/latex": [
       "$-1.619958950337829\\ \\mathrm{radian}$"
      ],
      "text/plain": [
       "-1.619958950337829 <Unit('radian')>"
      ]
     },
     "execution_count": 47,
     "metadata": {},
     "output_type": "execute_result"
    }
   ],
   "source": [
    "# Solution\n",
    "\n",
    "guess1 = 1 * N\n",
    "error_func3(guess1, params)"
   ]
  },
  {
   "cell_type": "code",
   "execution_count": 48,
   "metadata": {},
   "outputs": [
    {
     "name": "stdout",
     "output_type": "stream",
     "text": [
      "3 newton 4.544952149083414 radian\n"
     ]
    },
    {
     "data": {
      "text/html": [
       "1.4033594954936213 radian"
      ],
      "text/latex": [
       "$1.4033594954936213\\ \\mathrm{radian}$"
      ],
      "text/plain": [
       "1.4033594954936213 <Unit('radian')>"
      ]
     },
     "execution_count": 48,
     "metadata": {},
     "output_type": "execute_result"
    }
   ],
   "source": [
    "# Solution\n",
    "\n",
    "guess2 = 3 * N\n",
    "error_func3(guess2, params)"
   ]
  },
  {
   "cell_type": "code",
   "execution_count": 49,
   "metadata": {},
   "outputs": [
    {
     "name": "stdout",
     "output_type": "stream",
     "text": [
      "1 newton 1.5220674118848017 radian\n",
      "3 newton 4.555863285616827 radian\n",
      "2.0 newton 3.036251498073426 radian\n",
      "2.5 newton 3.7711230348952873 radian\n",
      "2.25 newton 3.410270734411078 radian\n",
      "2.125 newton 3.237449910464716 radian\n",
      "2.0625 newton 3.137756144960873 radian\n",
      "2.09375 newton 3.189525229335694 radian\n",
      "2.078125 newton 3.1637524234581544 radian\n",
      "2.0703125 newton 3.1507232783707426 radian\n",
      "2.06640625 newton 3.144231960206115 radian\n",
      "2.064453125 newton 3.1409921147185713 radian\n",
      "2.0654296875 newton 3.142611552996112 radian\n",
      "2.06494140625 newton 3.141801712740783 radian\n",
      "2.064697265625 newton 3.1413968834505375 radian\n",
      "2.0648193359375 newton 3.1415992905258765 radian\n",
      "2.06475830078125 newton 3.141498085095761 radian\n",
      "2.064788818359375 newton 3.1415486873377074 radian\n",
      "2.0648040771484375 newton 3.1415739888135135 radian\n",
      "2.0648117065429688 newton 3.141586639640125 radian\n",
      "2.0648155212402344 newton 3.1415929650756085 radian\n",
      "2.0648136138916016 newton 3.1415898023560187 radian\n",
      "2.064814567565918 newton 3.1415913837153515 radian\n",
      "2.064815044403076 newton 3.141592174395364 radian\n",
      "2.0648152828216553 newton 3.1415925697354568 radian\n",
      "2.064815402030945 newton 3.141592767405525 radian\n"
     ]
    },
    {
     "data": {
      "text/html": [
       "<div>\n",
       "<style scoped>\n",
       "    .dataframe tbody tr th:only-of-type {\n",
       "        vertical-align: middle;\n",
       "    }\n",
       "\n",
       "    .dataframe tbody tr th {\n",
       "        vertical-align: top;\n",
       "    }\n",
       "\n",
       "    .dataframe thead th {\n",
       "        text-align: right;\n",
       "    }\n",
       "</style>\n",
       "<table border=\"1\" class=\"dataframe\">\n",
       "  <thead>\n",
       "    <tr style=\"text-align: right;\">\n",
       "      <th></th>\n",
       "      <th>values</th>\n",
       "    </tr>\n",
       "  </thead>\n",
       "  <tbody>\n",
       "    <tr>\n",
       "      <th>converged</th>\n",
       "      <td>True</td>\n",
       "    </tr>\n",
       "    <tr>\n",
       "      <th>root</th>\n",
       "      <td>2.0648153424263 newton</td>\n",
       "    </tr>\n",
       "  </tbody>\n",
       "</table>\n",
       "</div>"
      ],
      "text/plain": [
       "converged                      True\n",
       "root         2.0648153424263 newton\n",
       "dtype: object"
      ]
     },
     "execution_count": 49,
     "metadata": {},
     "output_type": "execute_result"
    }
   ],
   "source": [
    "# Solution\n",
    "\n",
    "res = root_bisect(error_func3, [guess1, guess2], params2)"
   ]
  },
  {
   "cell_type": "code",
   "execution_count": 50,
   "metadata": {},
   "outputs": [
    {
     "name": "stdout",
     "output_type": "stream",
     "text": [
      "2.0648153424263 newton 3.135475479073576 radian\n"
     ]
    },
    {
     "data": {
      "text/html": [
       "-0.006117174516217183 radian"
      ],
      "text/latex": [
       "$-0.006117174516217183\\ \\mathrm{radian}$"
      ],
      "text/plain": [
       "-0.006117174516217183 <Unit('radian')>"
      ]
     },
     "execution_count": 50,
     "metadata": {},
     "output_type": "execute_result"
    }
   ],
   "source": [
    "# Solution\n",
    "\n",
    "error_func3(res.root, params)"
   ]
  },
  {
   "cell_type": "markdown",
   "metadata": {},
   "source": [
    "\n",
    "**Exercise:** Run these simulations with different values for the weight and size of the turntable, or weight and location of the teapot.  What effect do they have on the results?\n",
    "\n",
    "If you do some analysis, you might find that you can answer the original question without doing any simulation."
   ]
  }
 ],
 "metadata": {
  "kernelspec": {
   "display_name": "Python 3",
   "language": "python",
   "name": "python3"
  },
  "language_info": {
   "codemirror_mode": {
    "name": "ipython",
    "version": 3
   },
   "file_extension": ".py",
   "mimetype": "text/x-python",
   "name": "python",
   "nbconvert_exporter": "python",
   "pygments_lexer": "ipython3",
   "version": "3.7.3"
  }
 },
 "nbformat": 4,
 "nbformat_minor": 2
}
